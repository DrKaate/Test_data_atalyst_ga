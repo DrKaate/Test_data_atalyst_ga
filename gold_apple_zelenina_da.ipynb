{
 "cells": [
  {
   "cell_type": "markdown",
   "id": "741933cd",
   "metadata": {},
   "source": [
    "# <span style=\"color:#ADFF2F\">  Решение тестового задания на должность Data-аналитик в ЦО:</span>\n",
    "\n",
    "`Зеленина Екатерина`\n",
    "Контакты: [Telegram](https://t.me/zelenina.kate), ekzelenina98@mail.ru, +79129727900\n",
    "\n",
    "[Задача 1](#1)\n",
    "\n",
    "[Задача 2](#2)\n",
    "\n",
    "[Задача 3](#3)\n",
    "\n",
    "[Задача 4](#4)\n",
    "\n",
    "\n",
    "<a id='1'></a>\n",
    "## Задача 1\n",
    "### Провести мониторинг позиций, подготовить индекс цен по конкурентам, предложить изменение наценок с учётом того, что стратегия встать в минимальную цену на рынке.\n",
    "### На основе статистики скидок и количества продаж по данным позициям, дать предложение по размеру скидки, чтобы увеличить продажи в 2 раза."
   ]
  },
  {
   "cell_type": "code",
   "execution_count": 26,
   "id": "91835dcd",
   "metadata": {},
   "outputs": [],
   "source": [
    "import pandas as pd\n",
    "import numpy as np\n",
    "import pylab as pl\n",
    "from datetime import datetime, timedelta\n",
    "from matplotlib import pyplot as plt\n",
    "import plotly.express as px\n",
    "import seaborn as sns"
   ]
  },
  {
   "cell_type": "code",
   "execution_count": 27,
   "id": "b77c9be4",
   "metadata": {},
   "outputs": [
    {
     "data": {
      "text/html": [
       "<div>\n",
       "<style scoped>\n",
       "    .dataframe tbody tr th:only-of-type {\n",
       "        vertical-align: middle;\n",
       "    }\n",
       "\n",
       "    .dataframe tbody tr th {\n",
       "        vertical-align: top;\n",
       "    }\n",
       "\n",
       "    .dataframe thead th {\n",
       "        text-align: right;\n",
       "    }\n",
       "</style>\n",
       "<table border=\"1\" class=\"dataframe\">\n",
       "  <thead>\n",
       "    <tr style=\"text-align: right;\">\n",
       "      <th></th>\n",
       "      <th>Бренд</th>\n",
       "      <th>Код товара</th>\n",
       "      <th>Наименование товара</th>\n",
       "      <th>Цена закупки товара</th>\n",
       "      <th>Цена Золотое яблоко 24.03</th>\n",
       "      <th>без скидки Золотое яблоко 24.03</th>\n",
       "      <th>Скидка Золотое яблоко</th>\n",
       "      <th>Цена Летуаль 24.03</th>\n",
       "      <th>без скидки Летуаль 24.03</th>\n",
       "      <th>Летуаль ЗЯ</th>\n",
       "      <th>Цена РивГош 24.04</th>\n",
       "      <th>без скидки РивГош 24.03</th>\n",
       "      <th>РивГош ЗЯ</th>\n",
       "      <th>Цена Озон 24.05</th>\n",
       "      <th>без скидки Озон 24.03</th>\n",
       "      <th>Озон ЗЯ</th>\n",
       "      <th>Цена Вайлдберрис 24.06</th>\n",
       "      <th>без скидки Вайлдберрис 24.03</th>\n",
       "      <th>Скидка Вайлдберрис</th>\n",
       "    </tr>\n",
       "  </thead>\n",
       "  <tbody>\n",
       "    <tr>\n",
       "      <th>0</th>\n",
       "      <td>Vivienne Sabo</td>\n",
       "      <td>3226300004</td>\n",
       "      <td>Vivienne Sabo Карандаш д/бровей РегаCrayon Sou...</td>\n",
       "      <td>180.53</td>\n",
       "      <td>329</td>\n",
       "      <td>498</td>\n",
       "      <td>0.34</td>\n",
       "      <td>329</td>\n",
       "      <td>329</td>\n",
       "      <td>1.82</td>\n",
       "      <td>329</td>\n",
       "      <td>495</td>\n",
       "      <td>1.00</td>\n",
       "      <td>328</td>\n",
       "      <td>497</td>\n",
       "      <td>1.00</td>\n",
       "      <td>328</td>\n",
       "      <td>498</td>\n",
       "      <td>1.00</td>\n",
       "    </tr>\n",
       "    <tr>\n",
       "      <th>1</th>\n",
       "      <td>Shiseido</td>\n",
       "      <td>15111300017</td>\n",
       "      <td>SHISEIDO Future Solution LX Сыворотка д/здоров...</td>\n",
       "      <td>14919.36</td>\n",
       "      <td>21775</td>\n",
       "      <td>43550</td>\n",
       "      <td>0.50</td>\n",
       "      <td>50699</td>\n",
       "      <td>50699</td>\n",
       "      <td>3.40</td>\n",
       "      <td>24999</td>\n",
       "      <td>50700</td>\n",
       "      <td>1.15</td>\n",
       "      <td>11668</td>\n",
       "      <td>21005</td>\n",
       "      <td>0.54</td>\n",
       "      <td>27014</td>\n",
       "      <td>89990</td>\n",
       "      <td>1.24</td>\n",
       "    </tr>\n",
       "    <tr>\n",
       "      <th>2</th>\n",
       "      <td>Shiseido</td>\n",
       "      <td>15111300006</td>\n",
       "      <td>SHISEIDO Крем для тела восстанавливающий FUTUR...</td>\n",
       "      <td>6197.27</td>\n",
       "      <td>15795</td>\n",
       "      <td>21060</td>\n",
       "      <td>0.25</td>\n",
       "      <td>10875</td>\n",
       "      <td>14500</td>\n",
       "      <td>1.75</td>\n",
       "      <td>9999</td>\n",
       "      <td>26450</td>\n",
       "      <td>0.63</td>\n",
       "      <td>22602</td>\n",
       "      <td>31692</td>\n",
       "      <td>1.43</td>\n",
       "      <td>13672</td>\n",
       "      <td>64100</td>\n",
       "      <td>0.87</td>\n",
       "    </tr>\n",
       "  </tbody>\n",
       "</table>\n",
       "</div>"
      ],
      "text/plain": [
       "           Бренд   Код товара  \\\n",
       "0  Vivienne Sabo   3226300004   \n",
       "1       Shiseido  15111300017   \n",
       "2       Shiseido  15111300006   \n",
       "\n",
       "                                 Наименование товара  Цена закупки товара  \\\n",
       "0  Vivienne Sabo Карандаш д/бровей РегаCrayon Sou...               180.53   \n",
       "1  SHISEIDO Future Solution LX Сыворотка д/здоров...             14919.36   \n",
       "2  SHISEIDO Крем для тела восстанавливающий FUTUR...              6197.27   \n",
       "\n",
       "   Цена Золотое яблоко 24.03  без скидки Золотое яблоко 24.03  \\\n",
       "0                        329                              498   \n",
       "1                      21775                            43550   \n",
       "2                      15795                            21060   \n",
       "\n",
       "   Скидка Золотое яблоко   Цена Летуаль 24.03  без скидки Летуаль 24.03  \\\n",
       "0                    0.34                 329                       329   \n",
       "1                    0.50               50699                     50699   \n",
       "2                    0.25               10875                     14500   \n",
       "\n",
       "   Летуаль ЗЯ  Цена РивГош 24.04  без скидки РивГош 24.03  РивГош ЗЯ  \\\n",
       "0        1.82                329                      495       1.00   \n",
       "1        3.40              24999                    50700       1.15   \n",
       "2        1.75               9999                    26450       0.63   \n",
       "\n",
       "   Цена Озон 24.05  без скидки Озон 24.03  Озон ЗЯ  Цена Вайлдберрис 24.06  \\\n",
       "0              328                    497     1.00                     328   \n",
       "1            11668                  21005     0.54                   27014   \n",
       "2            22602                  31692     1.43                   13672   \n",
       "\n",
       "   без скидки Вайлдберрис 24.03  Скидка Вайлдберрис   \n",
       "0                           498                 1.00  \n",
       "1                         89990                 1.24  \n",
       "2                         64100                 0.87  "
      ]
     },
     "execution_count": 27,
     "metadata": {},
     "output_type": "execute_result"
    }
   ],
   "source": [
    "df_t11 = pd.read_excel('/Users/andrey/Desktop/Kate/jup/notebook_project/GA_Zelenina_test/task_1.1.xlsx')\n",
    "\n",
    "pd.set_option('display.max_columns', None)\n",
    "pd.options.display.float_format = '{:.2f}'.format\n",
    "df_t11.head(3)"
   ]
  },
  {
   "cell_type": "code",
   "execution_count": 28,
   "id": "9a5f8399",
   "metadata": {},
   "outputs": [
    {
     "name": "stdout",
     "output_type": "stream",
     "text": [
      "<class 'pandas.core.frame.DataFrame'>\n",
      "RangeIndex: 10 entries, 0 to 9\n",
      "Data columns (total 19 columns):\n",
      " #   Column                           Non-Null Count  Dtype  \n",
      "---  ------                           --------------  -----  \n",
      " 0   Бренд                            10 non-null     object \n",
      " 1   Код товара                       10 non-null     int64  \n",
      " 2   Наименование товара              10 non-null     object \n",
      " 3   Цена закупки товара              10 non-null     float64\n",
      " 4   Цена Золотое яблоко 24.03        10 non-null     int64  \n",
      " 5   без скидки Золотое яблоко 24.03  10 non-null     int64  \n",
      " 6   Скидка Золотое яблоко            10 non-null     float64\n",
      " 7   Цена Летуаль 24.03               10 non-null     int64  \n",
      " 8   без скидки Летуаль 24.03         10 non-null     int64  \n",
      " 9   Летуаль ЗЯ                       10 non-null     float64\n",
      " 10  Цена РивГош 24.04                10 non-null     int64  \n",
      " 11  без скидки РивГош 24.03          10 non-null     int64  \n",
      " 12  РивГош ЗЯ                        10 non-null     float64\n",
      " 13  Цена Озон 24.05                  10 non-null     int64  \n",
      " 14  без скидки Озон 24.03            10 non-null     int64  \n",
      " 15  Озон ЗЯ                          10 non-null     float64\n",
      " 16  Цена Вайлдберрис 24.06           10 non-null     int64  \n",
      " 17  без скидки Вайлдберрис 24.03     10 non-null     int64  \n",
      " 18  Скидка Вайлдберрис               10 non-null     float64\n",
      "dtypes: float64(6), int64(11), object(2)\n",
      "memory usage: 1.6+ KB\n"
     ]
    }
   ],
   "source": [
    "df_t11.info()"
   ]
  },
  {
   "cell_type": "code",
   "execution_count": 29,
   "id": "61b192b2",
   "metadata": {},
   "outputs": [
    {
     "data": {
      "text/html": [
       "<div>\n",
       "<style scoped>\n",
       "    .dataframe tbody tr th:only-of-type {\n",
       "        vertical-align: middle;\n",
       "    }\n",
       "\n",
       "    .dataframe tbody tr th {\n",
       "        vertical-align: top;\n",
       "    }\n",
       "\n",
       "    .dataframe thead th {\n",
       "        text-align: right;\n",
       "    }\n",
       "</style>\n",
       "<table border=\"1\" class=\"dataframe\">\n",
       "  <thead>\n",
       "    <tr style=\"text-align: right;\">\n",
       "      <th></th>\n",
       "      <th>Бренд</th>\n",
       "      <th>Код товара</th>\n",
       "      <th>Наименование товара</th>\n",
       "      <th>Цена закупки товара</th>\n",
       "      <th>Цена Золотое яблоко 24.03</th>\n",
       "      <th>Цена Летуаль 24.03</th>\n",
       "      <th>Цена РивГош 24.04</th>\n",
       "      <th>Цена Озон 24.03</th>\n",
       "      <th>Цена Вайлдберрис 24.03</th>\n",
       "    </tr>\n",
       "  </thead>\n",
       "  <tbody>\n",
       "    <tr>\n",
       "      <th>0</th>\n",
       "      <td>Vivienne Sabo</td>\n",
       "      <td>3226300004</td>\n",
       "      <td>Vivienne Sabo Карандаш д/бровей РегаCrayon Sou...</td>\n",
       "      <td>180.53</td>\n",
       "      <td>329</td>\n",
       "      <td>329</td>\n",
       "      <td>329</td>\n",
       "      <td>328</td>\n",
       "      <td>328</td>\n",
       "    </tr>\n",
       "    <tr>\n",
       "      <th>1</th>\n",
       "      <td>Shiseido</td>\n",
       "      <td>15111300017</td>\n",
       "      <td>SHISEIDO Future Solution LX Сыворотка д/здоров...</td>\n",
       "      <td>14919.36</td>\n",
       "      <td>21775</td>\n",
       "      <td>50699</td>\n",
       "      <td>24999</td>\n",
       "      <td>11668</td>\n",
       "      <td>27014</td>\n",
       "    </tr>\n",
       "  </tbody>\n",
       "</table>\n",
       "</div>"
      ],
      "text/plain": [
       "           Бренд   Код товара  \\\n",
       "0  Vivienne Sabo   3226300004   \n",
       "1       Shiseido  15111300017   \n",
       "\n",
       "                                 Наименование товара  Цена закупки товара  \\\n",
       "0  Vivienne Sabo Карандаш д/бровей РегаCrayon Sou...               180.53   \n",
       "1  SHISEIDO Future Solution LX Сыворотка д/здоров...             14919.36   \n",
       "\n",
       "   Цена Золотое яблоко 24.03  Цена Летуаль 24.03  Цена РивГош 24.04  \\\n",
       "0                        329                 329                329   \n",
       "1                      21775               50699              24999   \n",
       "\n",
       "   Цена Озон 24.03  Цена Вайлдберрис 24.03  \n",
       "0              328                     328  \n",
       "1            11668                   27014  "
      ]
     },
     "execution_count": 29,
     "metadata": {},
     "output_type": "execute_result"
    }
   ],
   "source": [
    "df_price_all = df_t11[['Бренд', 'Код товара', 'Наименование товара', 'Цена закупки товара',\\\n",
    "                       'Цена Золотое яблоко 24.03','Цена Летуаль 24.03', 'Цена РивГош 24.04',\\\n",
    "                       'Цена Озон 24.05', 'Цена Вайлдберрис 24.06']]\n",
    "df_price_all = df_price_all.rename(columns={'Цена Озон 24.05': 'Цена Озон 24.03',\\\n",
    "                                            'Цена Вайлдберрис 24.06':'Цена Вайлдберрис 24.03'}) \n",
    "df_price_all.head(2)"
   ]
  },
  {
   "cell_type": "markdown",
   "id": "85923324",
   "metadata": {},
   "source": [
    "### Рассчитаем индекс цен для конкурентов\n",
    "Базовую цену, относительно которой будем производить расчет индекса цен возьмем равной цене товаров в Золотом Яблоке за 24.03.2024\n",
    "Цена 0 в датафрейме соответствует товару выведенному из продажи/не представленному в магазине."
   ]
  },
  {
   "cell_type": "code",
   "execution_count": 30,
   "id": "d3703c2b",
   "metadata": {},
   "outputs": [
    {
     "data": {
      "text/html": [
       "<div>\n",
       "<style scoped>\n",
       "    .dataframe tbody tr th:only-of-type {\n",
       "        vertical-align: middle;\n",
       "    }\n",
       "\n",
       "    .dataframe tbody tr th {\n",
       "        vertical-align: top;\n",
       "    }\n",
       "\n",
       "    .dataframe thead th {\n",
       "        text-align: right;\n",
       "    }\n",
       "</style>\n",
       "<table border=\"1\" class=\"dataframe\">\n",
       "  <thead>\n",
       "    <tr style=\"text-align: right;\">\n",
       "      <th></th>\n",
       "      <th>Бренд</th>\n",
       "      <th>Код товара</th>\n",
       "      <th>Наименование товара</th>\n",
       "      <th>Цена закупки товара</th>\n",
       "      <th>Цена Золотое яблоко 24.03</th>\n",
       "      <th>Цена Летуаль 24.03</th>\n",
       "      <th>Цена РивГош 24.04</th>\n",
       "      <th>Цена Озон 24.03</th>\n",
       "      <th>Цена Вайлдберрис 24.03</th>\n",
       "      <th>Летуаль иц</th>\n",
       "      <th>РивГош иц</th>\n",
       "      <th>Озон иц</th>\n",
       "      <th>Вайлдберрис иц</th>\n",
       "    </tr>\n",
       "  </thead>\n",
       "  <tbody>\n",
       "    <tr>\n",
       "      <th>0</th>\n",
       "      <td>Vivienne Sabo</td>\n",
       "      <td>3226300004</td>\n",
       "      <td>Vivienne Sabo Карандаш д/бровей РегаCrayon Sou...</td>\n",
       "      <td>180.53</td>\n",
       "      <td>329</td>\n",
       "      <td>329</td>\n",
       "      <td>329</td>\n",
       "      <td>328</td>\n",
       "      <td>328</td>\n",
       "      <td>1.00</td>\n",
       "      <td>1.00</td>\n",
       "      <td>1.00</td>\n",
       "      <td>1.00</td>\n",
       "    </tr>\n",
       "    <tr>\n",
       "      <th>1</th>\n",
       "      <td>Shiseido</td>\n",
       "      <td>15111300017</td>\n",
       "      <td>SHISEIDO Future Solution LX Сыворотка д/здоров...</td>\n",
       "      <td>14919.36</td>\n",
       "      <td>21775</td>\n",
       "      <td>50699</td>\n",
       "      <td>24999</td>\n",
       "      <td>11668</td>\n",
       "      <td>27014</td>\n",
       "      <td>2.33</td>\n",
       "      <td>1.15</td>\n",
       "      <td>0.54</td>\n",
       "      <td>1.24</td>\n",
       "    </tr>\n",
       "  </tbody>\n",
       "</table>\n",
       "</div>"
      ],
      "text/plain": [
       "           Бренд   Код товара  \\\n",
       "0  Vivienne Sabo   3226300004   \n",
       "1       Shiseido  15111300017   \n",
       "\n",
       "                                 Наименование товара  Цена закупки товара  \\\n",
       "0  Vivienne Sabo Карандаш д/бровей РегаCrayon Sou...               180.53   \n",
       "1  SHISEIDO Future Solution LX Сыворотка д/здоров...             14919.36   \n",
       "\n",
       "   Цена Золотое яблоко 24.03  Цена Летуаль 24.03  Цена РивГош 24.04  \\\n",
       "0                        329                 329                329   \n",
       "1                      21775               50699              24999   \n",
       "\n",
       "   Цена Озон 24.03  Цена Вайлдберрис 24.03  Летуаль иц  РивГош иц  Озон иц  \\\n",
       "0              328                     328        1.00       1.00     1.00   \n",
       "1            11668                   27014        2.33       1.15     0.54   \n",
       "\n",
       "   Вайлдберрис иц  \n",
       "0            1.00  \n",
       "1            1.24  "
      ]
     },
     "execution_count": 30,
     "metadata": {},
     "output_type": "execute_result"
    }
   ],
   "source": [
    "df_price_all['Летуаль иц'] = df_price_all['Цена Летуаль 24.03'] /df_price_all['Цена Золотое яблоко 24.03'] \n",
    "df_price_all['РивГош иц'] = df_price_all['Цена РивГош 24.04'] /df_price_all['Цена Золотое яблоко 24.03'] \n",
    "df_price_all['Озон иц'] = df_price_all['Цена Озон 24.03'] /df_price_all['Цена Золотое яблоко 24.03'] \n",
    "df_price_all['Вайлдберрис иц'] = df_price_all['Цена Вайлдберрис 24.03'] /df_price_all['Цена Золотое яблоко 24.03'] \n",
    "\n",
    "df_price_all.head(2)"
   ]
  },
  {
   "cell_type": "markdown",
   "id": "b0db7e75",
   "metadata": {},
   "source": [
    "Визуализируем индекс цен на тепловой карте:"
   ]
  },
  {
   "cell_type": "code",
   "execution_count": 31,
   "id": "11901d6c",
   "metadata": {},
   "outputs": [
    {
     "data": {
      "image/png": "[encoded data removed]",
      "text/plain": [
       "<Figure size 640x480 with 2 Axes>"
      ]
     },
     "metadata": {},
     "output_type": "display_data"
    }
   ],
   "source": [
    "df = pd.DataFrame(df_price_all,columns=['Летуаль иц','РивГош иц','Озон иц','Вайлдберрис иц'])\n",
    "df.index = df_price_all['Наименование товара']\n",
    "sns.heatmap(df, linewidths=.5, cmap='RdBu_r', annot=True)\n",
    "plt.title('Тепловая карта индекса цен', fontsize = 15);"
   ]
  },
  {
   "cell_type": "markdown",
   "id": "10dab92e",
   "metadata": {},
   "source": [
    "Исходя из тепловой карты видим, например:\n",
    "\n",
    "Vivienne Sabo Карандаш д/бровей 04 представлен по аналогичной цене у конкурентов. SHISEIDO Future Solution LX сыворотка на 54% дешевле в магазине Озон, у остальных конкурентов продукт представлен по большей цене (больше от 10-130%). Clarins Помада для губ Joli Rouge 3,5гр.тон.731 в магазинах Летуаль и РивГош не представлена, на Озон имеет аналогичную стоимость, на Вайлдберрис дороже на 20%.\n",
    "\n",
    "Исходя из того, что **наша стратегия - встать в минимальную цену на рынке**, определим минимальную цену для каждого товара и оценим возможность установления соответствующей цены."
   ]
  },
  {
   "cell_type": "code",
   "execution_count": 32,
   "id": "7c4e6a4c",
   "metadata": {},
   "outputs": [
    {
     "data": {
      "text/plain": [
       "Наименование товара\n",
       "Vivienne Sabo Карандаш д/бровей РегаCrayon Sourcils Automatique Brow Arcade 04          1.00\n",
       "SHISEIDO Future Solution LX Сыворотка д/здорового сияния кожи 30мл                      0.54\n",
       "SHISEIDO Крем для тела восстанавливающий FUTURE SOLUTION LX 200мл                       0.63\n",
       "Шисейдо Крем д/упругости бюста ароматический 75мл                                       0.50\n",
       "SHISEIDO Увлажняющий тонизирующий флюид 100мл                                           0.54\n",
       "Clarins Помада для губ Joli Rouge 3,5гр.тон.731                                         1.00\n",
       "Clarins Карандаш для глаз автоматический водостойкий Waterproof Pencil 0,29г тон 04     0.82\n",
       "CLARINS Крем тональный увлажняющий с матовым покрытием Skin Illusion Velvet 111N 30мл   0.69\n",
       "Vivienne Sabo Крем тональный со сценическим эффектом 07 25мл                            1.00\n",
       "CLARINS Крем тональный с эффектом сияния Milky Boost Cream 02.5 45мл                    0.82\n",
       "dtype: float64"
      ]
     },
     "execution_count": 32,
     "metadata": {},
     "output_type": "execute_result"
    }
   ],
   "source": [
    "def min_pi(row):\n",
    "    row_values = [value for value in row if value != 0 and value < 1 ]\n",
    "    if row_values:\n",
    "        return min(row_values)\n",
    "    else:\n",
    "        return 1 \n",
    "\n",
    "min_pi = df.apply(min_pi, axis=1)\n",
    "min_pi"
   ]
  },
  {
   "cell_type": "markdown",
   "id": "4dcc63aa",
   "metadata": {},
   "source": [
    "Выше представлен размер скидки для стратегии минимальной цены (1 соответствует товарам, для которых рекомендованная цена остается неизменной).\n",
    "\n",
    "\n",
    "Рассчитаем цены под стратегию и сравним с закупочными ценами.\n",
    "\n",
    "\n",
    "добавить фактичексе цены и рекомендованные с учетом стратегии\n",
    "\n",
    "добавить отпускную цену и вывести наценку по брендам \n",
    "Выведем минимальные индексы цен среди конкурентов для дальнейшей оценки стратегии:"
   ]
  },
  {
   "cell_type": "code",
   "execution_count": 33,
   "id": "f4a405b8",
   "metadata": {},
   "outputs": [
    {
     "data": {
      "text/html": [
       "<div>\n",
       "<style scoped>\n",
       "    .dataframe tbody tr th:only-of-type {\n",
       "        vertical-align: middle;\n",
       "    }\n",
       "\n",
       "    .dataframe tbody tr th {\n",
       "        vertical-align: top;\n",
       "    }\n",
       "\n",
       "    .dataframe thead th {\n",
       "        text-align: right;\n",
       "    }\n",
       "</style>\n",
       "<table border=\"1\" class=\"dataframe\">\n",
       "  <thead>\n",
       "    <tr style=\"text-align: right;\">\n",
       "      <th></th>\n",
       "      <th>Код товара</th>\n",
       "      <th>Наименование товара</th>\n",
       "      <th>Цена закупки товара</th>\n",
       "      <th>Рекомендованная цена</th>\n",
       "      <th>Цена Золотое яблоко 24.03</th>\n",
       "    </tr>\n",
       "  </thead>\n",
       "  <tbody>\n",
       "    <tr>\n",
       "      <th>0</th>\n",
       "      <td>3226300004</td>\n",
       "      <td>Vivienne Sabo Карандаш д/бровей РегаCrayon Sou...</td>\n",
       "      <td>180.53</td>\n",
       "      <td>328.00</td>\n",
       "      <td>329</td>\n",
       "    </tr>\n",
       "    <tr>\n",
       "      <th>1</th>\n",
       "      <td>15111300017</td>\n",
       "      <td>SHISEIDO Future Solution LX Сыворотка д/здоров...</td>\n",
       "      <td>14919.36</td>\n",
       "      <td>11668.00</td>\n",
       "      <td>21775</td>\n",
       "    </tr>\n",
       "    <tr>\n",
       "      <th>2</th>\n",
       "      <td>15111300006</td>\n",
       "      <td>SHISEIDO Крем для тела восстанавливающий FUTUR...</td>\n",
       "      <td>6197.27</td>\n",
       "      <td>9999.00</td>\n",
       "      <td>15795</td>\n",
       "    </tr>\n",
       "    <tr>\n",
       "      <th>3</th>\n",
       "      <td>15110900016</td>\n",
       "      <td>Шисейдо Крем д/упругости бюста ароматический 75мл</td>\n",
       "      <td>1019.62</td>\n",
       "      <td>2299.00</td>\n",
       "      <td>4600</td>\n",
       "    </tr>\n",
       "    <tr>\n",
       "      <th>4</th>\n",
       "      <td>19760336592</td>\n",
       "      <td>SHISEIDO Увлажняющий тонизирующий флюид 100мл</td>\n",
       "      <td>1759.72</td>\n",
       "      <td>3256.00</td>\n",
       "      <td>5980</td>\n",
       "    </tr>\n",
       "    <tr>\n",
       "      <th>5</th>\n",
       "      <td>14011400047</td>\n",
       "      <td>Clarins Помада для губ Joli Rouge 3,5гр.тон.731</td>\n",
       "      <td>958.78</td>\n",
       "      <td>3200.00</td>\n",
       "      <td>3200</td>\n",
       "    </tr>\n",
       "    <tr>\n",
       "      <th>6</th>\n",
       "      <td>14012900005</td>\n",
       "      <td>Clarins Карандаш для глаз автоматический водос...</td>\n",
       "      <td>719.08</td>\n",
       "      <td>1937.00</td>\n",
       "      <td>2350</td>\n",
       "    </tr>\n",
       "    <tr>\n",
       "      <th>7</th>\n",
       "      <td>19000013047</td>\n",
       "      <td>CLARINS Крем тональный увлажняющий с матовым п...</td>\n",
       "      <td>1558.01</td>\n",
       "      <td>3599.00</td>\n",
       "      <td>5200</td>\n",
       "    </tr>\n",
       "    <tr>\n",
       "      <th>8</th>\n",
       "      <td>3234800007</td>\n",
       "      <td>Vivienne Sabo Крем тональный со сценическим эф...</td>\n",
       "      <td>265.40</td>\n",
       "      <td>367.00</td>\n",
       "      <td>367</td>\n",
       "    </tr>\n",
       "    <tr>\n",
       "      <th>9</th>\n",
       "      <td>19000000363</td>\n",
       "      <td>CLARINS Крем тональный с эффектом сияния Milky...</td>\n",
       "      <td>1288.36</td>\n",
       "      <td>3504.00</td>\n",
       "      <td>4250</td>\n",
       "    </tr>\n",
       "  </tbody>\n",
       "</table>\n",
       "</div>"
      ],
      "text/plain": [
       "    Код товара                                Наименование товара  \\\n",
       "0   3226300004  Vivienne Sabo Карандаш д/бровей РегаCrayon Sou...   \n",
       "1  15111300017  SHISEIDO Future Solution LX Сыворотка д/здоров...   \n",
       "2  15111300006  SHISEIDO Крем для тела восстанавливающий FUTUR...   \n",
       "3  15110900016  Шисейдо Крем д/упругости бюста ароматический 75мл   \n",
       "4  19760336592      SHISEIDO Увлажняющий тонизирующий флюид 100мл   \n",
       "5  14011400047    Clarins Помада для губ Joli Rouge 3,5гр.тон.731   \n",
       "6  14012900005  Clarins Карандаш для глаз автоматический водос...   \n",
       "7  19000013047  CLARINS Крем тональный увлажняющий с матовым п...   \n",
       "8   3234800007  Vivienne Sabo Крем тональный со сценическим эф...   \n",
       "9  19000000363  CLARINS Крем тональный с эффектом сияния Milky...   \n",
       "\n",
       "   Цена закупки товара  Рекомендованная цена  Цена Золотое яблоко 24.03  \n",
       "0               180.53                328.00                        329  \n",
       "1             14919.36              11668.00                      21775  \n",
       "2              6197.27               9999.00                      15795  \n",
       "3              1019.62               2299.00                       4600  \n",
       "4              1759.72               3256.00                       5980  \n",
       "5               958.78               3200.00                       3200  \n",
       "6               719.08               1937.00                       2350  \n",
       "7              1558.01               3599.00                       5200  \n",
       "8               265.40                367.00                        367  \n",
       "9              1288.36               3504.00                       4250  "
      ]
     },
     "execution_count": 33,
     "metadata": {},
     "output_type": "execute_result"
    }
   ],
   "source": [
    "df_price_all['Рекомендованная цена']= df_price_all['Цена Золотое яблоко 24.03'] * min_pi.values\n",
    "recommended_price = df_price_all[['Код товара', 'Наименование товара','Цена закупки товара',\\\n",
    "                                  'Рекомендованная цена', 'Цена Золотое яблоко 24.03']]\n",
    "recommended_price"
   ]
  },
  {
   "cell_type": "markdown",
   "id": "d0efe984",
   "metadata": {},
   "source": [
    "Для Сыворотки `SHISEIDO Future Solution LX` рекомендованная цена оказалось ниже закупочной. Товар меньшей стоимости представлен на Вайлдберрис, в остальных магазинах цена выше, чем в Золотом Яблоке. Вероятно, низкая цена товара на Вайлдберрис может быть связана с его подлинностью. \n",
    "Поэтому для сыворотки `SHISEIDO Future Solution LX оставляем текущую цену`."
   ]
  },
  {
   "cell_type": "code",
   "execution_count": 34,
   "id": "59431aab",
   "metadata": {},
   "outputs": [
    {
     "data": {
      "text/html": [
       "<div>\n",
       "<style scoped>\n",
       "    .dataframe tbody tr th:only-of-type {\n",
       "        vertical-align: middle;\n",
       "    }\n",
       "\n",
       "    .dataframe tbody tr th {\n",
       "        vertical-align: top;\n",
       "    }\n",
       "\n",
       "    .dataframe thead th {\n",
       "        text-align: right;\n",
       "    }\n",
       "</style>\n",
       "<table border=\"1\" class=\"dataframe\">\n",
       "  <thead>\n",
       "    <tr style=\"text-align: right;\">\n",
       "      <th></th>\n",
       "      <th>Код товара</th>\n",
       "      <th>Наименование товара</th>\n",
       "      <th>Цена закупки товара</th>\n",
       "      <th>Рекомендованная цена</th>\n",
       "      <th>Цена Золотое яблоко 24.03</th>\n",
       "    </tr>\n",
       "  </thead>\n",
       "  <tbody>\n",
       "    <tr>\n",
       "      <th>0</th>\n",
       "      <td>3226300004</td>\n",
       "      <td>Vivienne Sabo Карандаш д/бровей РегаCrayon Sou...</td>\n",
       "      <td>180.53</td>\n",
       "      <td>328.00</td>\n",
       "      <td>329</td>\n",
       "    </tr>\n",
       "    <tr>\n",
       "      <th>1</th>\n",
       "      <td>15111300017</td>\n",
       "      <td>SHISEIDO Future Solution LX Сыворотка д/здоров...</td>\n",
       "      <td>14919.36</td>\n",
       "      <td>21775.00</td>\n",
       "      <td>21775</td>\n",
       "    </tr>\n",
       "    <tr>\n",
       "      <th>2</th>\n",
       "      <td>15111300006</td>\n",
       "      <td>SHISEIDO Крем для тела восстанавливающий FUTUR...</td>\n",
       "      <td>6197.27</td>\n",
       "      <td>9999.00</td>\n",
       "      <td>15795</td>\n",
       "    </tr>\n",
       "    <tr>\n",
       "      <th>3</th>\n",
       "      <td>15110900016</td>\n",
       "      <td>Шисейдо Крем д/упругости бюста ароматический 75мл</td>\n",
       "      <td>1019.62</td>\n",
       "      <td>2299.00</td>\n",
       "      <td>4600</td>\n",
       "    </tr>\n",
       "    <tr>\n",
       "      <th>4</th>\n",
       "      <td>19760336592</td>\n",
       "      <td>SHISEIDO Увлажняющий тонизирующий флюид 100мл</td>\n",
       "      <td>1759.72</td>\n",
       "      <td>3256.00</td>\n",
       "      <td>5980</td>\n",
       "    </tr>\n",
       "    <tr>\n",
       "      <th>5</th>\n",
       "      <td>14011400047</td>\n",
       "      <td>Clarins Помада для губ Joli Rouge 3,5гр.тон.731</td>\n",
       "      <td>958.78</td>\n",
       "      <td>3200.00</td>\n",
       "      <td>3200</td>\n",
       "    </tr>\n",
       "    <tr>\n",
       "      <th>6</th>\n",
       "      <td>14012900005</td>\n",
       "      <td>Clarins Карандаш для глаз автоматический водос...</td>\n",
       "      <td>719.08</td>\n",
       "      <td>1937.00</td>\n",
       "      <td>2350</td>\n",
       "    </tr>\n",
       "    <tr>\n",
       "      <th>7</th>\n",
       "      <td>19000013047</td>\n",
       "      <td>CLARINS Крем тональный увлажняющий с матовым п...</td>\n",
       "      <td>1558.01</td>\n",
       "      <td>3599.00</td>\n",
       "      <td>5200</td>\n",
       "    </tr>\n",
       "    <tr>\n",
       "      <th>8</th>\n",
       "      <td>3234800007</td>\n",
       "      <td>Vivienne Sabo Крем тональный со сценическим эф...</td>\n",
       "      <td>265.40</td>\n",
       "      <td>367.00</td>\n",
       "      <td>367</td>\n",
       "    </tr>\n",
       "    <tr>\n",
       "      <th>9</th>\n",
       "      <td>19000000363</td>\n",
       "      <td>CLARINS Крем тональный с эффектом сияния Milky...</td>\n",
       "      <td>1288.36</td>\n",
       "      <td>3504.00</td>\n",
       "      <td>4250</td>\n",
       "    </tr>\n",
       "  </tbody>\n",
       "</table>\n",
       "</div>"
      ],
      "text/plain": [
       "    Код товара                                Наименование товара  \\\n",
       "0   3226300004  Vivienne Sabo Карандаш д/бровей РегаCrayon Sou...   \n",
       "1  15111300017  SHISEIDO Future Solution LX Сыворотка д/здоров...   \n",
       "2  15111300006  SHISEIDO Крем для тела восстанавливающий FUTUR...   \n",
       "3  15110900016  Шисейдо Крем д/упругости бюста ароматический 75мл   \n",
       "4  19760336592      SHISEIDO Увлажняющий тонизирующий флюид 100мл   \n",
       "5  14011400047    Clarins Помада для губ Joli Rouge 3,5гр.тон.731   \n",
       "6  14012900005  Clarins Карандаш для глаз автоматический водос...   \n",
       "7  19000013047  CLARINS Крем тональный увлажняющий с матовым п...   \n",
       "8   3234800007  Vivienne Sabo Крем тональный со сценическим эф...   \n",
       "9  19000000363  CLARINS Крем тональный с эффектом сияния Milky...   \n",
       "\n",
       "   Цена закупки товара  Рекомендованная цена  Цена Золотое яблоко 24.03  \n",
       "0               180.53                328.00                        329  \n",
       "1             14919.36              21775.00                      21775  \n",
       "2              6197.27               9999.00                      15795  \n",
       "3              1019.62               2299.00                       4600  \n",
       "4              1759.72               3256.00                       5980  \n",
       "5               958.78               3200.00                       3200  \n",
       "6               719.08               1937.00                       2350  \n",
       "7              1558.01               3599.00                       5200  \n",
       "8               265.40                367.00                        367  \n",
       "9              1288.36               3504.00                       4250  "
      ]
     },
     "execution_count": 34,
     "metadata": {},
     "output_type": "execute_result"
    }
   ],
   "source": [
    "recommended_price.iat[1, 3] = 21775\n",
    "recommended_price"
   ]
  },
  {
   "cell_type": "code",
   "execution_count": 35,
   "id": "e0067707",
   "metadata": {},
   "outputs": [
    {
     "data": {
      "text/plain": [
       "Наименование товара\n",
       "Vivienne Sabo Карандаш д/бровей РегаCrayon Sourcils Automatique Brow Arcade 04             1.00\n",
       "SHISEIDO Future Solution LX Сыворотка д/здорового сияния кожи 30мл                         0.00\n",
       "SHISEIDO Крем для тела восстанавливающий FUTURE SOLUTION LX 200мл                       5796.00\n",
       "Шисейдо Крем д/упругости бюста ароматический 75мл                                       2301.00\n",
       "SHISEIDO Увлажняющий тонизирующий флюид 100мл                                           2724.00\n",
       "Clarins Помада для губ Joli Rouge 3,5гр.тон.731                                            0.00\n",
       "Clarins Карандаш для глаз автоматический водостойкий Waterproof Pencil 0,29г тон 04      413.00\n",
       "CLARINS Крем тональный увлажняющий с матовым покрытием Skin Illusion Velvet 111N 30мл   1601.00\n",
       "Vivienne Sabo Крем тональный со сценическим эффектом 07 25мл                               0.00\n",
       "CLARINS Крем тональный с эффектом сияния Milky Boost Cream 02.5 45мл                     746.00\n",
       "dtype: float64"
      ]
     },
     "execution_count": 35,
     "metadata": {},
     "output_type": "execute_result"
    }
   ],
   "source": [
    "markup_to_min_price = recommended_price['Цена Золотое яблоко 24.03'] - recommended_price['Рекомендованная цена']\n",
    "markup_to_min_price.index = recommended_price['Наименование товара']\n",
    "markup_to_min_price"
   ]
  },
  {
   "cell_type": "markdown",
   "id": "fcb8025e",
   "metadata": {},
   "source": [
    "**С учетом выбранной стратегии предложение снизить наценку для товаров на значения, представленные выше(в рублях). Для достижения уровня рекомендованной цены.**\n",
    "\n",
    "**При указанных значениях мы займем минимальную цену на рынке среди конкурентов (Летуаль, РивГош, Озон, Вайлдберрис)**\n",
    "\n",
    "`* Необходим дополнительный анализ с оценкой маржинальности для каждого бренда с учетом рекомендованной цены`\n"
   ]
  },
  {
   "cell_type": "markdown",
   "id": "bbb8d151",
   "metadata": {},
   "source": [
    "### Исследуем исторические данные по интересующим нас брендам"
   ]
  },
  {
   "cell_type": "code",
   "execution_count": 36,
   "id": "79a2bc70",
   "metadata": {},
   "outputs": [
    {
     "data": {
      "text/html": [
       "<div>\n",
       "<style scoped>\n",
       "    .dataframe tbody tr th:only-of-type {\n",
       "        vertical-align: middle;\n",
       "    }\n",
       "\n",
       "    .dataframe tbody tr th {\n",
       "        vertical-align: top;\n",
       "    }\n",
       "\n",
       "    .dataframe thead th {\n",
       "        text-align: right;\n",
       "    }\n",
       "</style>\n",
       "<table border=\"1\" class=\"dataframe\">\n",
       "  <thead>\n",
       "    <tr style=\"text-align: right;\">\n",
       "      <th></th>\n",
       "      <th>Дата</th>\n",
       "      <th>Код товара</th>\n",
       "      <th>Количество продано</th>\n",
       "      <th>Розничная цена</th>\n",
       "      <th>Цена с учётом скидки</th>\n",
       "    </tr>\n",
       "  </thead>\n",
       "  <tbody>\n",
       "    <tr>\n",
       "      <th>0</th>\n",
       "      <td>2021-06-01</td>\n",
       "      <td>3226300004</td>\n",
       "      <td>9</td>\n",
       "      <td>271</td>\n",
       "      <td>271.00</td>\n",
       "    </tr>\n",
       "    <tr>\n",
       "      <th>1</th>\n",
       "      <td>2021-06-02</td>\n",
       "      <td>3226300004</td>\n",
       "      <td>15</td>\n",
       "      <td>271</td>\n",
       "      <td>271.00</td>\n",
       "    </tr>\n",
       "    <tr>\n",
       "      <th>2</th>\n",
       "      <td>2021-06-03</td>\n",
       "      <td>3226300004</td>\n",
       "      <td>12</td>\n",
       "      <td>271</td>\n",
       "      <td>216.80</td>\n",
       "    </tr>\n",
       "  </tbody>\n",
       "</table>\n",
       "</div>"
      ],
      "text/plain": [
       "        Дата  Код товара  Количество продано  Розничная цена  \\\n",
       "0 2021-06-01  3226300004                   9             271   \n",
       "1 2021-06-02  3226300004                  15             271   \n",
       "2 2021-06-03  3226300004                  12             271   \n",
       "\n",
       "   Цена с учётом скидки  \n",
       "0                271.00  \n",
       "1                271.00  \n",
       "2                216.80  "
      ]
     },
     "execution_count": 36,
     "metadata": {},
     "output_type": "execute_result"
    }
   ],
   "source": [
    "df_t12 = pd.read_excel('/Users/andrey/Desktop/Kate/jup/notebook_project/GA_Zelenina_test/task_1.2.xlsx')\n",
    "\n",
    "pd.set_option('display.max_columns', None)\n",
    "pd.options.display.float_format = '{:.2f}'.format\n",
    "df_t12.head(3)"
   ]
  },
  {
   "cell_type": "code",
   "execution_count": 37,
   "id": "2cab7ce0",
   "metadata": {},
   "outputs": [
    {
     "data": {
      "text/html": [
       "<div>\n",
       "<style scoped>\n",
       "    .dataframe tbody tr th:only-of-type {\n",
       "        vertical-align: middle;\n",
       "    }\n",
       "\n",
       "    .dataframe tbody tr th {\n",
       "        vertical-align: top;\n",
       "    }\n",
       "\n",
       "    .dataframe thead th {\n",
       "        text-align: right;\n",
       "    }\n",
       "</style>\n",
       "<table border=\"1\" class=\"dataframe\">\n",
       "  <thead>\n",
       "    <tr style=\"text-align: right;\">\n",
       "      <th></th>\n",
       "      <th>Дата</th>\n",
       "      <th>Код товара</th>\n",
       "      <th>Количество продано</th>\n",
       "      <th>Розничная цена</th>\n",
       "      <th>Цена с учётом скидки</th>\n",
       "      <th>Скидка</th>\n",
       "    </tr>\n",
       "  </thead>\n",
       "  <tbody>\n",
       "    <tr>\n",
       "      <th>0</th>\n",
       "      <td>2021-06-01</td>\n",
       "      <td>3226300004</td>\n",
       "      <td>9</td>\n",
       "      <td>271</td>\n",
       "      <td>271.00</td>\n",
       "      <td>0.00</td>\n",
       "    </tr>\n",
       "    <tr>\n",
       "      <th>1</th>\n",
       "      <td>2021-06-02</td>\n",
       "      <td>3226300004</td>\n",
       "      <td>15</td>\n",
       "      <td>271</td>\n",
       "      <td>271.00</td>\n",
       "      <td>0.00</td>\n",
       "    </tr>\n",
       "    <tr>\n",
       "      <th>2</th>\n",
       "      <td>2021-06-03</td>\n",
       "      <td>3226300004</td>\n",
       "      <td>12</td>\n",
       "      <td>271</td>\n",
       "      <td>216.80</td>\n",
       "      <td>0.20</td>\n",
       "    </tr>\n",
       "    <tr>\n",
       "      <th>3</th>\n",
       "      <td>2021-06-04</td>\n",
       "      <td>3226300004</td>\n",
       "      <td>17</td>\n",
       "      <td>271</td>\n",
       "      <td>216.80</td>\n",
       "      <td>0.20</td>\n",
       "    </tr>\n",
       "    <tr>\n",
       "      <th>4</th>\n",
       "      <td>2021-06-05</td>\n",
       "      <td>3226300004</td>\n",
       "      <td>13</td>\n",
       "      <td>271</td>\n",
       "      <td>216.80</td>\n",
       "      <td>0.20</td>\n",
       "    </tr>\n",
       "    <tr>\n",
       "      <th>5</th>\n",
       "      <td>2021-06-06</td>\n",
       "      <td>3226300004</td>\n",
       "      <td>18</td>\n",
       "      <td>271</td>\n",
       "      <td>216.80</td>\n",
       "      <td>0.20</td>\n",
       "    </tr>\n",
       "  </tbody>\n",
       "</table>\n",
       "</div>"
      ],
      "text/plain": [
       "        Дата  Код товара  Количество продано  Розничная цена  \\\n",
       "0 2021-06-01  3226300004                   9             271   \n",
       "1 2021-06-02  3226300004                  15             271   \n",
       "2 2021-06-03  3226300004                  12             271   \n",
       "3 2021-06-04  3226300004                  17             271   \n",
       "4 2021-06-05  3226300004                  13             271   \n",
       "5 2021-06-06  3226300004                  18             271   \n",
       "\n",
       "   Цена с учётом скидки  Скидка  \n",
       "0                271.00    0.00  \n",
       "1                271.00    0.00  \n",
       "2                216.80    0.20  \n",
       "3                216.80    0.20  \n",
       "4                216.80    0.20  \n",
       "5                216.80    0.20  "
      ]
     },
     "execution_count": 37,
     "metadata": {},
     "output_type": "execute_result"
    }
   ],
   "source": [
    "df_t12['Скидка'] = 1 -(df_t12['Цена с учётом скидки']/df_t12['Розничная цена'])\n",
    "df_t12.head(6)"
   ]
  },
  {
   "cell_type": "code",
   "execution_count": 38,
   "id": "1926b191",
   "metadata": {},
   "outputs": [
    {
     "data": {
      "image/png": "[encoded data removed]",
      "text/plain": [
       "<Figure size 1500x500 with 1 Axes>"
      ]
     },
     "metadata": {},
     "output_type": "display_data"
    }
   ],
   "source": [
    "#Построим график зависимости продаж от скидки\n",
    "df_t12.pivot_table(\n",
    "    index='Скидка',\n",
    "    columns='Код товара',  \n",
    "    values='Количество продано',    \n",
    ").plot(figsize=(15, 5), grid=True)\n",
    "\n",
    "plt.show()"
   ]
  },
  {
   "cell_type": "markdown",
   "id": "c1bf2a64",
   "metadata": {},
   "source": [
    "Максимальная скидка за исследуемый период составляла 40%.\n",
    "\n",
    "При этом, динамика продаж при скидке на уровне 20-25% положительная для всех товаров, к которым применялась такая скидка. Продажи при этом увеличивваются почти в 2 раза. \n",
    "C ростом скидки с 10 до 15% продажи снижаются. Возможно, это связано с сезонностью, изменениями конкурентного рынка или другими показателями.\n",
    "\n",
    "Интересно отметить, что сточки зрения увеличения продаж, самый привлекательный диапазон скидок 20-25% для всех товаров, на остальных участках продажи растут не так активно или снижаются."
   ]
  },
  {
   "cell_type": "markdown",
   "id": "9d041844",
   "metadata": {},
   "source": [
    "Мы предполагаем, что скидка в объеме 20-25% будет положительно влиять на количество продаж (~ в 2 раза), однако, доступных нам данных недостаточно для заключения.\n",
    "\n",
    "`Для точного результата необходимо построение модели ценовой эластичности с помощью методов машинного обучения.` Модель позволяет найти оптимальное соотношение цены (в том числе необходмый %скидки) и количества продаж, позволяющее увеличить прибыль. Кроме того, при моделировании, стоит учесть и другие факторы, например: влияние конкурентов, маркетинговую активность, сезонность(например средства защиты от солнца) и др. "
   ]
  },
  {
   "cell_type": "markdown",
   "id": "cd2ccabe",
   "metadata": {},
   "source": [
    "<a id='2'></a>\n",
    "## Задача 2\n",
    "- Проанализировать продажи в разрезе брендов за прошлую и позапрошлую недели, написать короткую аналитическую записику об изменениях и их причинах по выручке и маржинальности.\n",
    "- Как изменилась маржинальность продаж в целом и какие основные факторы на это повлияли, какое действие может дать \"быстрый\" результат?"
   ]
  },
  {
   "cell_type": "code",
   "execution_count": 39,
   "id": "b4c54810",
   "metadata": {},
   "outputs": [],
   "source": [
    "import pandas as pd\n",
    "import numpy as np\n",
    "import pylab as pl\n",
    "from datetime import datetime, timedelta\n",
    "from matplotlib import pyplot as plt\n",
    "import plotly.express as px\n",
    "import seaborn as sns"
   ]
  },
  {
   "cell_type": "code",
   "execution_count": 40,
   "id": "1d30e0f7",
   "metadata": {},
   "outputs": [
    {
     "data": {
      "text/html": [
       "<div>\n",
       "<style scoped>\n",
       "    .dataframe tbody tr th:only-of-type {\n",
       "        vertical-align: middle;\n",
       "    }\n",
       "\n",
       "    .dataframe tbody tr th {\n",
       "        vertical-align: top;\n",
       "    }\n",
       "\n",
       "    .dataframe thead th {\n",
       "        text-align: right;\n",
       "    }\n",
       "</style>\n",
       "<table border=\"1\" class=\"dataframe\">\n",
       "  <thead>\n",
       "    <tr style=\"text-align: right;\">\n",
       "      <th></th>\n",
       "      <th>Бренд AX 1</th>\n",
       "      <th>Неделя</th>\n",
       "      <th>Выручка</th>\n",
       "      <th>Маржинальность</th>\n",
       "    </tr>\n",
       "  </thead>\n",
       "  <tbody>\n",
       "    <tr>\n",
       "      <th>0</th>\n",
       "      <td>Shiseido</td>\n",
       "      <td>14</td>\n",
       "      <td>1353685520.77</td>\n",
       "      <td>0.17</td>\n",
       "    </tr>\n",
       "    <tr>\n",
       "      <th>1</th>\n",
       "      <td>Clarins</td>\n",
       "      <td>14</td>\n",
       "      <td>1329934371.92</td>\n",
       "      <td>0.09</td>\n",
       "    </tr>\n",
       "    <tr>\n",
       "      <th>2</th>\n",
       "      <td>Shiseido</td>\n",
       "      <td>15</td>\n",
       "      <td>1267702457.57</td>\n",
       "      <td>0.17</td>\n",
       "    </tr>\n",
       "    <tr>\n",
       "      <th>3</th>\n",
       "      <td>Clarins</td>\n",
       "      <td>15</td>\n",
       "      <td>974711947.75</td>\n",
       "      <td>0.15</td>\n",
       "    </tr>\n",
       "    <tr>\n",
       "      <th>4</th>\n",
       "      <td>Clinique</td>\n",
       "      <td>15</td>\n",
       "      <td>498201172.67</td>\n",
       "      <td>0.14</td>\n",
       "    </tr>\n",
       "  </tbody>\n",
       "</table>\n",
       "</div>"
      ],
      "text/plain": [
       "  Бренд AX 1  Неделя       Выручка  Маржинальность\n",
       "0   Shiseido      14 1353685520.77            0.17\n",
       "1    Clarins      14 1329934371.92            0.09\n",
       "2   Shiseido      15 1267702457.57            0.17\n",
       "3    Clarins      15  974711947.75            0.15\n",
       "4   Clinique      15  498201172.67            0.14"
      ]
     },
     "execution_count": 40,
     "metadata": {},
     "output_type": "execute_result"
    }
   ],
   "source": [
    "df_t2 = pd.read_excel('/Users/andrey/Desktop/Kate/jup/notebook_project/GA_Zelenina_test/task_two.xlsx')\n",
    "\n",
    "pd.set_option('display.max_columns', None)\n",
    "pd.options.display.float_format = '{:.2f}'.format\n",
    "df_t2.head(5)"
   ]
  },
  {
   "cell_type": "code",
   "execution_count": 41,
   "id": "d5c0da5c",
   "metadata": {},
   "outputs": [
    {
     "name": "stdout",
     "output_type": "stream",
     "text": [
      "<class 'pandas.core.frame.DataFrame'>\n",
      "RangeIndex: 104 entries, 0 to 103\n",
      "Data columns (total 4 columns):\n",
      " #   Column          Non-Null Count  Dtype  \n",
      "---  ------          --------------  -----  \n",
      " 0   Бренд AX 1      104 non-null    object \n",
      " 1   Неделя          104 non-null    int64  \n",
      " 2   Выручка         104 non-null    float64\n",
      " 3   Маржинальность  104 non-null    float64\n",
      "dtypes: float64(2), int64(1), object(1)\n",
      "memory usage: 3.4+ KB\n"
     ]
    }
   ],
   "source": [
    "df_t2.info()"
   ]
  },
  {
   "cell_type": "code",
   "execution_count": 42,
   "id": "abb21a8b",
   "metadata": {},
   "outputs": [
    {
     "data": {
      "text/html": [
       "<div>\n",
       "<style scoped>\n",
       "    .dataframe tbody tr th:only-of-type {\n",
       "        vertical-align: middle;\n",
       "    }\n",
       "\n",
       "    .dataframe tbody tr th {\n",
       "        vertical-align: top;\n",
       "    }\n",
       "\n",
       "    .dataframe thead th {\n",
       "        text-align: right;\n",
       "    }\n",
       "</style>\n",
       "<table border=\"1\" class=\"dataframe\">\n",
       "  <thead>\n",
       "    <tr style=\"text-align: right;\">\n",
       "      <th></th>\n",
       "      <th>Бренд AX 1</th>\n",
       "      <th>Неделя</th>\n",
       "      <th>Выручка</th>\n",
       "      <th>Маржинальность</th>\n",
       "      <th>Маржа</th>\n",
       "    </tr>\n",
       "  </thead>\n",
       "  <tbody>\n",
       "    <tr>\n",
       "      <th>0</th>\n",
       "      <td>Shiseido</td>\n",
       "      <td>14</td>\n",
       "      <td>1353685520.77</td>\n",
       "      <td>0.17</td>\n",
       "      <td>227180372.47</td>\n",
       "    </tr>\n",
       "    <tr>\n",
       "      <th>1</th>\n",
       "      <td>Clarins</td>\n",
       "      <td>14</td>\n",
       "      <td>1329934371.92</td>\n",
       "      <td>0.09</td>\n",
       "      <td>121486276.26</td>\n",
       "    </tr>\n",
       "    <tr>\n",
       "      <th>2</th>\n",
       "      <td>Shiseido</td>\n",
       "      <td>15</td>\n",
       "      <td>1267702457.57</td>\n",
       "      <td>0.17</td>\n",
       "      <td>214510287.57</td>\n",
       "    </tr>\n",
       "    <tr>\n",
       "      <th>3</th>\n",
       "      <td>Clarins</td>\n",
       "      <td>15</td>\n",
       "      <td>974711947.75</td>\n",
       "      <td>0.15</td>\n",
       "      <td>142214038.38</td>\n",
       "    </tr>\n",
       "    <tr>\n",
       "      <th>4</th>\n",
       "      <td>Clinique</td>\n",
       "      <td>15</td>\n",
       "      <td>498201172.67</td>\n",
       "      <td>0.14</td>\n",
       "      <td>69815982.71</td>\n",
       "    </tr>\n",
       "  </tbody>\n",
       "</table>\n",
       "</div>"
      ],
      "text/plain": [
       "  Бренд AX 1  Неделя       Выручка  Маржинальность        Маржа\n",
       "0   Shiseido      14 1353685520.77            0.17 227180372.47\n",
       "1    Clarins      14 1329934371.92            0.09 121486276.26\n",
       "2   Shiseido      15 1267702457.57            0.17 214510287.57\n",
       "3    Clarins      15  974711947.75            0.15 142214038.38\n",
       "4   Clinique      15  498201172.67            0.14  69815982.71"
      ]
     },
     "execution_count": 42,
     "metadata": {},
     "output_type": "execute_result"
    }
   ],
   "source": [
    "df_t2['Маржа'] = df_t2['Выручка']*df_t2['Маржинальность']\n",
    "df_t2.head()"
   ]
  },
  {
   "cell_type": "code",
   "execution_count": 43,
   "id": "d8b7cdcd",
   "metadata": {},
   "outputs": [],
   "source": [
    "# Создадим датафреймы за 14 и 15 недели\n",
    "df_week_14 = df_t2[df_t2['Неделя'] == 14]\n",
    "df_week_15 = df_t2[df_t2['Неделя'] == 15]"
   ]
  },
  {
   "cell_type": "code",
   "execution_count": 44,
   "id": "336f057d",
   "metadata": {},
   "outputs": [
    {
     "data": {
      "application/vnd.plotly.v1+json": {
       "config": {
        "plotlyServerURL": "https://plot.ly"
       },
       "data": [
        {
         "domain": {
          "x": [
           0,
           1
          ],
          "y": [
           0,
           1
          ]
         },
         "hovertemplate": "Бренд AX 1=%{label}<br>Выручка=%{value}<extra></extra>",
         "labels": [
          "Shiseido",
          "Clarins",
          "Clinique",
          "Estee Lauder",
          "BABOR",
          "Sisley",
          "Payot",
          "Lancome",
          "CHANEL",
          "La Mer",
          "Biotherm",
          "La Prairie",
          "Valmont",
          "Zielinski&Rozen",
          "Kiehls",
          "Caudalie",
          "SENSAI",
          "Cle De Peau",
          "Christian Dior",
          "ELEMIS",
          "Guam",
          "Loccitane",
          "Lumene",
          "Lancaster",
          "Rexaline",
          "Cellcosmet",
          "FOREO",
          "St.Barth",
          "Guerlain",
          "Thalgo",
          "Glam Glow",
          "Ecooking",
          "FILORGA",
          "Skyn Iceland",
          "OK Beauty",
          "Darphin",
          "Helena Rubinstein",
          "Ahava",
          "James Read",
          "Dr Barbara Sturm",
          "Anne Semonin",
          "Botany",
          "Kenzo",
          "MIXIT",
          "Omorovicza",
          "COOLA",
          "Dr Brandt",
          "Swiss Line",
          "Givenchy",
          "Bellefontaine",
          "Proraso",
          "Grown Alchemist"
         ],
         "legendgroup": "",
         "name": "",
         "showlegend": true,
         "textfont": {
          "size": 12
         },
         "textposition": "inside",
         "type": "pie",
         "values": [
          1353685520.769999,
          1329934371.9199996,
          485396784.13999987,
          328740954.3700002,
          309282334.7299999,
          301387817.96000004,
          265832651.83999985,
          241346125.34999987,
          236703280.29,
          228013867.6,
          223614213.98000002,
          199366786.74,
          195077531.83,
          188905732.51999986,
          185615839.17999998,
          175729536.95000002,
          161624333.42,
          158152134.17999998,
          148429286.65,
          127289496.17000002,
          116255405.2,
          102221899.24999996,
          86436738.70000002,
          79889078.52000001,
          79162873.02999999,
          75675127.03,
          74808841.77999999,
          66833732.01999999,
          65019238.26,
          63404689.15,
          62879247.56999999,
          60800265.719999984,
          60160904.530000016,
          58450928.06999999,
          57984393.749999985,
          49670121.31,
          48107733.580000006,
          44410651.580000006,
          44271548.629999995,
          41725673.52,
          32673568.400000002,
          31572158.27,
          30500823.74999999,
          29108357.12,
          28865317.75,
          22413754.849999998,
          20053959.99,
          19473518.39,
          17931399.810000002,
          17834942.22,
          16174629.63,
          15288583.5
         ]
        }
       ],
       "layout": {
        "legend": {
         "orientation": "h",
         "tracegroupgap": 0,
         "x": 1.4,
         "y": 1
        },
        "template": {
         "data": {
          "bar": [
           {
            "error_x": {
             "color": "#2a3f5f"
            },
            "error_y": {
             "color": "#2a3f5f"
            },
            "marker": {
             "line": {
              "color": "#E5ECF6",
              "width": 0.5
             },
             "pattern": {
              "fillmode": "overlay",
              "size": 10,
              "solidity": 0.2
             }
            },
            "type": "bar"
           }
          ],
          "barpolar": [
           {
            "marker": {
             "line": {
              "color": "#E5ECF6",
              "width": 0.5
             },
             "pattern": {
              "fillmode": "overlay",
              "size": 10,
              "solidity": 0.2
             }
            },
            "type": "barpolar"
           }
          ],
          "carpet": [
           {
            "aaxis": {
             "endlinecolor": "#2a3f5f",
             "gridcolor": "white",
             "linecolor": "white",
             "minorgridcolor": "white",
             "startlinecolor": "#2a3f5f"
            },
            "baxis": {
             "endlinecolor": "#2a3f5f",
             "gridcolor": "white",
             "linecolor": "white",
             "minorgridcolor": "white",
             "startlinecolor": "#2a3f5f"
            },
            "type": "carpet"
           }
          ],
          "choropleth": [
           {
            "colorbar": {
             "outlinewidth": 0,
             "ticks": ""
            },
            "type": "choropleth"
           }
          ],
          "contour": [
           {
            "colorbar": {
             "outlinewidth": 0,
             "ticks": ""
            },
            "colorscale": [
             [
              0,
              "#0d0887"
             ],
             [
              0.1111111111111111,
              "#46039f"
             ],
             [
              0.2222222222222222,
              "#7201a8"
             ],
             [
              0.3333333333333333,
              "#9c179e"
             ],
             [
              0.4444444444444444,
              "#bd3786"
             ],
             [
              0.5555555555555556,
              "#d8576b"
             ],
             [
              0.6666666666666666,
              "#ed7953"
             ],
             [
              0.7777777777777778,
              "#fb9f3a"
             ],
             [
              0.8888888888888888,
              "#fdca26"
             ],
             [
              1,
              "#f0f921"
             ]
            ],
            "type": "contour"
           }
          ],
          "contourcarpet": [
           {
            "colorbar": {
             "outlinewidth": 0,
             "ticks": ""
            },
            "type": "contourcarpet"
           }
          ],
          "heatmap": [
           {
            "colorbar": {
             "outlinewidth": 0,
             "ticks": ""
            },
            "colorscale": [
             [
              0,
              "#0d0887"
             ],
             [
              0.1111111111111111,
              "#46039f"
             ],
             [
              0.2222222222222222,
              "#7201a8"
             ],
             [
              0.3333333333333333,
              "#9c179e"
             ],
             [
              0.4444444444444444,
              "#bd3786"
             ],
             [
              0.5555555555555556,
              "#d8576b"
             ],
             [
              0.6666666666666666,
              "#ed7953"
             ],
             [
              0.7777777777777778,
              "#fb9f3a"
             ],
             [
              0.8888888888888888,
              "#fdca26"
             ],
             [
              1,
              "#f0f921"
             ]
            ],
            "type": "heatmap"
           }
          ],
          "heatmapgl": [
           {
            "colorbar": {
             "outlinewidth": 0,
             "ticks": ""
            },
            "colorscale": [
             [
              0,
              "#0d0887"
             ],
             [
              0.1111111111111111,
              "#46039f"
             ],
             [
              0.2222222222222222,
              "#7201a8"
             ],
             [
              0.3333333333333333,
              "#9c179e"
             ],
             [
              0.4444444444444444,
              "#bd3786"
             ],
             [
              0.5555555555555556,
              "#d8576b"
             ],
             [
              0.6666666666666666,
              "#ed7953"
             ],
             [
              0.7777777777777778,
              "#fb9f3a"
             ],
             [
              0.8888888888888888,
              "#fdca26"
             ],
             [
              1,
              "#f0f921"
             ]
            ],
            "type": "heatmapgl"
           }
          ],
          "histogram": [
           {
            "marker": {
             "pattern": {
              "fillmode": "overlay",
              "size": 10,
              "solidity": 0.2
             }
            },
            "type": "histogram"
           }
          ],
          "histogram2d": [
           {
            "colorbar": {
             "outlinewidth": 0,
             "ticks": ""
            },
            "colorscale": [
             [
              0,
              "#0d0887"
             ],
             [
              0.1111111111111111,
              "#46039f"
             ],
             [
              0.2222222222222222,
              "#7201a8"
             ],
             [
              0.3333333333333333,
              "#9c179e"
             ],
             [
              0.4444444444444444,
              "#bd3786"
             ],
             [
              0.5555555555555556,
              "#d8576b"
             ],
             [
              0.6666666666666666,
              "#ed7953"
             ],
             [
              0.7777777777777778,
              "#fb9f3a"
             ],
             [
              0.8888888888888888,
              "#fdca26"
             ],
             [
              1,
              "#f0f921"
             ]
            ],
            "type": "histogram2d"
           }
          ],
          "histogram2dcontour": [
           {
            "colorbar": {
             "outlinewidth": 0,
             "ticks": ""
            },
            "colorscale": [
             [
              0,
              "#0d0887"
             ],
             [
              0.1111111111111111,
              "#46039f"
             ],
             [
              0.2222222222222222,
              "#7201a8"
             ],
             [
              0.3333333333333333,
              "#9c179e"
             ],
             [
              0.4444444444444444,
              "#bd3786"
             ],
             [
              0.5555555555555556,
              "#d8576b"
             ],
             [
              0.6666666666666666,
              "#ed7953"
             ],
             [
              0.7777777777777778,
              "#fb9f3a"
             ],
             [
              0.8888888888888888,
              "#fdca26"
             ],
             [
              1,
              "#f0f921"
             ]
            ],
            "type": "histogram2dcontour"
           }
          ],
          "mesh3d": [
           {
            "colorbar": {
             "outlinewidth": 0,
             "ticks": ""
            },
            "type": "mesh3d"
           }
          ],
          "parcoords": [
           {
            "line": {
             "colorbar": {
              "outlinewidth": 0,
              "ticks": ""
             }
            },
            "type": "parcoords"
           }
          ],
          "pie": [
           {
            "automargin": true,
            "type": "pie"
           }
          ],
          "scatter": [
           {
            "fillpattern": {
             "fillmode": "overlay",
             "size": 10,
             "solidity": 0.2
            },
            "type": "scatter"
           }
          ],
          "scatter3d": [
           {
            "line": {
             "colorbar": {
              "outlinewidth": 0,
              "ticks": ""
             }
            },
            "marker": {
             "colorbar": {
              "outlinewidth": 0,
              "ticks": ""
             }
            },
            "type": "scatter3d"
           }
          ],
          "scattercarpet": [
           {
            "marker": {
             "colorbar": {
              "outlinewidth": 0,
              "ticks": ""
             }
            },
            "type": "scattercarpet"
           }
          ],
          "scattergeo": [
           {
            "marker": {
             "colorbar": {
              "outlinewidth": 0,
              "ticks": ""
             }
            },
            "type": "scattergeo"
           }
          ],
          "scattergl": [
           {
            "marker": {
             "colorbar": {
              "outlinewidth": 0,
              "ticks": ""
             }
            },
            "type": "scattergl"
           }
          ],
          "scattermapbox": [
           {
            "marker": {
             "colorbar": {
              "outlinewidth": 0,
              "ticks": ""
             }
            },
            "type": "scattermapbox"
           }
          ],
          "scatterpolar": [
           {
            "marker": {
             "colorbar": {
              "outlinewidth": 0,
              "ticks": ""
             }
            },
            "type": "scatterpolar"
           }
          ],
          "scatterpolargl": [
           {
            "marker": {
             "colorbar": {
              "outlinewidth": 0,
              "ticks": ""
             }
            },
            "type": "scatterpolargl"
           }
          ],
          "scatterternary": [
           {
            "marker": {
             "colorbar": {
              "outlinewidth": 0,
              "ticks": ""
             }
            },
            "type": "scatterternary"
           }
          ],
          "surface": [
           {
            "colorbar": {
             "outlinewidth": 0,
             "ticks": ""
            },
            "colorscale": [
             [
              0,
              "#0d0887"
             ],
             [
              0.1111111111111111,
              "#46039f"
             ],
             [
              0.2222222222222222,
              "#7201a8"
             ],
             [
              0.3333333333333333,
              "#9c179e"
             ],
             [
              0.4444444444444444,
              "#bd3786"
             ],
             [
              0.5555555555555556,
              "#d8576b"
             ],
             [
              0.6666666666666666,
              "#ed7953"
             ],
             [
              0.7777777777777778,
              "#fb9f3a"
             ],
             [
              0.8888888888888888,
              "#fdca26"
             ],
             [
              1,
              "#f0f921"
             ]
            ],
            "type": "surface"
           }
          ],
          "table": [
           {
            "cells": {
             "fill": {
              "color": "#EBF0F8"
             },
             "line": {
              "color": "white"
             }
            },
            "header": {
             "fill": {
              "color": "#C8D4E3"
             },
             "line": {
              "color": "white"
             }
            },
            "type": "table"
           }
          ]
         },
         "layout": {
          "annotationdefaults": {
           "arrowcolor": "#2a3f5f",
           "arrowhead": 0,
           "arrowwidth": 1
          },
          "autotypenumbers": "strict",
          "coloraxis": {
           "colorbar": {
            "outlinewidth": 0,
            "ticks": ""
           }
          },
          "colorscale": {
           "diverging": [
            [
             0,
             "#8e0152"
            ],
            [
             0.1,
             "#c51b7d"
            ],
            [
             0.2,
             "#de77ae"
            ],
            [
             0.3,
             "#f1b6da"
            ],
            [
             0.4,
             "#fde0ef"
            ],
            [
             0.5,
             "#f7f7f7"
            ],
            [
             0.6,
             "#e6f5d0"
            ],
            [
             0.7,
             "#b8e186"
            ],
            [
             0.8,
             "#7fbc41"
            ],
            [
             0.9,
             "#4d9221"
            ],
            [
             1,
             "#276419"
            ]
           ],
           "sequential": [
            [
             0,
             "#0d0887"
            ],
            [
             0.1111111111111111,
             "#46039f"
            ],
            [
             0.2222222222222222,
             "#7201a8"
            ],
            [
             0.3333333333333333,
             "#9c179e"
            ],
            [
             0.4444444444444444,
             "#bd3786"
            ],
            [
             0.5555555555555556,
             "#d8576b"
            ],
            [
             0.6666666666666666,
             "#ed7953"
            ],
            [
             0.7777777777777778,
             "#fb9f3a"
            ],
            [
             0.8888888888888888,
             "#fdca26"
            ],
            [
             1,
             "#f0f921"
            ]
           ],
           "sequentialminus": [
            [
             0,
             "#0d0887"
            ],
            [
             0.1111111111111111,
             "#46039f"
            ],
            [
             0.2222222222222222,
             "#7201a8"
            ],
            [
             0.3333333333333333,
             "#9c179e"
            ],
            [
             0.4444444444444444,
             "#bd3786"
            ],
            [
             0.5555555555555556,
             "#d8576b"
            ],
            [
             0.6666666666666666,
             "#ed7953"
            ],
            [
             0.7777777777777778,
             "#fb9f3a"
            ],
            [
             0.8888888888888888,
             "#fdca26"
            ],
            [
             1,
             "#f0f921"
            ]
           ]
          },
          "colorway": [
           "#636efa",
           "#EF553B",
           "#00cc96",
           "#ab63fa",
           "#FFA15A",
           "#19d3f3",
           "#FF6692",
           "#B6E880",
           "#FF97FF",
           "#FECB52"
          ],
          "font": {
           "color": "#2a3f5f"
          },
          "geo": {
           "bgcolor": "white",
           "lakecolor": "white",
           "landcolor": "#E5ECF6",
           "showlakes": true,
           "showland": true,
           "subunitcolor": "white"
          },
          "hoverlabel": {
           "align": "left"
          },
          "hovermode": "closest",
          "mapbox": {
           "style": "light"
          },
          "paper_bgcolor": "white",
          "plot_bgcolor": "#E5ECF6",
          "polar": {
           "angularaxis": {
            "gridcolor": "white",
            "linecolor": "white",
            "ticks": ""
           },
           "bgcolor": "#E5ECF6",
           "radialaxis": {
            "gridcolor": "white",
            "linecolor": "white",
            "ticks": ""
           }
          },
          "scene": {
           "xaxis": {
            "backgroundcolor": "#E5ECF6",
            "gridcolor": "white",
            "gridwidth": 2,
            "linecolor": "white",
            "showbackground": true,
            "ticks": "",
            "zerolinecolor": "white"
           },
           "yaxis": {
            "backgroundcolor": "#E5ECF6",
            "gridcolor": "white",
            "gridwidth": 2,
            "linecolor": "white",
            "showbackground": true,
            "ticks": "",
            "zerolinecolor": "white"
           },
           "zaxis": {
            "backgroundcolor": "#E5ECF6",
            "gridcolor": "white",
            "gridwidth": 2,
            "linecolor": "white",
            "showbackground": true,
            "ticks": "",
            "zerolinecolor": "white"
           }
          },
          "shapedefaults": {
           "line": {
            "color": "#2a3f5f"
           }
          },
          "ternary": {
           "aaxis": {
            "gridcolor": "white",
            "linecolor": "white",
            "ticks": ""
           },
           "baxis": {
            "gridcolor": "white",
            "linecolor": "white",
            "ticks": ""
           },
           "bgcolor": "#E5ECF6",
           "caxis": {
            "gridcolor": "white",
            "linecolor": "white",
            "ticks": ""
           }
          },
          "title": {
           "x": 0.05
          },
          "xaxis": {
           "automargin": true,
           "gridcolor": "white",
           "linecolor": "white",
           "ticks": "",
           "title": {
            "standoff": 15
           },
           "zerolinecolor": "white",
           "zerolinewidth": 2
          },
          "yaxis": {
           "automargin": true,
           "gridcolor": "white",
           "linecolor": "white",
           "ticks": "",
           "title": {
            "standoff": 15
           },
           "zerolinecolor": "white",
           "zerolinewidth": 2
          }
         }
        },
        "title": {
         "text": "Доля выручки по брендам за 14 неделю"
        }
       }
      },
      "text/html": [
       "<div>                            <div id=\"f2bf5aa1-90a1-4930-8d7d-c1611f8e8777\" class=\"plotly-graph-div\" style=\"height:525px; width:100%;\"></div>            <script type=\"text/javascript\">                require([\"plotly\"], function(Plotly) {                    window.PLOTLYENV=window.PLOTLYENV || {};                                    if (document.getElementById(\"f2bf5aa1-90a1-4930-8d7d-c1611f8e8777\")) {                    Plotly.newPlot(                        \"f2bf5aa1-90a1-4930-8d7d-c1611f8e8777\",                        [{\"domain\":{\"x\":[0.0,1.0],\"y\":[0.0,1.0]},\"hovertemplate\":\"\\u0411\\u0440\\u0435\\u043d\\u0434 AX 1=%{label}<br>\\u0412\\u044b\\u0440\\u0443\\u0447\\u043a\\u0430=%{value}<extra></extra>\",\"labels\":[\"Shiseido\",\"Clarins\",\"Clinique\",\"Estee Lauder\",\"BABOR\",\"Sisley\",\"Payot\",\"Lancome\",\"CHANEL\",\"La Mer\",\"Biotherm\",\"La Prairie\",\"Valmont\",\"Zielinski&Rozen\",\"Kiehls\",\"Caudalie\",\"SENSAI\",\"Cle De Peau\",\"Christian Dior\",\"ELEMIS\",\"Guam\",\"Loccitane\",\"Lumene\",\"Lancaster\",\"Rexaline\",\"Cellcosmet\",\"FOREO\",\"St.Barth\",\"Guerlain\",\"Thalgo\",\"Glam Glow\",\"Ecooking\",\"FILORGA\",\"Skyn Iceland\",\"OK Beauty\",\"Darphin\",\"Helena Rubinstein\",\"Ahava\",\"James Read\",\"Dr Barbara Sturm\",\"Anne Semonin\",\"Botany\",\"Kenzo\",\"MIXIT\",\"Omorovicza\",\"COOLA\",\"Dr Brandt\",\"Swiss Line\",\"Givenchy\",\"Bellefontaine\",\"Proraso\",\"Grown Alchemist\"],\"legendgroup\":\"\",\"name\":\"\",\"showlegend\":true,\"values\":[1353685520.769999,1329934371.9199996,485396784.13999987,328740954.3700002,309282334.7299999,301387817.96000004,265832651.83999985,241346125.34999987,236703280.29,228013867.6,223614213.98000002,199366786.74,195077531.83,188905732.51999986,185615839.17999998,175729536.95000002,161624333.42,158152134.17999998,148429286.65,127289496.17000002,116255405.2,102221899.24999996,86436738.70000002,79889078.52000001,79162873.02999999,75675127.03,74808841.77999999,66833732.01999999,65019238.26,63404689.15,62879247.56999999,60800265.719999984,60160904.530000016,58450928.06999999,57984393.749999985,49670121.31,48107733.580000006,44410651.580000006,44271548.629999995,41725673.52,32673568.400000002,31572158.27,30500823.74999999,29108357.12,28865317.75,22413754.849999998,20053959.99,19473518.39,17931399.810000002,17834942.22,16174629.63,15288583.5],\"type\":\"pie\",\"textfont\":{\"size\":12},\"textposition\":\"inside\"}],                        {\"template\":{\"data\":{\"histogram2dcontour\":[{\"type\":\"histogram2dcontour\",\"colorbar\":{\"outlinewidth\":0,\"ticks\":\"\"},\"colorscale\":[[0.0,\"#0d0887\"],[0.1111111111111111,\"#46039f\"],[0.2222222222222222,\"#7201a8\"],[0.3333333333333333,\"#9c179e\"],[0.4444444444444444,\"#bd3786\"],[0.5555555555555556,\"#d8576b\"],[0.6666666666666666,\"#ed7953\"],[0.7777777777777778,\"#fb9f3a\"],[0.8888888888888888,\"#fdca26\"],[1.0,\"#f0f921\"]]}],\"choropleth\":[{\"type\":\"choropleth\",\"colorbar\":{\"outlinewidth\":0,\"ticks\":\"\"}}],\"histogram2d\":[{\"type\":\"histogram2d\",\"colorbar\":{\"outlinewidth\":0,\"ticks\":\"\"},\"colorscale\":[[0.0,\"#0d0887\"],[0.1111111111111111,\"#46039f\"],[0.2222222222222222,\"#7201a8\"],[0.3333333333333333,\"#9c179e\"],[0.4444444444444444,\"#bd3786\"],[0.5555555555555556,\"#d8576b\"],[0.6666666666666666,\"#ed7953\"],[0.7777777777777778,\"#fb9f3a\"],[0.8888888888888888,\"#fdca26\"],[1.0,\"#f0f921\"]]}],\"heatmap\":[{\"type\":\"heatmap\",\"colorbar\":{\"outlinewidth\":0,\"ticks\":\"\"},\"colorscale\":[[0.0,\"#0d0887\"],[0.1111111111111111,\"#46039f\"],[0.2222222222222222,\"#7201a8\"],[0.3333333333333333,\"#9c179e\"],[0.4444444444444444,\"#bd3786\"],[0.5555555555555556,\"#d8576b\"],[0.6666666666666666,\"#ed7953\"],[0.7777777777777778,\"#fb9f3a\"],[0.8888888888888888,\"#fdca26\"],[1.0,\"#f0f921\"]]}],\"heatmapgl\":[{\"type\":\"heatmapgl\",\"colorbar\":{\"outlinewidth\":0,\"ticks\":\"\"},\"colorscale\":[[0.0,\"#0d0887\"],[0.1111111111111111,\"#46039f\"],[0.2222222222222222,\"#7201a8\"],[0.3333333333333333,\"#9c179e\"],[0.4444444444444444,\"#bd3786\"],[0.5555555555555556,\"#d8576b\"],[0.6666666666666666,\"#ed7953\"],[0.7777777777777778,\"#fb9f3a\"],[0.8888888888888888,\"#fdca26\"],[1.0,\"#f0f921\"]]}],\"contourcarpet\":[{\"type\":\"contourcarpet\",\"colorbar\":{\"outlinewidth\":0,\"ticks\":\"\"}}],\"contour\":[{\"type\":\"contour\",\"colorbar\":{\"outlinewidth\":0,\"ticks\":\"\"},\"colorscale\":[[0.0,\"#0d0887\"],[0.1111111111111111,\"#46039f\"],[0.2222222222222222,\"#7201a8\"],[0.3333333333333333,\"#9c179e\"],[0.4444444444444444,\"#bd3786\"],[0.5555555555555556,\"#d8576b\"],[0.6666666666666666,\"#ed7953\"],[0.7777777777777778,\"#fb9f3a\"],[0.8888888888888888,\"#fdca26\"],[1.0,\"#f0f921\"]]}],\"surface\":[{\"type\":\"surface\",\"colorbar\":{\"outlinewidth\":0,\"ticks\":\"\"},\"colorscale\":[[0.0,\"#0d0887\"],[0.1111111111111111,\"#46039f\"],[0.2222222222222222,\"#7201a8\"],[0.3333333333333333,\"#9c179e\"],[0.4444444444444444,\"#bd3786\"],[0.5555555555555556,\"#d8576b\"],[0.6666666666666666,\"#ed7953\"],[0.7777777777777778,\"#fb9f3a\"],[0.8888888888888888,\"#fdca26\"],[1.0,\"#f0f921\"]]}],\"mesh3d\":[{\"type\":\"mesh3d\",\"colorbar\":{\"outlinewidth\":0,\"ticks\":\"\"}}],\"scatter\":[{\"fillpattern\":{\"fillmode\":\"overlay\",\"size\":10,\"solidity\":0.2},\"type\":\"scatter\"}],\"parcoords\":[{\"type\":\"parcoords\",\"line\":{\"colorbar\":{\"outlinewidth\":0,\"ticks\":\"\"}}}],\"scatterpolargl\":[{\"type\":\"scatterpolargl\",\"marker\":{\"colorbar\":{\"outlinewidth\":0,\"ticks\":\"\"}}}],\"bar\":[{\"error_x\":{\"color\":\"#2a3f5f\"},\"error_y\":{\"color\":\"#2a3f5f\"},\"marker\":{\"line\":{\"color\":\"#E5ECF6\",\"width\":0.5},\"pattern\":{\"fillmode\":\"overlay\",\"size\":10,\"solidity\":0.2}},\"type\":\"bar\"}],\"scattergeo\":[{\"type\":\"scattergeo\",\"marker\":{\"colorbar\":{\"outlinewidth\":0,\"ticks\":\"\"}}}],\"scatterpolar\":[{\"type\":\"scatterpolar\",\"marker\":{\"colorbar\":{\"outlinewidth\":0,\"ticks\":\"\"}}}],\"histogram\":[{\"marker\":{\"pattern\":{\"fillmode\":\"overlay\",\"size\":10,\"solidity\":0.2}},\"type\":\"histogram\"}],\"scattergl\":[{\"type\":\"scattergl\",\"marker\":{\"colorbar\":{\"outlinewidth\":0,\"ticks\":\"\"}}}],\"scatter3d\":[{\"type\":\"scatter3d\",\"line\":{\"colorbar\":{\"outlinewidth\":0,\"ticks\":\"\"}},\"marker\":{\"colorbar\":{\"outlinewidth\":0,\"ticks\":\"\"}}}],\"scattermapbox\":[{\"type\":\"scattermapbox\",\"marker\":{\"colorbar\":{\"outlinewidth\":0,\"ticks\":\"\"}}}],\"scatterternary\":[{\"type\":\"scatterternary\",\"marker\":{\"colorbar\":{\"outlinewidth\":0,\"ticks\":\"\"}}}],\"scattercarpet\":[{\"type\":\"scattercarpet\",\"marker\":{\"colorbar\":{\"outlinewidth\":0,\"ticks\":\"\"}}}],\"carpet\":[{\"aaxis\":{\"endlinecolor\":\"#2a3f5f\",\"gridcolor\":\"white\",\"linecolor\":\"white\",\"minorgridcolor\":\"white\",\"startlinecolor\":\"#2a3f5f\"},\"baxis\":{\"endlinecolor\":\"#2a3f5f\",\"gridcolor\":\"white\",\"linecolor\":\"white\",\"minorgridcolor\":\"white\",\"startlinecolor\":\"#2a3f5f\"},\"type\":\"carpet\"}],\"table\":[{\"cells\":{\"fill\":{\"color\":\"#EBF0F8\"},\"line\":{\"color\":\"white\"}},\"header\":{\"fill\":{\"color\":\"#C8D4E3\"},\"line\":{\"color\":\"white\"}},\"type\":\"table\"}],\"barpolar\":[{\"marker\":{\"line\":{\"color\":\"#E5ECF6\",\"width\":0.5},\"pattern\":{\"fillmode\":\"overlay\",\"size\":10,\"solidity\":0.2}},\"type\":\"barpolar\"}],\"pie\":[{\"automargin\":true,\"type\":\"pie\"}]},\"layout\":{\"autotypenumbers\":\"strict\",\"colorway\":[\"#636efa\",\"#EF553B\",\"#00cc96\",\"#ab63fa\",\"#FFA15A\",\"#19d3f3\",\"#FF6692\",\"#B6E880\",\"#FF97FF\",\"#FECB52\"],\"font\":{\"color\":\"#2a3f5f\"},\"hovermode\":\"closest\",\"hoverlabel\":{\"align\":\"left\"},\"paper_bgcolor\":\"white\",\"plot_bgcolor\":\"#E5ECF6\",\"polar\":{\"bgcolor\":\"#E5ECF6\",\"angularaxis\":{\"gridcolor\":\"white\",\"linecolor\":\"white\",\"ticks\":\"\"},\"radialaxis\":{\"gridcolor\":\"white\",\"linecolor\":\"white\",\"ticks\":\"\"}},\"ternary\":{\"bgcolor\":\"#E5ECF6\",\"aaxis\":{\"gridcolor\":\"white\",\"linecolor\":\"white\",\"ticks\":\"\"},\"baxis\":{\"gridcolor\":\"white\",\"linecolor\":\"white\",\"ticks\":\"\"},\"caxis\":{\"gridcolor\":\"white\",\"linecolor\":\"white\",\"ticks\":\"\"}},\"coloraxis\":{\"colorbar\":{\"outlinewidth\":0,\"ticks\":\"\"}},\"colorscale\":{\"sequential\":[[0.0,\"#0d0887\"],[0.1111111111111111,\"#46039f\"],[0.2222222222222222,\"#7201a8\"],[0.3333333333333333,\"#9c179e\"],[0.4444444444444444,\"#bd3786\"],[0.5555555555555556,\"#d8576b\"],[0.6666666666666666,\"#ed7953\"],[0.7777777777777778,\"#fb9f3a\"],[0.8888888888888888,\"#fdca26\"],[1.0,\"#f0f921\"]],\"sequentialminus\":[[0.0,\"#0d0887\"],[0.1111111111111111,\"#46039f\"],[0.2222222222222222,\"#7201a8\"],[0.3333333333333333,\"#9c179e\"],[0.4444444444444444,\"#bd3786\"],[0.5555555555555556,\"#d8576b\"],[0.6666666666666666,\"#ed7953\"],[0.7777777777777778,\"#fb9f3a\"],[0.8888888888888888,\"#fdca26\"],[1.0,\"#f0f921\"]],\"diverging\":[[0,\"#8e0152\"],[0.1,\"#c51b7d\"],[0.2,\"#de77ae\"],[0.3,\"#f1b6da\"],[0.4,\"#fde0ef\"],[0.5,\"#f7f7f7\"],[0.6,\"#e6f5d0\"],[0.7,\"#b8e186\"],[0.8,\"#7fbc41\"],[0.9,\"#4d9221\"],[1,\"#276419\"]]},\"xaxis\":{\"gridcolor\":\"white\",\"linecolor\":\"white\",\"ticks\":\"\",\"title\":{\"standoff\":15},\"zerolinecolor\":\"white\",\"automargin\":true,\"zerolinewidth\":2},\"yaxis\":{\"gridcolor\":\"white\",\"linecolor\":\"white\",\"ticks\":\"\",\"title\":{\"standoff\":15},\"zerolinecolor\":\"white\",\"automargin\":true,\"zerolinewidth\":2},\"scene\":{\"xaxis\":{\"backgroundcolor\":\"#E5ECF6\",\"gridcolor\":\"white\",\"linecolor\":\"white\",\"showbackground\":true,\"ticks\":\"\",\"zerolinecolor\":\"white\",\"gridwidth\":2},\"yaxis\":{\"backgroundcolor\":\"#E5ECF6\",\"gridcolor\":\"white\",\"linecolor\":\"white\",\"showbackground\":true,\"ticks\":\"\",\"zerolinecolor\":\"white\",\"gridwidth\":2},\"zaxis\":{\"backgroundcolor\":\"#E5ECF6\",\"gridcolor\":\"white\",\"linecolor\":\"white\",\"showbackground\":true,\"ticks\":\"\",\"zerolinecolor\":\"white\",\"gridwidth\":2}},\"shapedefaults\":{\"line\":{\"color\":\"#2a3f5f\"}},\"annotationdefaults\":{\"arrowcolor\":\"#2a3f5f\",\"arrowhead\":0,\"arrowwidth\":1},\"geo\":{\"bgcolor\":\"white\",\"landcolor\":\"#E5ECF6\",\"subunitcolor\":\"white\",\"showland\":true,\"showlakes\":true,\"lakecolor\":\"white\"},\"title\":{\"x\":0.05},\"mapbox\":{\"style\":\"light\"}}},\"legend\":{\"tracegroupgap\":0,\"orientation\":\"h\",\"y\":1.0,\"x\":1.4},\"title\":{\"text\":\"\\u0414\\u043e\\u043b\\u044f \\u0432\\u044b\\u0440\\u0443\\u0447\\u043a\\u0438 \\u043f\\u043e \\u0431\\u0440\\u0435\\u043d\\u0434\\u0430\\u043c \\u0437\\u0430 14 \\u043d\\u0435\\u0434\\u0435\\u043b\\u044e\"}},                        {\"responsive\": true}                    ).then(function(){\n",
       "                            \n",
       "var gd = document.getElementById('f2bf5aa1-90a1-4930-8d7d-c1611f8e8777');\n",
       "var x = new MutationObserver(function (mutations, observer) {{\n",
       "        var display = window.getComputedStyle(gd).display;\n",
       "        if (!display || display === 'none') {{\n",
       "            console.log([gd, 'removed!']);\n",
       "            Plotly.purge(gd);\n",
       "            observer.disconnect();\n",
       "        }}\n",
       "}});\n",
       "\n",
       "// Listen for the removal of the full notebook cells\n",
       "var notebookContainer = gd.closest('#notebook-container');\n",
       "if (notebookContainer) {{\n",
       "    x.observe(notebookContainer, {childList: true});\n",
       "}}\n",
       "\n",
       "// Listen for the clearing of the current output cell\n",
       "var outputEl = gd.closest('.output');\n",
       "if (outputEl) {{\n",
       "    x.observe(outputEl, {childList: true});\n",
       "}}\n",
       "\n",
       "                        })                };                });            </script>        </div>"
      ]
     },
     "metadata": {},
     "output_type": "display_data"
    }
   ],
   "source": [
    "#определим вклад каджого бренда в недельную выручку за 14 неделю\n",
    "fig = px.pie(df_week_14, values='Выручка', names='Бренд AX 1', title='Доля выручки по брендам за 14 неделю')  \n",
    "fig.update_traces(textposition='inside', textfont_size=12) \n",
    "fig.update_layout(legend=dict(orientation=\"h\", y=1.0, x=1.4)) \n",
    "fig.show()"
   ]
  },
  {
   "cell_type": "code",
   "execution_count": 45,
   "id": "eb053422",
   "metadata": {},
   "outputs": [
    {
     "data": {
      "application/vnd.plotly.v1+json": {
       "config": {
        "plotlyServerURL": "https://plot.ly"
       },
       "data": [
        {
         "domain": {
          "x": [
           0,
           1
          ],
          "y": [
           0,
           1
          ]
         },
         "hovertemplate": "Бренд AX 1=%{label}<br>Выручка=%{value}<extra></extra>",
         "labels": [
          "Shiseido",
          "Clarins",
          "Clinique",
          "Payot",
          "Estee Lauder",
          "BABOR",
          "La Mer",
          "Valmont",
          "Caudalie",
          "CHANEL",
          "Biotherm",
          "La Prairie",
          "Sisley",
          "Kiehls",
          "Lancome",
          "Zielinski&Rozen",
          "ELEMIS",
          "Christian Dior",
          "Cle De Peau",
          "SENSAI",
          "Guam",
          "Lancaster",
          "St.Barth",
          "Loccitane",
          "Rexaline",
          "Guerlain",
          "OK Beauty",
          "Thalgo",
          "FOREO",
          "Glam Glow",
          "Ahava",
          "Lumene",
          "Cellcosmet",
          "Ecooking",
          "Skyn Iceland",
          "James Read",
          "FILORGA",
          "Kenzo",
          "Darphin",
          "Omorovicza",
          "Helena Rubinstein",
          "COOLA",
          "Botany",
          "Dr Barbara Sturm",
          "Swiss Line",
          "MIXIT",
          "Anne Semonin",
          "Biothal",
          "CHOLLEY",
          "Giorgio Armani",
          "Givenchy",
          "Proraso"
         ],
         "legendgroup": "",
         "name": "",
         "showlegend": true,
         "textfont": {
          "size": 12
         },
         "textposition": "inside",
         "type": "pie",
         "values": [
          1267702457.5700006,
          974711947.7500001,
          498201172.67000014,
          368126150.03000057,
          325930625.42000014,
          290841977.18,
          274024565.47,
          270735485.90999997,
          220140721.46,
          217319320.17000014,
          217137765.03000015,
          209556683.71,
          206654314.04999998,
          206567847.8699999,
          204288646.00000012,
          191514856.41999987,
          142541743.16,
          129024994.35999995,
          126510755.28999999,
          125798038.82000001,
          124585676.5,
          124200394.14000002,
          101421030.13000007,
          101412742.99999999,
          86082707.41,
          81926827.48,
          79664556.07000002,
          77089936.99000001,
          76494007.54,
          73313744.34,
          73153235.13999997,
          70834556.72000003,
          68891929.59999998,
          61331195.51999999,
          57110518.70000001,
          54699468.030000016,
          43946338.03,
          39593275.370000005,
          37508782.01,
          36764981.61000001,
          35725576.31,
          30631097.05,
          28789604.7,
          27390688.11,
          24324787.03,
          23972143.549999986,
          19243952.97,
          17949429.009999998,
          16931694.37,
          16306263.340000002,
          15352372.07,
          13934050.799999999
         ]
        }
       ],
       "layout": {
        "legend": {
         "orientation": "h",
         "tracegroupgap": 0,
         "x": 1.4,
         "y": 1
        },
        "template": {
         "data": {
          "bar": [
           {
            "error_x": {
             "color": "#2a3f5f"
            },
            "error_y": {
             "color": "#2a3f5f"
            },
            "marker": {
             "line": {
              "color": "#E5ECF6",
              "width": 0.5
             },
             "pattern": {
              "fillmode": "overlay",
              "size": 10,
              "solidity": 0.2
             }
            },
            "type": "bar"
           }
          ],
          "barpolar": [
           {
            "marker": {
             "line": {
              "color": "#E5ECF6",
              "width": 0.5
             },
             "pattern": {
              "fillmode": "overlay",
              "size": 10,
              "solidity": 0.2
             }
            },
            "type": "barpolar"
           }
          ],
          "carpet": [
           {
            "aaxis": {
             "endlinecolor": "#2a3f5f",
             "gridcolor": "white",
             "linecolor": "white",
             "minorgridcolor": "white",
             "startlinecolor": "#2a3f5f"
            },
            "baxis": {
             "endlinecolor": "#2a3f5f",
             "gridcolor": "white",
             "linecolor": "white",
             "minorgridcolor": "white",
             "startlinecolor": "#2a3f5f"
            },
            "type": "carpet"
           }
          ],
          "choropleth": [
           {
            "colorbar": {
             "outlinewidth": 0,
             "ticks": ""
            },
            "type": "choropleth"
           }
          ],
          "contour": [
           {
            "colorbar": {
             "outlinewidth": 0,
             "ticks": ""
            },
            "colorscale": [
             [
              0,
              "#0d0887"
             ],
             [
              0.1111111111111111,
              "#46039f"
             ],
             [
              0.2222222222222222,
              "#7201a8"
             ],
             [
              0.3333333333333333,
              "#9c179e"
             ],
             [
              0.4444444444444444,
              "#bd3786"
             ],
             [
              0.5555555555555556,
              "#d8576b"
             ],
             [
              0.6666666666666666,
              "#ed7953"
             ],
             [
              0.7777777777777778,
              "#fb9f3a"
             ],
             [
              0.8888888888888888,
              "#fdca26"
             ],
             [
              1,
              "#f0f921"
             ]
            ],
            "type": "contour"
           }
          ],
          "contourcarpet": [
           {
            "colorbar": {
             "outlinewidth": 0,
             "ticks": ""
            },
            "type": "contourcarpet"
           }
          ],
          "heatmap": [
           {
            "colorbar": {
             "outlinewidth": 0,
             "ticks": ""
            },
            "colorscale": [
             [
              0,
              "#0d0887"
             ],
             [
              0.1111111111111111,
              "#46039f"
             ],
             [
              0.2222222222222222,
              "#7201a8"
             ],
             [
              0.3333333333333333,
              "#9c179e"
             ],
             [
              0.4444444444444444,
              "#bd3786"
             ],
             [
              0.5555555555555556,
              "#d8576b"
             ],
             [
              0.6666666666666666,
              "#ed7953"
             ],
             [
              0.7777777777777778,
              "#fb9f3a"
             ],
             [
              0.8888888888888888,
              "#fdca26"
             ],
             [
              1,
              "#f0f921"
             ]
            ],
            "type": "heatmap"
           }
          ],
          "heatmapgl": [
           {
            "colorbar": {
             "outlinewidth": 0,
             "ticks": ""
            },
            "colorscale": [
             [
              0,
              "#0d0887"
             ],
             [
              0.1111111111111111,
              "#46039f"
             ],
             [
              0.2222222222222222,
              "#7201a8"
             ],
             [
              0.3333333333333333,
              "#9c179e"
             ],
             [
              0.4444444444444444,
              "#bd3786"
             ],
             [
              0.5555555555555556,
              "#d8576b"
             ],
             [
              0.6666666666666666,
              "#ed7953"
             ],
             [
              0.7777777777777778,
              "#fb9f3a"
             ],
             [
              0.8888888888888888,
              "#fdca26"
             ],
             [
              1,
              "#f0f921"
             ]
            ],
            "type": "heatmapgl"
           }
          ],
          "histogram": [
           {
            "marker": {
             "pattern": {
              "fillmode": "overlay",
              "size": 10,
              "solidity": 0.2
             }
            },
            "type": "histogram"
           }
          ],
          "histogram2d": [
           {
            "colorbar": {
             "outlinewidth": 0,
             "ticks": ""
            },
            "colorscale": [
             [
              0,
              "#0d0887"
             ],
             [
              0.1111111111111111,
              "#46039f"
             ],
             [
              0.2222222222222222,
              "#7201a8"
             ],
             [
              0.3333333333333333,
              "#9c179e"
             ],
             [
              0.4444444444444444,
              "#bd3786"
             ],
             [
              0.5555555555555556,
              "#d8576b"
             ],
             [
              0.6666666666666666,
              "#ed7953"
             ],
             [
              0.7777777777777778,
              "#fb9f3a"
             ],
             [
              0.8888888888888888,
              "#fdca26"
             ],
             [
              1,
              "#f0f921"
             ]
            ],
            "type": "histogram2d"
           }
          ],
          "histogram2dcontour": [
           {
            "colorbar": {
             "outlinewidth": 0,
             "ticks": ""
            },
            "colorscale": [
             [
              0,
              "#0d0887"
             ],
             [
              0.1111111111111111,
              "#46039f"
             ],
             [
              0.2222222222222222,
              "#7201a8"
             ],
             [
              0.3333333333333333,
              "#9c179e"
             ],
             [
              0.4444444444444444,
              "#bd3786"
             ],
             [
              0.5555555555555556,
              "#d8576b"
             ],
             [
              0.6666666666666666,
              "#ed7953"
             ],
             [
              0.7777777777777778,
              "#fb9f3a"
             ],
             [
              0.8888888888888888,
              "#fdca26"
             ],
             [
              1,
              "#f0f921"
             ]
            ],
            "type": "histogram2dcontour"
           }
          ],
          "mesh3d": [
           {
            "colorbar": {
             "outlinewidth": 0,
             "ticks": ""
            },
            "type": "mesh3d"
           }
          ],
          "parcoords": [
           {
            "line": {
             "colorbar": {
              "outlinewidth": 0,
              "ticks": ""
             }
            },
            "type": "parcoords"
           }
          ],
          "pie": [
           {
            "automargin": true,
            "type": "pie"
           }
          ],
          "scatter": [
           {
            "fillpattern": {
             "fillmode": "overlay",
             "size": 10,
             "solidity": 0.2
            },
            "type": "scatter"
           }
          ],
          "scatter3d": [
           {
            "line": {
             "colorbar": {
              "outlinewidth": 0,
              "ticks": ""
             }
            },
            "marker": {
             "colorbar": {
              "outlinewidth": 0,
              "ticks": ""
             }
            },
            "type": "scatter3d"
           }
          ],
          "scattercarpet": [
           {
            "marker": {
             "colorbar": {
              "outlinewidth": 0,
              "ticks": ""
             }
            },
            "type": "scattercarpet"
           }
          ],
          "scattergeo": [
           {
            "marker": {
             "colorbar": {
              "outlinewidth": 0,
              "ticks": ""
             }
            },
            "type": "scattergeo"
           }
          ],
          "scattergl": [
           {
            "marker": {
             "colorbar": {
              "outlinewidth": 0,
              "ticks": ""
             }
            },
            "type": "scattergl"
           }
          ],
          "scattermapbox": [
           {
            "marker": {
             "colorbar": {
              "outlinewidth": 0,
              "ticks": ""
             }
            },
            "type": "scattermapbox"
           }
          ],
          "scatterpolar": [
           {
            "marker": {
             "colorbar": {
              "outlinewidth": 0,
              "ticks": ""
             }
            },
            "type": "scatterpolar"
           }
          ],
          "scatterpolargl": [
           {
            "marker": {
             "colorbar": {
              "outlinewidth": 0,
              "ticks": ""
             }
            },
            "type": "scatterpolargl"
           }
          ],
          "scatterternary": [
           {
            "marker": {
             "colorbar": {
              "outlinewidth": 0,
              "ticks": ""
             }
            },
            "type": "scatterternary"
           }
          ],
          "surface": [
           {
            "colorbar": {
             "outlinewidth": 0,
             "ticks": ""
            },
            "colorscale": [
             [
              0,
              "#0d0887"
             ],
             [
              0.1111111111111111,
              "#46039f"
             ],
             [
              0.2222222222222222,
              "#7201a8"
             ],
             [
              0.3333333333333333,
              "#9c179e"
             ],
             [
              0.4444444444444444,
              "#bd3786"
             ],
             [
              0.5555555555555556,
              "#d8576b"
             ],
             [
              0.6666666666666666,
              "#ed7953"
             ],
             [
              0.7777777777777778,
              "#fb9f3a"
             ],
             [
              0.8888888888888888,
              "#fdca26"
             ],
             [
              1,
              "#f0f921"
             ]
            ],
            "type": "surface"
           }
          ],
          "table": [
           {
            "cells": {
             "fill": {
              "color": "#EBF0F8"
             },
             "line": {
              "color": "white"
             }
            },
            "header": {
             "fill": {
              "color": "#C8D4E3"
             },
             "line": {
              "color": "white"
             }
            },
            "type": "table"
           }
          ]
         },
         "layout": {
          "annotationdefaults": {
           "arrowcolor": "#2a3f5f",
           "arrowhead": 0,
           "arrowwidth": 1
          },
          "autotypenumbers": "strict",
          "coloraxis": {
           "colorbar": {
            "outlinewidth": 0,
            "ticks": ""
           }
          },
          "colorscale": {
           "diverging": [
            [
             0,
             "#8e0152"
            ],
            [
             0.1,
             "#c51b7d"
            ],
            [
             0.2,
             "#de77ae"
            ],
            [
             0.3,
             "#f1b6da"
            ],
            [
             0.4,
             "#fde0ef"
            ],
            [
             0.5,
             "#f7f7f7"
            ],
            [
             0.6,
             "#e6f5d0"
            ],
            [
             0.7,
             "#b8e186"
            ],
            [
             0.8,
             "#7fbc41"
            ],
            [
             0.9,
             "#4d9221"
            ],
            [
             1,
             "#276419"
            ]
           ],
           "sequential": [
            [
             0,
             "#0d0887"
            ],
            [
             0.1111111111111111,
             "#46039f"
            ],
            [
             0.2222222222222222,
             "#7201a8"
            ],
            [
             0.3333333333333333,
             "#9c179e"
            ],
            [
             0.4444444444444444,
             "#bd3786"
            ],
            [
             0.5555555555555556,
             "#d8576b"
            ],
            [
             0.6666666666666666,
             "#ed7953"
            ],
            [
             0.7777777777777778,
             "#fb9f3a"
            ],
            [
             0.8888888888888888,
             "#fdca26"
            ],
            [
             1,
             "#f0f921"
            ]
           ],
           "sequentialminus": [
            [
             0,
             "#0d0887"
            ],
            [
             0.1111111111111111,
             "#46039f"
            ],
            [
             0.2222222222222222,
             "#7201a8"
            ],
            [
             0.3333333333333333,
             "#9c179e"
            ],
            [
             0.4444444444444444,
             "#bd3786"
            ],
            [
             0.5555555555555556,
             "#d8576b"
            ],
            [
             0.6666666666666666,
             "#ed7953"
            ],
            [
             0.7777777777777778,
             "#fb9f3a"
            ],
            [
             0.8888888888888888,
             "#fdca26"
            ],
            [
             1,
             "#f0f921"
            ]
           ]
          },
          "colorway": [
           "#636efa",
           "#EF553B",
           "#00cc96",
           "#ab63fa",
           "#FFA15A",
           "#19d3f3",
           "#FF6692",
           "#B6E880",
           "#FF97FF",
           "#FECB52"
          ],
          "font": {
           "color": "#2a3f5f"
          },
          "geo": {
           "bgcolor": "white",
           "lakecolor": "white",
           "landcolor": "#E5ECF6",
           "showlakes": true,
           "showland": true,
           "subunitcolor": "white"
          },
          "hoverlabel": {
           "align": "left"
          },
          "hovermode": "closest",
          "mapbox": {
           "style": "light"
          },
          "paper_bgcolor": "white",
          "plot_bgcolor": "#E5ECF6",
          "polar": {
           "angularaxis": {
            "gridcolor": "white",
            "linecolor": "white",
            "ticks": ""
           },
           "bgcolor": "#E5ECF6",
           "radialaxis": {
            "gridcolor": "white",
            "linecolor": "white",
            "ticks": ""
           }
          },
          "scene": {
           "xaxis": {
            "backgroundcolor": "#E5ECF6",
            "gridcolor": "white",
            "gridwidth": 2,
            "linecolor": "white",
            "showbackground": true,
            "ticks": "",
            "zerolinecolor": "white"
           },
           "yaxis": {
            "backgroundcolor": "#E5ECF6",
            "gridcolor": "white",
            "gridwidth": 2,
            "linecolor": "white",
            "showbackground": true,
            "ticks": "",
            "zerolinecolor": "white"
           },
           "zaxis": {
            "backgroundcolor": "#E5ECF6",
            "gridcolor": "white",
            "gridwidth": 2,
            "linecolor": "white",
            "showbackground": true,
            "ticks": "",
            "zerolinecolor": "white"
           }
          },
          "shapedefaults": {
           "line": {
            "color": "#2a3f5f"
           }
          },
          "ternary": {
           "aaxis": {
            "gridcolor": "white",
            "linecolor": "white",
            "ticks": ""
           },
           "baxis": {
            "gridcolor": "white",
            "linecolor": "white",
            "ticks": ""
           },
           "bgcolor": "#E5ECF6",
           "caxis": {
            "gridcolor": "white",
            "linecolor": "white",
            "ticks": ""
           }
          },
          "title": {
           "x": 0.05
          },
          "xaxis": {
           "automargin": true,
           "gridcolor": "white",
           "linecolor": "white",
           "ticks": "",
           "title": {
            "standoff": 15
           },
           "zerolinecolor": "white",
           "zerolinewidth": 2
          },
          "yaxis": {
           "automargin": true,
           "gridcolor": "white",
           "linecolor": "white",
           "ticks": "",
           "title": {
            "standoff": 15
           },
           "zerolinecolor": "white",
           "zerolinewidth": 2
          }
         }
        },
        "title": {
         "text": "Доля выручки по брендам за 15 неделю"
        }
       }
      },
      "text/html": [
       "<div>                            <div id=\"6d082256-528e-41a0-8dcb-3fef59002c6b\" class=\"plotly-graph-div\" style=\"height:525px; width:100%;\"></div>            <script type=\"text/javascript\">                require([\"plotly\"], function(Plotly) {                    window.PLOTLYENV=window.PLOTLYENV || {};                                    if (document.getElementById(\"6d082256-528e-41a0-8dcb-3fef59002c6b\")) {                    Plotly.newPlot(                        \"6d082256-528e-41a0-8dcb-3fef59002c6b\",                        [{\"domain\":{\"x\":[0.0,1.0],\"y\":[0.0,1.0]},\"hovertemplate\":\"\\u0411\\u0440\\u0435\\u043d\\u0434 AX 1=%{label}<br>\\u0412\\u044b\\u0440\\u0443\\u0447\\u043a\\u0430=%{value}<extra></extra>\",\"labels\":[\"Shiseido\",\"Clarins\",\"Clinique\",\"Payot\",\"Estee Lauder\",\"BABOR\",\"La Mer\",\"Valmont\",\"Caudalie\",\"CHANEL\",\"Biotherm\",\"La Prairie\",\"Sisley\",\"Kiehls\",\"Lancome\",\"Zielinski&Rozen\",\"ELEMIS\",\"Christian Dior\",\"Cle De Peau\",\"SENSAI\",\"Guam\",\"Lancaster\",\"St.Barth\",\"Loccitane\",\"Rexaline\",\"Guerlain\",\"OK Beauty\",\"Thalgo\",\"FOREO\",\"Glam Glow\",\"Ahava\",\"Lumene\",\"Cellcosmet\",\"Ecooking\",\"Skyn Iceland\",\"James Read\",\"FILORGA\",\"Kenzo\",\"Darphin\",\"Omorovicza\",\"Helena Rubinstein\",\"COOLA\",\"Botany\",\"Dr Barbara Sturm\",\"Swiss Line\",\"MIXIT\",\"Anne Semonin\",\"Biothal\",\"CHOLLEY\",\"Giorgio Armani\",\"Givenchy\",\"Proraso\"],\"legendgroup\":\"\",\"name\":\"\",\"showlegend\":true,\"values\":[1267702457.5700006,974711947.7500001,498201172.67000014,368126150.03000057,325930625.42000014,290841977.18,274024565.47,270735485.90999997,220140721.46,217319320.17000014,217137765.03000015,209556683.71,206654314.04999998,206567847.8699999,204288646.00000012,191514856.41999987,142541743.16,129024994.35999995,126510755.28999999,125798038.82000001,124585676.5,124200394.14000002,101421030.13000007,101412742.99999999,86082707.41,81926827.48,79664556.07000002,77089936.99000001,76494007.54,73313744.34,73153235.13999997,70834556.72000003,68891929.59999998,61331195.51999999,57110518.70000001,54699468.030000016,43946338.03,39593275.370000005,37508782.01,36764981.61000001,35725576.31,30631097.05,28789604.7,27390688.11,24324787.03,23972143.549999986,19243952.97,17949429.009999998,16931694.37,16306263.340000002,15352372.07,13934050.799999999],\"type\":\"pie\",\"textfont\":{\"size\":12},\"textposition\":\"inside\"}],                        {\"template\":{\"data\":{\"histogram2dcontour\":[{\"type\":\"histogram2dcontour\",\"colorbar\":{\"outlinewidth\":0,\"ticks\":\"\"},\"colorscale\":[[0.0,\"#0d0887\"],[0.1111111111111111,\"#46039f\"],[0.2222222222222222,\"#7201a8\"],[0.3333333333333333,\"#9c179e\"],[0.4444444444444444,\"#bd3786\"],[0.5555555555555556,\"#d8576b\"],[0.6666666666666666,\"#ed7953\"],[0.7777777777777778,\"#fb9f3a\"],[0.8888888888888888,\"#fdca26\"],[1.0,\"#f0f921\"]]}],\"choropleth\":[{\"type\":\"choropleth\",\"colorbar\":{\"outlinewidth\":0,\"ticks\":\"\"}}],\"histogram2d\":[{\"type\":\"histogram2d\",\"colorbar\":{\"outlinewidth\":0,\"ticks\":\"\"},\"colorscale\":[[0.0,\"#0d0887\"],[0.1111111111111111,\"#46039f\"],[0.2222222222222222,\"#7201a8\"],[0.3333333333333333,\"#9c179e\"],[0.4444444444444444,\"#bd3786\"],[0.5555555555555556,\"#d8576b\"],[0.6666666666666666,\"#ed7953\"],[0.7777777777777778,\"#fb9f3a\"],[0.8888888888888888,\"#fdca26\"],[1.0,\"#f0f921\"]]}],\"heatmap\":[{\"type\":\"heatmap\",\"colorbar\":{\"outlinewidth\":0,\"ticks\":\"\"},\"colorscale\":[[0.0,\"#0d0887\"],[0.1111111111111111,\"#46039f\"],[0.2222222222222222,\"#7201a8\"],[0.3333333333333333,\"#9c179e\"],[0.4444444444444444,\"#bd3786\"],[0.5555555555555556,\"#d8576b\"],[0.6666666666666666,\"#ed7953\"],[0.7777777777777778,\"#fb9f3a\"],[0.8888888888888888,\"#fdca26\"],[1.0,\"#f0f921\"]]}],\"heatmapgl\":[{\"type\":\"heatmapgl\",\"colorbar\":{\"outlinewidth\":0,\"ticks\":\"\"},\"colorscale\":[[0.0,\"#0d0887\"],[0.1111111111111111,\"#46039f\"],[0.2222222222222222,\"#7201a8\"],[0.3333333333333333,\"#9c179e\"],[0.4444444444444444,\"#bd3786\"],[0.5555555555555556,\"#d8576b\"],[0.6666666666666666,\"#ed7953\"],[0.7777777777777778,\"#fb9f3a\"],[0.8888888888888888,\"#fdca26\"],[1.0,\"#f0f921\"]]}],\"contourcarpet\":[{\"type\":\"contourcarpet\",\"colorbar\":{\"outlinewidth\":0,\"ticks\":\"\"}}],\"contour\":[{\"type\":\"contour\",\"colorbar\":{\"outlinewidth\":0,\"ticks\":\"\"},\"colorscale\":[[0.0,\"#0d0887\"],[0.1111111111111111,\"#46039f\"],[0.2222222222222222,\"#7201a8\"],[0.3333333333333333,\"#9c179e\"],[0.4444444444444444,\"#bd3786\"],[0.5555555555555556,\"#d8576b\"],[0.6666666666666666,\"#ed7953\"],[0.7777777777777778,\"#fb9f3a\"],[0.8888888888888888,\"#fdca26\"],[1.0,\"#f0f921\"]]}],\"surface\":[{\"type\":\"surface\",\"colorbar\":{\"outlinewidth\":0,\"ticks\":\"\"},\"colorscale\":[[0.0,\"#0d0887\"],[0.1111111111111111,\"#46039f\"],[0.2222222222222222,\"#7201a8\"],[0.3333333333333333,\"#9c179e\"],[0.4444444444444444,\"#bd3786\"],[0.5555555555555556,\"#d8576b\"],[0.6666666666666666,\"#ed7953\"],[0.7777777777777778,\"#fb9f3a\"],[0.8888888888888888,\"#fdca26\"],[1.0,\"#f0f921\"]]}],\"mesh3d\":[{\"type\":\"mesh3d\",\"colorbar\":{\"outlinewidth\":0,\"ticks\":\"\"}}],\"scatter\":[{\"fillpattern\":{\"fillmode\":\"overlay\",\"size\":10,\"solidity\":0.2},\"type\":\"scatter\"}],\"parcoords\":[{\"type\":\"parcoords\",\"line\":{\"colorbar\":{\"outlinewidth\":0,\"ticks\":\"\"}}}],\"scatterpolargl\":[{\"type\":\"scatterpolargl\",\"marker\":{\"colorbar\":{\"outlinewidth\":0,\"ticks\":\"\"}}}],\"bar\":[{\"error_x\":{\"color\":\"#2a3f5f\"},\"error_y\":{\"color\":\"#2a3f5f\"},\"marker\":{\"line\":{\"color\":\"#E5ECF6\",\"width\":0.5},\"pattern\":{\"fillmode\":\"overlay\",\"size\":10,\"solidity\":0.2}},\"type\":\"bar\"}],\"scattergeo\":[{\"type\":\"scattergeo\",\"marker\":{\"colorbar\":{\"outlinewidth\":0,\"ticks\":\"\"}}}],\"scatterpolar\":[{\"type\":\"scatterpolar\",\"marker\":{\"colorbar\":{\"outlinewidth\":0,\"ticks\":\"\"}}}],\"histogram\":[{\"marker\":{\"pattern\":{\"fillmode\":\"overlay\",\"size\":10,\"solidity\":0.2}},\"type\":\"histogram\"}],\"scattergl\":[{\"type\":\"scattergl\",\"marker\":{\"colorbar\":{\"outlinewidth\":0,\"ticks\":\"\"}}}],\"scatter3d\":[{\"type\":\"scatter3d\",\"line\":{\"colorbar\":{\"outlinewidth\":0,\"ticks\":\"\"}},\"marker\":{\"colorbar\":{\"outlinewidth\":0,\"ticks\":\"\"}}}],\"scattermapbox\":[{\"type\":\"scattermapbox\",\"marker\":{\"colorbar\":{\"outlinewidth\":0,\"ticks\":\"\"}}}],\"scatterternary\":[{\"type\":\"scatterternary\",\"marker\":{\"colorbar\":{\"outlinewidth\":0,\"ticks\":\"\"}}}],\"scattercarpet\":[{\"type\":\"scattercarpet\",\"marker\":{\"colorbar\":{\"outlinewidth\":0,\"ticks\":\"\"}}}],\"carpet\":[{\"aaxis\":{\"endlinecolor\":\"#2a3f5f\",\"gridcolor\":\"white\",\"linecolor\":\"white\",\"minorgridcolor\":\"white\",\"startlinecolor\":\"#2a3f5f\"},\"baxis\":{\"endlinecolor\":\"#2a3f5f\",\"gridcolor\":\"white\",\"linecolor\":\"white\",\"minorgridcolor\":\"white\",\"startlinecolor\":\"#2a3f5f\"},\"type\":\"carpet\"}],\"table\":[{\"cells\":{\"fill\":{\"color\":\"#EBF0F8\"},\"line\":{\"color\":\"white\"}},\"header\":{\"fill\":{\"color\":\"#C8D4E3\"},\"line\":{\"color\":\"white\"}},\"type\":\"table\"}],\"barpolar\":[{\"marker\":{\"line\":{\"color\":\"#E5ECF6\",\"width\":0.5},\"pattern\":{\"fillmode\":\"overlay\",\"size\":10,\"solidity\":0.2}},\"type\":\"barpolar\"}],\"pie\":[{\"automargin\":true,\"type\":\"pie\"}]},\"layout\":{\"autotypenumbers\":\"strict\",\"colorway\":[\"#636efa\",\"#EF553B\",\"#00cc96\",\"#ab63fa\",\"#FFA15A\",\"#19d3f3\",\"#FF6692\",\"#B6E880\",\"#FF97FF\",\"#FECB52\"],\"font\":{\"color\":\"#2a3f5f\"},\"hovermode\":\"closest\",\"hoverlabel\":{\"align\":\"left\"},\"paper_bgcolor\":\"white\",\"plot_bgcolor\":\"#E5ECF6\",\"polar\":{\"bgcolor\":\"#E5ECF6\",\"angularaxis\":{\"gridcolor\":\"white\",\"linecolor\":\"white\",\"ticks\":\"\"},\"radialaxis\":{\"gridcolor\":\"white\",\"linecolor\":\"white\",\"ticks\":\"\"}},\"ternary\":{\"bgcolor\":\"#E5ECF6\",\"aaxis\":{\"gridcolor\":\"white\",\"linecolor\":\"white\",\"ticks\":\"\"},\"baxis\":{\"gridcolor\":\"white\",\"linecolor\":\"white\",\"ticks\":\"\"},\"caxis\":{\"gridcolor\":\"white\",\"linecolor\":\"white\",\"ticks\":\"\"}},\"coloraxis\":{\"colorbar\":{\"outlinewidth\":0,\"ticks\":\"\"}},\"colorscale\":{\"sequential\":[[0.0,\"#0d0887\"],[0.1111111111111111,\"#46039f\"],[0.2222222222222222,\"#7201a8\"],[0.3333333333333333,\"#9c179e\"],[0.4444444444444444,\"#bd3786\"],[0.5555555555555556,\"#d8576b\"],[0.6666666666666666,\"#ed7953\"],[0.7777777777777778,\"#fb9f3a\"],[0.8888888888888888,\"#fdca26\"],[1.0,\"#f0f921\"]],\"sequentialminus\":[[0.0,\"#0d0887\"],[0.1111111111111111,\"#46039f\"],[0.2222222222222222,\"#7201a8\"],[0.3333333333333333,\"#9c179e\"],[0.4444444444444444,\"#bd3786\"],[0.5555555555555556,\"#d8576b\"],[0.6666666666666666,\"#ed7953\"],[0.7777777777777778,\"#fb9f3a\"],[0.8888888888888888,\"#fdca26\"],[1.0,\"#f0f921\"]],\"diverging\":[[0,\"#8e0152\"],[0.1,\"#c51b7d\"],[0.2,\"#de77ae\"],[0.3,\"#f1b6da\"],[0.4,\"#fde0ef\"],[0.5,\"#f7f7f7\"],[0.6,\"#e6f5d0\"],[0.7,\"#b8e186\"],[0.8,\"#7fbc41\"],[0.9,\"#4d9221\"],[1,\"#276419\"]]},\"xaxis\":{\"gridcolor\":\"white\",\"linecolor\":\"white\",\"ticks\":\"\",\"title\":{\"standoff\":15},\"zerolinecolor\":\"white\",\"automargin\":true,\"zerolinewidth\":2},\"yaxis\":{\"gridcolor\":\"white\",\"linecolor\":\"white\",\"ticks\":\"\",\"title\":{\"standoff\":15},\"zerolinecolor\":\"white\",\"automargin\":true,\"zerolinewidth\":2},\"scene\":{\"xaxis\":{\"backgroundcolor\":\"#E5ECF6\",\"gridcolor\":\"white\",\"linecolor\":\"white\",\"showbackground\":true,\"ticks\":\"\",\"zerolinecolor\":\"white\",\"gridwidth\":2},\"yaxis\":{\"backgroundcolor\":\"#E5ECF6\",\"gridcolor\":\"white\",\"linecolor\":\"white\",\"showbackground\":true,\"ticks\":\"\",\"zerolinecolor\":\"white\",\"gridwidth\":2},\"zaxis\":{\"backgroundcolor\":\"#E5ECF6\",\"gridcolor\":\"white\",\"linecolor\":\"white\",\"showbackground\":true,\"ticks\":\"\",\"zerolinecolor\":\"white\",\"gridwidth\":2}},\"shapedefaults\":{\"line\":{\"color\":\"#2a3f5f\"}},\"annotationdefaults\":{\"arrowcolor\":\"#2a3f5f\",\"arrowhead\":0,\"arrowwidth\":1},\"geo\":{\"bgcolor\":\"white\",\"landcolor\":\"#E5ECF6\",\"subunitcolor\":\"white\",\"showland\":true,\"showlakes\":true,\"lakecolor\":\"white\"},\"title\":{\"x\":0.05},\"mapbox\":{\"style\":\"light\"}}},\"legend\":{\"tracegroupgap\":0,\"orientation\":\"h\",\"y\":1.0,\"x\":1.4},\"title\":{\"text\":\"\\u0414\\u043e\\u043b\\u044f \\u0432\\u044b\\u0440\\u0443\\u0447\\u043a\\u0438 \\u043f\\u043e \\u0431\\u0440\\u0435\\u043d\\u0434\\u0430\\u043c \\u0437\\u0430 15 \\u043d\\u0435\\u0434\\u0435\\u043b\\u044e\"}},                        {\"responsive\": true}                    ).then(function(){\n",
       "                            \n",
       "var gd = document.getElementById('6d082256-528e-41a0-8dcb-3fef59002c6b');\n",
       "var x = new MutationObserver(function (mutations, observer) {{\n",
       "        var display = window.getComputedStyle(gd).display;\n",
       "        if (!display || display === 'none') {{\n",
       "            console.log([gd, 'removed!']);\n",
       "            Plotly.purge(gd);\n",
       "            observer.disconnect();\n",
       "        }}\n",
       "}});\n",
       "\n",
       "// Listen for the removal of the full notebook cells\n",
       "var notebookContainer = gd.closest('#notebook-container');\n",
       "if (notebookContainer) {{\n",
       "    x.observe(notebookContainer, {childList: true});\n",
       "}}\n",
       "\n",
       "// Listen for the clearing of the current output cell\n",
       "var outputEl = gd.closest('.output');\n",
       "if (outputEl) {{\n",
       "    x.observe(outputEl, {childList: true});\n",
       "}}\n",
       "\n",
       "                        })                };                });            </script>        </div>"
      ]
     },
     "metadata": {},
     "output_type": "display_data"
    }
   ],
   "source": [
    "#определим вклад каджого бренда в недельную выручку за 15 неделю\n",
    "fig = px.pie(df_week_15, values='Выручка', names='Бренд AX 1', title='Доля выручки по брендам за 15 неделю')  \n",
    "fig.update_traces(textposition='inside', textfont_size=12) \n",
    "fig.update_layout(legend=dict(orientation=\"h\", y=1.0, x=1.4)) \n",
    "fig.show()"
   ]
  },
  {
   "cell_type": "markdown",
   "id": "2dcba51a",
   "metadata": {},
   "source": [
    "**ВЫРУЧКА**\n",
    "* `Неделя 14`\n",
    "\n",
    "`Shiseido`(16%) и `Clarins`(15.7%) формируют более 30% выручки\n",
    "\n",
    "далее по вкладу в выручку следуют `Сlinique` (5.7%), `Estee Lauder` (3.9%), `BABOR` (3.7%)\n",
    "\n",
    "* `Неделя 15`\n",
    "\n",
    "Доля `Shiseido`(15.4%) и **`Clarins`(11.9%)**, **`Сlinique` (6,1%)**, **`Payot`(4,5%)** против 3,1% за 14 неделю, `Estee Lauder` (3,9%), `BABOR` (3,5%)\n",
    "\n",
    "\n",
    "Изучим, как менялась маржа и маржинальность:"
   ]
  },
  {
   "cell_type": "code",
   "execution_count": 46,
   "id": "b3a1cadc",
   "metadata": {},
   "outputs": [
    {
     "data": {
      "application/vnd.plotly.v1+json": {
       "config": {
        "plotlyServerURL": "https://plot.ly"
       },
       "data": [
        {
         "domain": {
          "x": [
           0,
           1
          ],
          "y": [
           0,
           1
          ]
         },
         "hovertemplate": "Бренд AX 1=%{label}<br>Маржа=%{value}<extra></extra>",
         "labels": [
          "Shiseido",
          "Clarins",
          "Clinique",
          "Estee Lauder",
          "BABOR",
          "Sisley",
          "Payot",
          "Lancome",
          "CHANEL",
          "La Mer",
          "Biotherm",
          "La Prairie",
          "Valmont",
          "Zielinski&Rozen",
          "Kiehls",
          "Caudalie",
          "SENSAI",
          "Cle De Peau",
          "Christian Dior",
          "ELEMIS",
          "Guam",
          "Loccitane",
          "Lumene",
          "Lancaster",
          "Rexaline",
          "Cellcosmet",
          "FOREO",
          "St.Barth",
          "Guerlain",
          "Thalgo",
          "Glam Glow",
          "Ecooking",
          "FILORGA",
          "Skyn Iceland",
          "OK Beauty",
          "Darphin",
          "Helena Rubinstein",
          "Ahava",
          "James Read",
          "Dr Barbara Sturm",
          "Anne Semonin",
          "Botany",
          "Kenzo",
          "MIXIT",
          "Omorovicza",
          "COOLA",
          "Dr Brandt",
          "Swiss Line",
          "Givenchy",
          "Bellefontaine",
          "Proraso",
          "Grown Alchemist"
         ],
         "legendgroup": "",
         "name": "",
         "showlegend": true,
         "textfont": {
          "size": 12
         },
         "textposition": "inside",
         "type": "pie",
         "values": [
          227180372.46972162,
          121486276.25718327,
          82392996.64982776,
          35615690.98046792,
          45687429.72234865,
          46849781.62221211,
          57563344.87482937,
          24694935.561219852,
          20775902.835685,
          39439072.98588986,
          26067808.38324994,
          30806341.310878478,
          29825590.485290047,
          38745915.34365044,
          35881791.59763313,
          33476502.28130927,
          23815834.3104233,
          13319630.13368319,
          13214474.369594902,
          28778660.869367316,
          17135661.306326807,
          13546579.954483386,
          11898241.880974041,
          11512197.924442424,
          10272151.497496586,
          9657386.9139736,
          15804250.159308145,
          12963240.564406008,
          5644620.621756938,
          9093531.506115261,
          7796412.74047252,
          18544622.43513882,
          12589842.044606283,
          9620117.551206188,
          9246050.805644054,
          7198080.495981743,
          6253985.210286754,
          5523678.119253526,
          10164563.782430585,
          9318365.229858901,
          6604613.482020937,
          7566499.399180702,
          2725299.594446974,
          5142942.5853436515,
          5104508.379608557,
          4639000.837505689,
          2734412.432862995,
          3580948.777423759,
          1886594.4180700956,
          1919656.2221210739,
          3566732.330450615,
          3114570.5962676383
         ]
        }
       ],
       "layout": {
        "legend": {
         "orientation": "h",
         "tracegroupgap": 0,
         "x": 1.4,
         "y": 1
        },
        "template": {
         "data": {
          "bar": [
           {
            "error_x": {
             "color": "#2a3f5f"
            },
            "error_y": {
             "color": "#2a3f5f"
            },
            "marker": {
             "line": {
              "color": "#E5ECF6",
              "width": 0.5
             },
             "pattern": {
              "fillmode": "overlay",
              "size": 10,
              "solidity": 0.2
             }
            },
            "type": "bar"
           }
          ],
          "barpolar": [
           {
            "marker": {
             "line": {
              "color": "#E5ECF6",
              "width": 0.5
             },
             "pattern": {
              "fillmode": "overlay",
              "size": 10,
              "solidity": 0.2
             }
            },
            "type": "barpolar"
           }
          ],
          "carpet": [
           {
            "aaxis": {
             "endlinecolor": "#2a3f5f",
             "gridcolor": "white",
             "linecolor": "white",
             "minorgridcolor": "white",
             "startlinecolor": "#2a3f5f"
            },
            "baxis": {
             "endlinecolor": "#2a3f5f",
             "gridcolor": "white",
             "linecolor": "white",
             "minorgridcolor": "white",
             "startlinecolor": "#2a3f5f"
            },
            "type": "carpet"
           }
          ],
          "choropleth": [
           {
            "colorbar": {
             "outlinewidth": 0,
             "ticks": ""
            },
            "type": "choropleth"
           }
          ],
          "contour": [
           {
            "colorbar": {
             "outlinewidth": 0,
             "ticks": ""
            },
            "colorscale": [
             [
              0,
              "#0d0887"
             ],
             [
              0.1111111111111111,
              "#46039f"
             ],
             [
              0.2222222222222222,
              "#7201a8"
             ],
             [
              0.3333333333333333,
              "#9c179e"
             ],
             [
              0.4444444444444444,
              "#bd3786"
             ],
             [
              0.5555555555555556,
              "#d8576b"
             ],
             [
              0.6666666666666666,
              "#ed7953"
             ],
             [
              0.7777777777777778,
              "#fb9f3a"
             ],
             [
              0.8888888888888888,
              "#fdca26"
             ],
             [
              1,
              "#f0f921"
             ]
            ],
            "type": "contour"
           }
          ],
          "contourcarpet": [
           {
            "colorbar": {
             "outlinewidth": 0,
             "ticks": ""
            },
            "type": "contourcarpet"
           }
          ],
          "heatmap": [
           {
            "colorbar": {
             "outlinewidth": 0,
             "ticks": ""
            },
            "colorscale": [
             [
              0,
              "#0d0887"
             ],
             [
              0.1111111111111111,
              "#46039f"
             ],
             [
              0.2222222222222222,
              "#7201a8"
             ],
             [
              0.3333333333333333,
              "#9c179e"
             ],
             [
              0.4444444444444444,
              "#bd3786"
             ],
             [
              0.5555555555555556,
              "#d8576b"
             ],
             [
              0.6666666666666666,
              "#ed7953"
             ],
             [
              0.7777777777777778,
              "#fb9f3a"
             ],
             [
              0.8888888888888888,
              "#fdca26"
             ],
             [
              1,
              "#f0f921"
             ]
            ],
            "type": "heatmap"
           }
          ],
          "heatmapgl": [
           {
            "colorbar": {
             "outlinewidth": 0,
             "ticks": ""
            },
            "colorscale": [
             [
              0,
              "#0d0887"
             ],
             [
              0.1111111111111111,
              "#46039f"
             ],
             [
              0.2222222222222222,
              "#7201a8"
             ],
             [
              0.3333333333333333,
              "#9c179e"
             ],
             [
              0.4444444444444444,
              "#bd3786"
             ],
             [
              0.5555555555555556,
              "#d8576b"
             ],
             [
              0.6666666666666666,
              "#ed7953"
             ],
             [
              0.7777777777777778,
              "#fb9f3a"
             ],
             [
              0.8888888888888888,
              "#fdca26"
             ],
             [
              1,
              "#f0f921"
             ]
            ],
            "type": "heatmapgl"
           }
          ],
          "histogram": [
           {
            "marker": {
             "pattern": {
              "fillmode": "overlay",
              "size": 10,
              "solidity": 0.2
             }
            },
            "type": "histogram"
           }
          ],
          "histogram2d": [
           {
            "colorbar": {
             "outlinewidth": 0,
             "ticks": ""
            },
            "colorscale": [
             [
              0,
              "#0d0887"
             ],
             [
              0.1111111111111111,
              "#46039f"
             ],
             [
              0.2222222222222222,
              "#7201a8"
             ],
             [
              0.3333333333333333,
              "#9c179e"
             ],
             [
              0.4444444444444444,
              "#bd3786"
             ],
             [
              0.5555555555555556,
              "#d8576b"
             ],
             [
              0.6666666666666666,
              "#ed7953"
             ],
             [
              0.7777777777777778,
              "#fb9f3a"
             ],
             [
              0.8888888888888888,
              "#fdca26"
             ],
             [
              1,
              "#f0f921"
             ]
            ],
            "type": "histogram2d"
           }
          ],
          "histogram2dcontour": [
           {
            "colorbar": {
             "outlinewidth": 0,
             "ticks": ""
            },
            "colorscale": [
             [
              0,
              "#0d0887"
             ],
             [
              0.1111111111111111,
              "#46039f"
             ],
             [
              0.2222222222222222,
              "#7201a8"
             ],
             [
              0.3333333333333333,
              "#9c179e"
             ],
             [
              0.4444444444444444,
              "#bd3786"
             ],
             [
              0.5555555555555556,
              "#d8576b"
             ],
             [
              0.6666666666666666,
              "#ed7953"
             ],
             [
              0.7777777777777778,
              "#fb9f3a"
             ],
             [
              0.8888888888888888,
              "#fdca26"
             ],
             [
              1,
              "#f0f921"
             ]
            ],
            "type": "histogram2dcontour"
           }
          ],
          "mesh3d": [
           {
            "colorbar": {
             "outlinewidth": 0,
             "ticks": ""
            },
            "type": "mesh3d"
           }
          ],
          "parcoords": [
           {
            "line": {
             "colorbar": {
              "outlinewidth": 0,
              "ticks": ""
             }
            },
            "type": "parcoords"
           }
          ],
          "pie": [
           {
            "automargin": true,
            "type": "pie"
           }
          ],
          "scatter": [
           {
            "fillpattern": {
             "fillmode": "overlay",
             "size": 10,
             "solidity": 0.2
            },
            "type": "scatter"
           }
          ],
          "scatter3d": [
           {
            "line": {
             "colorbar": {
              "outlinewidth": 0,
              "ticks": ""
             }
            },
            "marker": {
             "colorbar": {
              "outlinewidth": 0,
              "ticks": ""
             }
            },
            "type": "scatter3d"
           }
          ],
          "scattercarpet": [
           {
            "marker": {
             "colorbar": {
              "outlinewidth": 0,
              "ticks": ""
             }
            },
            "type": "scattercarpet"
           }
          ],
          "scattergeo": [
           {
            "marker": {
             "colorbar": {
              "outlinewidth": 0,
              "ticks": ""
             }
            },
            "type": "scattergeo"
           }
          ],
          "scattergl": [
           {
            "marker": {
             "colorbar": {
              "outlinewidth": 0,
              "ticks": ""
             }
            },
            "type": "scattergl"
           }
          ],
          "scattermapbox": [
           {
            "marker": {
             "colorbar": {
              "outlinewidth": 0,
              "ticks": ""
             }
            },
            "type": "scattermapbox"
           }
          ],
          "scatterpolar": [
           {
            "marker": {
             "colorbar": {
              "outlinewidth": 0,
              "ticks": ""
             }
            },
            "type": "scatterpolar"
           }
          ],
          "scatterpolargl": [
           {
            "marker": {
             "colorbar": {
              "outlinewidth": 0,
              "ticks": ""
             }
            },
            "type": "scatterpolargl"
           }
          ],
          "scatterternary": [
           {
            "marker": {
             "colorbar": {
              "outlinewidth": 0,
              "ticks": ""
             }
            },
            "type": "scatterternary"
           }
          ],
          "surface": [
           {
            "colorbar": {
             "outlinewidth": 0,
             "ticks": ""
            },
            "colorscale": [
             [
              0,
              "#0d0887"
             ],
             [
              0.1111111111111111,
              "#46039f"
             ],
             [
              0.2222222222222222,
              "#7201a8"
             ],
             [
              0.3333333333333333,
              "#9c179e"
             ],
             [
              0.4444444444444444,
              "#bd3786"
             ],
             [
              0.5555555555555556,
              "#d8576b"
             ],
             [
              0.6666666666666666,
              "#ed7953"
             ],
             [
              0.7777777777777778,
              "#fb9f3a"
             ],
             [
              0.8888888888888888,
              "#fdca26"
             ],
             [
              1,
              "#f0f921"
             ]
            ],
            "type": "surface"
           }
          ],
          "table": [
           {
            "cells": {
             "fill": {
              "color": "#EBF0F8"
             },
             "line": {
              "color": "white"
             }
            },
            "header": {
             "fill": {
              "color": "#C8D4E3"
             },
             "line": {
              "color": "white"
             }
            },
            "type": "table"
           }
          ]
         },
         "layout": {
          "annotationdefaults": {
           "arrowcolor": "#2a3f5f",
           "arrowhead": 0,
           "arrowwidth": 1
          },
          "autotypenumbers": "strict",
          "coloraxis": {
           "colorbar": {
            "outlinewidth": 0,
            "ticks": ""
           }
          },
          "colorscale": {
           "diverging": [
            [
             0,
             "#8e0152"
            ],
            [
             0.1,
             "#c51b7d"
            ],
            [
             0.2,
             "#de77ae"
            ],
            [
             0.3,
             "#f1b6da"
            ],
            [
             0.4,
             "#fde0ef"
            ],
            [
             0.5,
             "#f7f7f7"
            ],
            [
             0.6,
             "#e6f5d0"
            ],
            [
             0.7,
             "#b8e186"
            ],
            [
             0.8,
             "#7fbc41"
            ],
            [
             0.9,
             "#4d9221"
            ],
            [
             1,
             "#276419"
            ]
           ],
           "sequential": [
            [
             0,
             "#0d0887"
            ],
            [
             0.1111111111111111,
             "#46039f"
            ],
            [
             0.2222222222222222,
             "#7201a8"
            ],
            [
             0.3333333333333333,
             "#9c179e"
            ],
            [
             0.4444444444444444,
             "#bd3786"
            ],
            [
             0.5555555555555556,
             "#d8576b"
            ],
            [
             0.6666666666666666,
             "#ed7953"
            ],
            [
             0.7777777777777778,
             "#fb9f3a"
            ],
            [
             0.8888888888888888,
             "#fdca26"
            ],
            [
             1,
             "#f0f921"
            ]
           ],
           "sequentialminus": [
            [
             0,
             "#0d0887"
            ],
            [
             0.1111111111111111,
             "#46039f"
            ],
            [
             0.2222222222222222,
             "#7201a8"
            ],
            [
             0.3333333333333333,
             "#9c179e"
            ],
            [
             0.4444444444444444,
             "#bd3786"
            ],
            [
             0.5555555555555556,
             "#d8576b"
            ],
            [
             0.6666666666666666,
             "#ed7953"
            ],
            [
             0.7777777777777778,
             "#fb9f3a"
            ],
            [
             0.8888888888888888,
             "#fdca26"
            ],
            [
             1,
             "#f0f921"
            ]
           ]
          },
          "colorway": [
           "#636efa",
           "#EF553B",
           "#00cc96",
           "#ab63fa",
           "#FFA15A",
           "#19d3f3",
           "#FF6692",
           "#B6E880",
           "#FF97FF",
           "#FECB52"
          ],
          "font": {
           "color": "#2a3f5f"
          },
          "geo": {
           "bgcolor": "white",
           "lakecolor": "white",
           "landcolor": "#E5ECF6",
           "showlakes": true,
           "showland": true,
           "subunitcolor": "white"
          },
          "hoverlabel": {
           "align": "left"
          },
          "hovermode": "closest",
          "mapbox": {
           "style": "light"
          },
          "paper_bgcolor": "white",
          "plot_bgcolor": "#E5ECF6",
          "polar": {
           "angularaxis": {
            "gridcolor": "white",
            "linecolor": "white",
            "ticks": ""
           },
           "bgcolor": "#E5ECF6",
           "radialaxis": {
            "gridcolor": "white",
            "linecolor": "white",
            "ticks": ""
           }
          },
          "scene": {
           "xaxis": {
            "backgroundcolor": "#E5ECF6",
            "gridcolor": "white",
            "gridwidth": 2,
            "linecolor": "white",
            "showbackground": true,
            "ticks": "",
            "zerolinecolor": "white"
           },
           "yaxis": {
            "backgroundcolor": "#E5ECF6",
            "gridcolor": "white",
            "gridwidth": 2,
            "linecolor": "white",
            "showbackground": true,
            "ticks": "",
            "zerolinecolor": "white"
           },
           "zaxis": {
            "backgroundcolor": "#E5ECF6",
            "gridcolor": "white",
            "gridwidth": 2,
            "linecolor": "white",
            "showbackground": true,
            "ticks": "",
            "zerolinecolor": "white"
           }
          },
          "shapedefaults": {
           "line": {
            "color": "#2a3f5f"
           }
          },
          "ternary": {
           "aaxis": {
            "gridcolor": "white",
            "linecolor": "white",
            "ticks": ""
           },
           "baxis": {
            "gridcolor": "white",
            "linecolor": "white",
            "ticks": ""
           },
           "bgcolor": "#E5ECF6",
           "caxis": {
            "gridcolor": "white",
            "linecolor": "white",
            "ticks": ""
           }
          },
          "title": {
           "x": 0.05
          },
          "xaxis": {
           "automargin": true,
           "gridcolor": "white",
           "linecolor": "white",
           "ticks": "",
           "title": {
            "standoff": 15
           },
           "zerolinecolor": "white",
           "zerolinewidth": 2
          },
          "yaxis": {
           "automargin": true,
           "gridcolor": "white",
           "linecolor": "white",
           "ticks": "",
           "title": {
            "standoff": 15
           },
           "zerolinecolor": "white",
           "zerolinewidth": 2
          }
         }
        },
        "title": {
         "text": "Маржа по брендам за 14 неделю"
        }
       }
      },
      "text/html": [
       "<div>                            <div id=\"884d1129-c66f-44db-b06d-d63fbcda94b7\" class=\"plotly-graph-div\" style=\"height:525px; width:100%;\"></div>            <script type=\"text/javascript\">                require([\"plotly\"], function(Plotly) {                    window.PLOTLYENV=window.PLOTLYENV || {};                                    if (document.getElementById(\"884d1129-c66f-44db-b06d-d63fbcda94b7\")) {                    Plotly.newPlot(                        \"884d1129-c66f-44db-b06d-d63fbcda94b7\",                        [{\"domain\":{\"x\":[0.0,1.0],\"y\":[0.0,1.0]},\"hovertemplate\":\"\\u0411\\u0440\\u0435\\u043d\\u0434 AX 1=%{label}<br>\\u041c\\u0430\\u0440\\u0436\\u0430=%{value}<extra></extra>\",\"labels\":[\"Shiseido\",\"Clarins\",\"Clinique\",\"Estee Lauder\",\"BABOR\",\"Sisley\",\"Payot\",\"Lancome\",\"CHANEL\",\"La Mer\",\"Biotherm\",\"La Prairie\",\"Valmont\",\"Zielinski&Rozen\",\"Kiehls\",\"Caudalie\",\"SENSAI\",\"Cle De Peau\",\"Christian Dior\",\"ELEMIS\",\"Guam\",\"Loccitane\",\"Lumene\",\"Lancaster\",\"Rexaline\",\"Cellcosmet\",\"FOREO\",\"St.Barth\",\"Guerlain\",\"Thalgo\",\"Glam Glow\",\"Ecooking\",\"FILORGA\",\"Skyn Iceland\",\"OK Beauty\",\"Darphin\",\"Helena Rubinstein\",\"Ahava\",\"James Read\",\"Dr Barbara Sturm\",\"Anne Semonin\",\"Botany\",\"Kenzo\",\"MIXIT\",\"Omorovicza\",\"COOLA\",\"Dr Brandt\",\"Swiss Line\",\"Givenchy\",\"Bellefontaine\",\"Proraso\",\"Grown Alchemist\"],\"legendgroup\":\"\",\"name\":\"\",\"showlegend\":true,\"values\":[227180372.46972162,121486276.25718327,82392996.64982776,35615690.98046792,45687429.72234865,46849781.62221211,57563344.87482937,24694935.561219852,20775902.835685,39439072.98588986,26067808.38324994,30806341.310878478,29825590.485290047,38745915.34365044,35881791.59763313,33476502.28130927,23815834.3104233,13319630.13368319,13214474.369594902,28778660.869367316,17135661.306326807,13546579.954483386,11898241.880974041,11512197.924442424,10272151.497496586,9657386.9139736,15804250.159308145,12963240.564406008,5644620.621756938,9093531.506115261,7796412.74047252,18544622.43513882,12589842.044606283,9620117.551206188,9246050.805644054,7198080.495981743,6253985.210286754,5523678.119253526,10164563.782430585,9318365.229858901,6604613.482020937,7566499.399180702,2725299.594446974,5142942.5853436515,5104508.379608557,4639000.837505689,2734412.432862995,3580948.777423759,1886594.4180700956,1919656.2221210739,3566732.330450615,3114570.5962676383],\"type\":\"pie\",\"textfont\":{\"size\":12},\"textposition\":\"inside\"}],                        {\"template\":{\"data\":{\"histogram2dcontour\":[{\"type\":\"histogram2dcontour\",\"colorbar\":{\"outlinewidth\":0,\"ticks\":\"\"},\"colorscale\":[[0.0,\"#0d0887\"],[0.1111111111111111,\"#46039f\"],[0.2222222222222222,\"#7201a8\"],[0.3333333333333333,\"#9c179e\"],[0.4444444444444444,\"#bd3786\"],[0.5555555555555556,\"#d8576b\"],[0.6666666666666666,\"#ed7953\"],[0.7777777777777778,\"#fb9f3a\"],[0.8888888888888888,\"#fdca26\"],[1.0,\"#f0f921\"]]}],\"choropleth\":[{\"type\":\"choropleth\",\"colorbar\":{\"outlinewidth\":0,\"ticks\":\"\"}}],\"histogram2d\":[{\"type\":\"histogram2d\",\"colorbar\":{\"outlinewidth\":0,\"ticks\":\"\"},\"colorscale\":[[0.0,\"#0d0887\"],[0.1111111111111111,\"#46039f\"],[0.2222222222222222,\"#7201a8\"],[0.3333333333333333,\"#9c179e\"],[0.4444444444444444,\"#bd3786\"],[0.5555555555555556,\"#d8576b\"],[0.6666666666666666,\"#ed7953\"],[0.7777777777777778,\"#fb9f3a\"],[0.8888888888888888,\"#fdca26\"],[1.0,\"#f0f921\"]]}],\"heatmap\":[{\"type\":\"heatmap\",\"colorbar\":{\"outlinewidth\":0,\"ticks\":\"\"},\"colorscale\":[[0.0,\"#0d0887\"],[0.1111111111111111,\"#46039f\"],[0.2222222222222222,\"#7201a8\"],[0.3333333333333333,\"#9c179e\"],[0.4444444444444444,\"#bd3786\"],[0.5555555555555556,\"#d8576b\"],[0.6666666666666666,\"#ed7953\"],[0.7777777777777778,\"#fb9f3a\"],[0.8888888888888888,\"#fdca26\"],[1.0,\"#f0f921\"]]}],\"heatmapgl\":[{\"type\":\"heatmapgl\",\"colorbar\":{\"outlinewidth\":0,\"ticks\":\"\"},\"colorscale\":[[0.0,\"#0d0887\"],[0.1111111111111111,\"#46039f\"],[0.2222222222222222,\"#7201a8\"],[0.3333333333333333,\"#9c179e\"],[0.4444444444444444,\"#bd3786\"],[0.5555555555555556,\"#d8576b\"],[0.6666666666666666,\"#ed7953\"],[0.7777777777777778,\"#fb9f3a\"],[0.8888888888888888,\"#fdca26\"],[1.0,\"#f0f921\"]]}],\"contourcarpet\":[{\"type\":\"contourcarpet\",\"colorbar\":{\"outlinewidth\":0,\"ticks\":\"\"}}],\"contour\":[{\"type\":\"contour\",\"colorbar\":{\"outlinewidth\":0,\"ticks\":\"\"},\"colorscale\":[[0.0,\"#0d0887\"],[0.1111111111111111,\"#46039f\"],[0.2222222222222222,\"#7201a8\"],[0.3333333333333333,\"#9c179e\"],[0.4444444444444444,\"#bd3786\"],[0.5555555555555556,\"#d8576b\"],[0.6666666666666666,\"#ed7953\"],[0.7777777777777778,\"#fb9f3a\"],[0.8888888888888888,\"#fdca26\"],[1.0,\"#f0f921\"]]}],\"surface\":[{\"type\":\"surface\",\"colorbar\":{\"outlinewidth\":0,\"ticks\":\"\"},\"colorscale\":[[0.0,\"#0d0887\"],[0.1111111111111111,\"#46039f\"],[0.2222222222222222,\"#7201a8\"],[0.3333333333333333,\"#9c179e\"],[0.4444444444444444,\"#bd3786\"],[0.5555555555555556,\"#d8576b\"],[0.6666666666666666,\"#ed7953\"],[0.7777777777777778,\"#fb9f3a\"],[0.8888888888888888,\"#fdca26\"],[1.0,\"#f0f921\"]]}],\"mesh3d\":[{\"type\":\"mesh3d\",\"colorbar\":{\"outlinewidth\":0,\"ticks\":\"\"}}],\"scatter\":[{\"fillpattern\":{\"fillmode\":\"overlay\",\"size\":10,\"solidity\":0.2},\"type\":\"scatter\"}],\"parcoords\":[{\"type\":\"parcoords\",\"line\":{\"colorbar\":{\"outlinewidth\":0,\"ticks\":\"\"}}}],\"scatterpolargl\":[{\"type\":\"scatterpolargl\",\"marker\":{\"colorbar\":{\"outlinewidth\":0,\"ticks\":\"\"}}}],\"bar\":[{\"error_x\":{\"color\":\"#2a3f5f\"},\"error_y\":{\"color\":\"#2a3f5f\"},\"marker\":{\"line\":{\"color\":\"#E5ECF6\",\"width\":0.5},\"pattern\":{\"fillmode\":\"overlay\",\"size\":10,\"solidity\":0.2}},\"type\":\"bar\"}],\"scattergeo\":[{\"type\":\"scattergeo\",\"marker\":{\"colorbar\":{\"outlinewidth\":0,\"ticks\":\"\"}}}],\"scatterpolar\":[{\"type\":\"scatterpolar\",\"marker\":{\"colorbar\":{\"outlinewidth\":0,\"ticks\":\"\"}}}],\"histogram\":[{\"marker\":{\"pattern\":{\"fillmode\":\"overlay\",\"size\":10,\"solidity\":0.2}},\"type\":\"histogram\"}],\"scattergl\":[{\"type\":\"scattergl\",\"marker\":{\"colorbar\":{\"outlinewidth\":0,\"ticks\":\"\"}}}],\"scatter3d\":[{\"type\":\"scatter3d\",\"line\":{\"colorbar\":{\"outlinewidth\":0,\"ticks\":\"\"}},\"marker\":{\"colorbar\":{\"outlinewidth\":0,\"ticks\":\"\"}}}],\"scattermapbox\":[{\"type\":\"scattermapbox\",\"marker\":{\"colorbar\":{\"outlinewidth\":0,\"ticks\":\"\"}}}],\"scatterternary\":[{\"type\":\"scatterternary\",\"marker\":{\"colorbar\":{\"outlinewidth\":0,\"ticks\":\"\"}}}],\"scattercarpet\":[{\"type\":\"scattercarpet\",\"marker\":{\"colorbar\":{\"outlinewidth\":0,\"ticks\":\"\"}}}],\"carpet\":[{\"aaxis\":{\"endlinecolor\":\"#2a3f5f\",\"gridcolor\":\"white\",\"linecolor\":\"white\",\"minorgridcolor\":\"white\",\"startlinecolor\":\"#2a3f5f\"},\"baxis\":{\"endlinecolor\":\"#2a3f5f\",\"gridcolor\":\"white\",\"linecolor\":\"white\",\"minorgridcolor\":\"white\",\"startlinecolor\":\"#2a3f5f\"},\"type\":\"carpet\"}],\"table\":[{\"cells\":{\"fill\":{\"color\":\"#EBF0F8\"},\"line\":{\"color\":\"white\"}},\"header\":{\"fill\":{\"color\":\"#C8D4E3\"},\"line\":{\"color\":\"white\"}},\"type\":\"table\"}],\"barpolar\":[{\"marker\":{\"line\":{\"color\":\"#E5ECF6\",\"width\":0.5},\"pattern\":{\"fillmode\":\"overlay\",\"size\":10,\"solidity\":0.2}},\"type\":\"barpolar\"}],\"pie\":[{\"automargin\":true,\"type\":\"pie\"}]},\"layout\":{\"autotypenumbers\":\"strict\",\"colorway\":[\"#636efa\",\"#EF553B\",\"#00cc96\",\"#ab63fa\",\"#FFA15A\",\"#19d3f3\",\"#FF6692\",\"#B6E880\",\"#FF97FF\",\"#FECB52\"],\"font\":{\"color\":\"#2a3f5f\"},\"hovermode\":\"closest\",\"hoverlabel\":{\"align\":\"left\"},\"paper_bgcolor\":\"white\",\"plot_bgcolor\":\"#E5ECF6\",\"polar\":{\"bgcolor\":\"#E5ECF6\",\"angularaxis\":{\"gridcolor\":\"white\",\"linecolor\":\"white\",\"ticks\":\"\"},\"radialaxis\":{\"gridcolor\":\"white\",\"linecolor\":\"white\",\"ticks\":\"\"}},\"ternary\":{\"bgcolor\":\"#E5ECF6\",\"aaxis\":{\"gridcolor\":\"white\",\"linecolor\":\"white\",\"ticks\":\"\"},\"baxis\":{\"gridcolor\":\"white\",\"linecolor\":\"white\",\"ticks\":\"\"},\"caxis\":{\"gridcolor\":\"white\",\"linecolor\":\"white\",\"ticks\":\"\"}},\"coloraxis\":{\"colorbar\":{\"outlinewidth\":0,\"ticks\":\"\"}},\"colorscale\":{\"sequential\":[[0.0,\"#0d0887\"],[0.1111111111111111,\"#46039f\"],[0.2222222222222222,\"#7201a8\"],[0.3333333333333333,\"#9c179e\"],[0.4444444444444444,\"#bd3786\"],[0.5555555555555556,\"#d8576b\"],[0.6666666666666666,\"#ed7953\"],[0.7777777777777778,\"#fb9f3a\"],[0.8888888888888888,\"#fdca26\"],[1.0,\"#f0f921\"]],\"sequentialminus\":[[0.0,\"#0d0887\"],[0.1111111111111111,\"#46039f\"],[0.2222222222222222,\"#7201a8\"],[0.3333333333333333,\"#9c179e\"],[0.4444444444444444,\"#bd3786\"],[0.5555555555555556,\"#d8576b\"],[0.6666666666666666,\"#ed7953\"],[0.7777777777777778,\"#fb9f3a\"],[0.8888888888888888,\"#fdca26\"],[1.0,\"#f0f921\"]],\"diverging\":[[0,\"#8e0152\"],[0.1,\"#c51b7d\"],[0.2,\"#de77ae\"],[0.3,\"#f1b6da\"],[0.4,\"#fde0ef\"],[0.5,\"#f7f7f7\"],[0.6,\"#e6f5d0\"],[0.7,\"#b8e186\"],[0.8,\"#7fbc41\"],[0.9,\"#4d9221\"],[1,\"#276419\"]]},\"xaxis\":{\"gridcolor\":\"white\",\"linecolor\":\"white\",\"ticks\":\"\",\"title\":{\"standoff\":15},\"zerolinecolor\":\"white\",\"automargin\":true,\"zerolinewidth\":2},\"yaxis\":{\"gridcolor\":\"white\",\"linecolor\":\"white\",\"ticks\":\"\",\"title\":{\"standoff\":15},\"zerolinecolor\":\"white\",\"automargin\":true,\"zerolinewidth\":2},\"scene\":{\"xaxis\":{\"backgroundcolor\":\"#E5ECF6\",\"gridcolor\":\"white\",\"linecolor\":\"white\",\"showbackground\":true,\"ticks\":\"\",\"zerolinecolor\":\"white\",\"gridwidth\":2},\"yaxis\":{\"backgroundcolor\":\"#E5ECF6\",\"gridcolor\":\"white\",\"linecolor\":\"white\",\"showbackground\":true,\"ticks\":\"\",\"zerolinecolor\":\"white\",\"gridwidth\":2},\"zaxis\":{\"backgroundcolor\":\"#E5ECF6\",\"gridcolor\":\"white\",\"linecolor\":\"white\",\"showbackground\":true,\"ticks\":\"\",\"zerolinecolor\":\"white\",\"gridwidth\":2}},\"shapedefaults\":{\"line\":{\"color\":\"#2a3f5f\"}},\"annotationdefaults\":{\"arrowcolor\":\"#2a3f5f\",\"arrowhead\":0,\"arrowwidth\":1},\"geo\":{\"bgcolor\":\"white\",\"landcolor\":\"#E5ECF6\",\"subunitcolor\":\"white\",\"showland\":true,\"showlakes\":true,\"lakecolor\":\"white\"},\"title\":{\"x\":0.05},\"mapbox\":{\"style\":\"light\"}}},\"legend\":{\"tracegroupgap\":0,\"orientation\":\"h\",\"y\":1.0,\"x\":1.4},\"title\":{\"text\":\"\\u041c\\u0430\\u0440\\u0436\\u0430 \\u043f\\u043e \\u0431\\u0440\\u0435\\u043d\\u0434\\u0430\\u043c \\u0437\\u0430 14 \\u043d\\u0435\\u0434\\u0435\\u043b\\u044e\"}},                        {\"responsive\": true}                    ).then(function(){\n",
       "                            \n",
       "var gd = document.getElementById('884d1129-c66f-44db-b06d-d63fbcda94b7');\n",
       "var x = new MutationObserver(function (mutations, observer) {{\n",
       "        var display = window.getComputedStyle(gd).display;\n",
       "        if (!display || display === 'none') {{\n",
       "            console.log([gd, 'removed!']);\n",
       "            Plotly.purge(gd);\n",
       "            observer.disconnect();\n",
       "        }}\n",
       "}});\n",
       "\n",
       "// Listen for the removal of the full notebook cells\n",
       "var notebookContainer = gd.closest('#notebook-container');\n",
       "if (notebookContainer) {{\n",
       "    x.observe(notebookContainer, {childList: true});\n",
       "}}\n",
       "\n",
       "// Listen for the clearing of the current output cell\n",
       "var outputEl = gd.closest('.output');\n",
       "if (outputEl) {{\n",
       "    x.observe(outputEl, {childList: true});\n",
       "}}\n",
       "\n",
       "                        })                };                });            </script>        </div>"
      ]
     },
     "metadata": {},
     "output_type": "display_data"
    }
   ],
   "source": [
    "#определим вклад каджого бренда в недельную прибыль за 14 неделю\n",
    "fig = px.pie(df_week_14, values='Маржа', names='Бренд AX 1', title='Маржа по брендам за 14 неделю')  \n",
    "fig.update_traces(textposition='inside', textfont_size=12) \n",
    "fig.update_layout(legend=dict(orientation=\"h\", y=1.0, x=1.4)) \n",
    "fig.show()"
   ]
  },
  {
   "cell_type": "code",
   "execution_count": 47,
   "id": "127ccec9",
   "metadata": {},
   "outputs": [
    {
     "data": {
      "application/vnd.plotly.v1+json": {
       "config": {
        "plotlyServerURL": "https://plot.ly"
       },
       "data": [
        {
         "domain": {
          "x": [
           0,
           1
          ],
          "y": [
           0,
           1
          ]
         },
         "hovertemplate": "Бренд AX 1=%{label}<br>Маржа=%{value}<extra></extra>",
         "labels": [
          "Shiseido",
          "Clarins",
          "Clinique",
          "Payot",
          "Estee Lauder",
          "BABOR",
          "La Mer",
          "Valmont",
          "Caudalie",
          "CHANEL",
          "Biotherm",
          "La Prairie",
          "Sisley",
          "Kiehls",
          "Lancome",
          "Zielinski&Rozen",
          "ELEMIS",
          "Christian Dior",
          "Cle De Peau",
          "SENSAI",
          "Guam",
          "Lancaster",
          "St.Barth",
          "Loccitane",
          "Rexaline",
          "Guerlain",
          "OK Beauty",
          "Thalgo",
          "FOREO",
          "Glam Glow",
          "Ahava",
          "Lumene",
          "Cellcosmet",
          "Ecooking",
          "Skyn Iceland",
          "James Read",
          "FILORGA",
          "Kenzo",
          "Darphin",
          "Omorovicza",
          "Helena Rubinstein",
          "COOLA",
          "Botany",
          "Dr Barbara Sturm",
          "Swiss Line",
          "MIXIT",
          "Anne Semonin",
          "Biothal",
          "CHOLLEY",
          "Giorgio Armani",
          "Givenchy",
          "Proraso"
         ],
         "legendgroup": "",
         "name": "",
         "showlegend": true,
         "textfont": {
          "size": 12
         },
         "textposition": "inside",
         "type": "pie",
         "values": [
          214510287.57277316,
          142214038.38108572,
          69815982.71006192,
          77231901.71597622,
          34119352.47511518,
          43033598.17023214,
          47560333.21347294,
          44176644.84055549,
          36864520.78202641,
          16796437.58306779,
          25223299.351843446,
          36851369.96813838,
          34514352.381429225,
          39752716.93218027,
          26035107.5246245,
          39822508.36140186,
          32085189.854346815,
          14155826.499772392,
          10696130.645154297,
          18234682.53982704,
          18617540.48247608,
          12324259.968138352,
          19395058.197542105,
          14629497.919890761,
          11156706.308602644,
          7770059.262175699,
          12924546.326809287,
          12748710.109657062,
          14174309.96358671,
          9220321.46669503,
          5996761.87983614,
          9294021.85138823,
          7679336.390532542,
          18412018.0336823,
          9050889.098771056,
          12583433.786982248,
          9418020.913063271,
          2067425.656804736,
          5087257.094253995,
          6148892.990441515,
          2879631.9963586708,
          6269777.874374149,
          6979303.181611287,
          5333922.580791988,
          4727878.730086481,
          4178190.705507508,
          3878819.203459262,
          2542770.5097860694,
          1933309.453800638,
          2302671.306326809,
          1734030.1081019572,
          3032658.6891215295
         ]
        }
       ],
       "layout": {
        "legend": {
         "orientation": "h",
         "tracegroupgap": 0,
         "x": 1.4,
         "y": 1
        },
        "template": {
         "data": {
          "bar": [
           {
            "error_x": {
             "color": "#2a3f5f"
            },
            "error_y": {
             "color": "#2a3f5f"
            },
            "marker": {
             "line": {
              "color": "#E5ECF6",
              "width": 0.5
             },
             "pattern": {
              "fillmode": "overlay",
              "size": 10,
              "solidity": 0.2
             }
            },
            "type": "bar"
           }
          ],
          "barpolar": [
           {
            "marker": {
             "line": {
              "color": "#E5ECF6",
              "width": 0.5
             },
             "pattern": {
              "fillmode": "overlay",
              "size": 10,
              "solidity": 0.2
             }
            },
            "type": "barpolar"
           }
          ],
          "carpet": [
           {
            "aaxis": {
             "endlinecolor": "#2a3f5f",
             "gridcolor": "white",
             "linecolor": "white",
             "minorgridcolor": "white",
             "startlinecolor": "#2a3f5f"
            },
            "baxis": {
             "endlinecolor": "#2a3f5f",
             "gridcolor": "white",
             "linecolor": "white",
             "minorgridcolor": "white",
             "startlinecolor": "#2a3f5f"
            },
            "type": "carpet"
           }
          ],
          "choropleth": [
           {
            "colorbar": {
             "outlinewidth": 0,
             "ticks": ""
            },
            "type": "choropleth"
           }
          ],
          "contour": [
           {
            "colorbar": {
             "outlinewidth": 0,
             "ticks": ""
            },
            "colorscale": [
             [
              0,
              "#0d0887"
             ],
             [
              0.1111111111111111,
              "#46039f"
             ],
             [
              0.2222222222222222,
              "#7201a8"
             ],
             [
              0.3333333333333333,
              "#9c179e"
             ],
             [
              0.4444444444444444,
              "#bd3786"
             ],
             [
              0.5555555555555556,
              "#d8576b"
             ],
             [
              0.6666666666666666,
              "#ed7953"
             ],
             [
              0.7777777777777778,
              "#fb9f3a"
             ],
             [
              0.8888888888888888,
              "#fdca26"
             ],
             [
              1,
              "#f0f921"
             ]
            ],
            "type": "contour"
           }
          ],
          "contourcarpet": [
           {
            "colorbar": {
             "outlinewidth": 0,
             "ticks": ""
            },
            "type": "contourcarpet"
           }
          ],
          "heatmap": [
           {
            "colorbar": {
             "outlinewidth": 0,
             "ticks": ""
            },
            "colorscale": [
             [
              0,
              "#0d0887"
             ],
             [
              0.1111111111111111,
              "#46039f"
             ],
             [
              0.2222222222222222,
              "#7201a8"
             ],
             [
              0.3333333333333333,
              "#9c179e"
             ],
             [
              0.4444444444444444,
              "#bd3786"
             ],
             [
              0.5555555555555556,
              "#d8576b"
             ],
             [
              0.6666666666666666,
              "#ed7953"
             ],
             [
              0.7777777777777778,
              "#fb9f3a"
             ],
             [
              0.8888888888888888,
              "#fdca26"
             ],
             [
              1,
              "#f0f921"
             ]
            ],
            "type": "heatmap"
           }
          ],
          "heatmapgl": [
           {
            "colorbar": {
             "outlinewidth": 0,
             "ticks": ""
            },
            "colorscale": [
             [
              0,
              "#0d0887"
             ],
             [
              0.1111111111111111,
              "#46039f"
             ],
             [
              0.2222222222222222,
              "#7201a8"
             ],
             [
              0.3333333333333333,
              "#9c179e"
             ],
             [
              0.4444444444444444,
              "#bd3786"
             ],
             [
              0.5555555555555556,
              "#d8576b"
             ],
             [
              0.6666666666666666,
              "#ed7953"
             ],
             [
              0.7777777777777778,
              "#fb9f3a"
             ],
             [
              0.8888888888888888,
              "#fdca26"
             ],
             [
              1,
              "#f0f921"
             ]
            ],
            "type": "heatmapgl"
           }
          ],
          "histogram": [
           {
            "marker": {
             "pattern": {
              "fillmode": "overlay",
              "size": 10,
              "solidity": 0.2
             }
            },
            "type": "histogram"
           }
          ],
          "histogram2d": [
           {
            "colorbar": {
             "outlinewidth": 0,
             "ticks": ""
            },
            "colorscale": [
             [
              0,
              "#0d0887"
             ],
             [
              0.1111111111111111,
              "#46039f"
             ],
             [
              0.2222222222222222,
              "#7201a8"
             ],
             [
              0.3333333333333333,
              "#9c179e"
             ],
             [
              0.4444444444444444,
              "#bd3786"
             ],
             [
              0.5555555555555556,
              "#d8576b"
             ],
             [
              0.6666666666666666,
              "#ed7953"
             ],
             [
              0.7777777777777778,
              "#fb9f3a"
             ],
             [
              0.8888888888888888,
              "#fdca26"
             ],
             [
              1,
              "#f0f921"
             ]
            ],
            "type": "histogram2d"
           }
          ],
          "histogram2dcontour": [
           {
            "colorbar": {
             "outlinewidth": 0,
             "ticks": ""
            },
            "colorscale": [
             [
              0,
              "#0d0887"
             ],
             [
              0.1111111111111111,
              "#46039f"
             ],
             [
              0.2222222222222222,
              "#7201a8"
             ],
             [
              0.3333333333333333,
              "#9c179e"
             ],
             [
              0.4444444444444444,
              "#bd3786"
             ],
             [
              0.5555555555555556,
              "#d8576b"
             ],
             [
              0.6666666666666666,
              "#ed7953"
             ],
             [
              0.7777777777777778,
              "#fb9f3a"
             ],
             [
              0.8888888888888888,
              "#fdca26"
             ],
             [
              1,
              "#f0f921"
             ]
            ],
            "type": "histogram2dcontour"
           }
          ],
          "mesh3d": [
           {
            "colorbar": {
             "outlinewidth": 0,
             "ticks": ""
            },
            "type": "mesh3d"
           }
          ],
          "parcoords": [
           {
            "line": {
             "colorbar": {
              "outlinewidth": 0,
              "ticks": ""
             }
            },
            "type": "parcoords"
           }
          ],
          "pie": [
           {
            "automargin": true,
            "type": "pie"
           }
          ],
          "scatter": [
           {
            "fillpattern": {
             "fillmode": "overlay",
             "size": 10,
             "solidity": 0.2
            },
            "type": "scatter"
           }
          ],
          "scatter3d": [
           {
            "line": {
             "colorbar": {
              "outlinewidth": 0,
              "ticks": ""
             }
            },
            "marker": {
             "colorbar": {
              "outlinewidth": 0,
              "ticks": ""
             }
            },
            "type": "scatter3d"
           }
          ],
          "scattercarpet": [
           {
            "marker": {
             "colorbar": {
              "outlinewidth": 0,
              "ticks": ""
             }
            },
            "type": "scattercarpet"
           }
          ],
          "scattergeo": [
           {
            "marker": {
             "colorbar": {
              "outlinewidth": 0,
              "ticks": ""
             }
            },
            "type": "scattergeo"
           }
          ],
          "scattergl": [
           {
            "marker": {
             "colorbar": {
              "outlinewidth": 0,
              "ticks": ""
             }
            },
            "type": "scattergl"
           }
          ],
          "scattermapbox": [
           {
            "marker": {
             "colorbar": {
              "outlinewidth": 0,
              "ticks": ""
             }
            },
            "type": "scattermapbox"
           }
          ],
          "scatterpolar": [
           {
            "marker": {
             "colorbar": {
              "outlinewidth": 0,
              "ticks": ""
             }
            },
            "type": "scatterpolar"
           }
          ],
          "scatterpolargl": [
           {
            "marker": {
             "colorbar": {
              "outlinewidth": 0,
              "ticks": ""
             }
            },
            "type": "scatterpolargl"
           }
          ],
          "scatterternary": [
           {
            "marker": {
             "colorbar": {
              "outlinewidth": 0,
              "ticks": ""
             }
            },
            "type": "scatterternary"
           }
          ],
          "surface": [
           {
            "colorbar": {
             "outlinewidth": 0,
             "ticks": ""
            },
            "colorscale": [
             [
              0,
              "#0d0887"
             ],
             [
              0.1111111111111111,
              "#46039f"
             ],
             [
              0.2222222222222222,
              "#7201a8"
             ],
             [
              0.3333333333333333,
              "#9c179e"
             ],
             [
              0.4444444444444444,
              "#bd3786"
             ],
             [
              0.5555555555555556,
              "#d8576b"
             ],
             [
              0.6666666666666666,
              "#ed7953"
             ],
             [
              0.7777777777777778,
              "#fb9f3a"
             ],
             [
              0.8888888888888888,
              "#fdca26"
             ],
             [
              1,
              "#f0f921"
             ]
            ],
            "type": "surface"
           }
          ],
          "table": [
           {
            "cells": {
             "fill": {
              "color": "#EBF0F8"
             },
             "line": {
              "color": "white"
             }
            },
            "header": {
             "fill": {
              "color": "#C8D4E3"
             },
             "line": {
              "color": "white"
             }
            },
            "type": "table"
           }
          ]
         },
         "layout": {
          "annotationdefaults": {
           "arrowcolor": "#2a3f5f",
           "arrowhead": 0,
           "arrowwidth": 1
          },
          "autotypenumbers": "strict",
          "coloraxis": {
           "colorbar": {
            "outlinewidth": 0,
            "ticks": ""
           }
          },
          "colorscale": {
           "diverging": [
            [
             0,
             "#8e0152"
            ],
            [
             0.1,
             "#c51b7d"
            ],
            [
             0.2,
             "#de77ae"
            ],
            [
             0.3,
             "#f1b6da"
            ],
            [
             0.4,
             "#fde0ef"
            ],
            [
             0.5,
             "#f7f7f7"
            ],
            [
             0.6,
             "#e6f5d0"
            ],
            [
             0.7,
             "#b8e186"
            ],
            [
             0.8,
             "#7fbc41"
            ],
            [
             0.9,
             "#4d9221"
            ],
            [
             1,
             "#276419"
            ]
           ],
           "sequential": [
            [
             0,
             "#0d0887"
            ],
            [
             0.1111111111111111,
             "#46039f"
            ],
            [
             0.2222222222222222,
             "#7201a8"
            ],
            [
             0.3333333333333333,
             "#9c179e"
            ],
            [
             0.4444444444444444,
             "#bd3786"
            ],
            [
             0.5555555555555556,
             "#d8576b"
            ],
            [
             0.6666666666666666,
             "#ed7953"
            ],
            [
             0.7777777777777778,
             "#fb9f3a"
            ],
            [
             0.8888888888888888,
             "#fdca26"
            ],
            [
             1,
             "#f0f921"
            ]
           ],
           "sequentialminus": [
            [
             0,
             "#0d0887"
            ],
            [
             0.1111111111111111,
             "#46039f"
            ],
            [
             0.2222222222222222,
             "#7201a8"
            ],
            [
             0.3333333333333333,
             "#9c179e"
            ],
            [
             0.4444444444444444,
             "#bd3786"
            ],
            [
             0.5555555555555556,
             "#d8576b"
            ],
            [
             0.6666666666666666,
             "#ed7953"
            ],
            [
             0.7777777777777778,
             "#fb9f3a"
            ],
            [
             0.8888888888888888,
             "#fdca26"
            ],
            [
             1,
             "#f0f921"
            ]
           ]
          },
          "colorway": [
           "#636efa",
           "#EF553B",
           "#00cc96",
           "#ab63fa",
           "#FFA15A",
           "#19d3f3",
           "#FF6692",
           "#B6E880",
           "#FF97FF",
           "#FECB52"
          ],
          "font": {
           "color": "#2a3f5f"
          },
          "geo": {
           "bgcolor": "white",
           "lakecolor": "white",
           "landcolor": "#E5ECF6",
           "showlakes": true,
           "showland": true,
           "subunitcolor": "white"
          },
          "hoverlabel": {
           "align": "left"
          },
          "hovermode": "closest",
          "mapbox": {
           "style": "light"
          },
          "paper_bgcolor": "white",
          "plot_bgcolor": "#E5ECF6",
          "polar": {
           "angularaxis": {
            "gridcolor": "white",
            "linecolor": "white",
            "ticks": ""
           },
           "bgcolor": "#E5ECF6",
           "radialaxis": {
            "gridcolor": "white",
            "linecolor": "white",
            "ticks": ""
           }
          },
          "scene": {
           "xaxis": {
            "backgroundcolor": "#E5ECF6",
            "gridcolor": "white",
            "gridwidth": 2,
            "linecolor": "white",
            "showbackground": true,
            "ticks": "",
            "zerolinecolor": "white"
           },
           "yaxis": {
            "backgroundcolor": "#E5ECF6",
            "gridcolor": "white",
            "gridwidth": 2,
            "linecolor": "white",
            "showbackground": true,
            "ticks": "",
            "zerolinecolor": "white"
           },
           "zaxis": {
            "backgroundcolor": "#E5ECF6",
            "gridcolor": "white",
            "gridwidth": 2,
            "linecolor": "white",
            "showbackground": true,
            "ticks": "",
            "zerolinecolor": "white"
           }
          },
          "shapedefaults": {
           "line": {
            "color": "#2a3f5f"
           }
          },
          "ternary": {
           "aaxis": {
            "gridcolor": "white",
            "linecolor": "white",
            "ticks": ""
           },
           "baxis": {
            "gridcolor": "white",
            "linecolor": "white",
            "ticks": ""
           },
           "bgcolor": "#E5ECF6",
           "caxis": {
            "gridcolor": "white",
            "linecolor": "white",
            "ticks": ""
           }
          },
          "title": {
           "x": 0.05
          },
          "xaxis": {
           "automargin": true,
           "gridcolor": "white",
           "linecolor": "white",
           "ticks": "",
           "title": {
            "standoff": 15
           },
           "zerolinecolor": "white",
           "zerolinewidth": 2
          },
          "yaxis": {
           "automargin": true,
           "gridcolor": "white",
           "linecolor": "white",
           "ticks": "",
           "title": {
            "standoff": 15
           },
           "zerolinecolor": "white",
           "zerolinewidth": 2
          }
         }
        },
        "title": {
         "text": "Маржа по брендам за 15 неделю"
        }
       }
      },
      "text/html": [
       "<div>                            <div id=\"10a32d0f-c481-4c40-8e4c-eb77f7cdd47f\" class=\"plotly-graph-div\" style=\"height:525px; width:100%;\"></div>            <script type=\"text/javascript\">                require([\"plotly\"], function(Plotly) {                    window.PLOTLYENV=window.PLOTLYENV || {};                                    if (document.getElementById(\"10a32d0f-c481-4c40-8e4c-eb77f7cdd47f\")) {                    Plotly.newPlot(                        \"10a32d0f-c481-4c40-8e4c-eb77f7cdd47f\",                        [{\"domain\":{\"x\":[0.0,1.0],\"y\":[0.0,1.0]},\"hovertemplate\":\"\\u0411\\u0440\\u0435\\u043d\\u0434 AX 1=%{label}<br>\\u041c\\u0430\\u0440\\u0436\\u0430=%{value}<extra></extra>\",\"labels\":[\"Shiseido\",\"Clarins\",\"Clinique\",\"Payot\",\"Estee Lauder\",\"BABOR\",\"La Mer\",\"Valmont\",\"Caudalie\",\"CHANEL\",\"Biotherm\",\"La Prairie\",\"Sisley\",\"Kiehls\",\"Lancome\",\"Zielinski&Rozen\",\"ELEMIS\",\"Christian Dior\",\"Cle De Peau\",\"SENSAI\",\"Guam\",\"Lancaster\",\"St.Barth\",\"Loccitane\",\"Rexaline\",\"Guerlain\",\"OK Beauty\",\"Thalgo\",\"FOREO\",\"Glam Glow\",\"Ahava\",\"Lumene\",\"Cellcosmet\",\"Ecooking\",\"Skyn Iceland\",\"James Read\",\"FILORGA\",\"Kenzo\",\"Darphin\",\"Omorovicza\",\"Helena Rubinstein\",\"COOLA\",\"Botany\",\"Dr Barbara Sturm\",\"Swiss Line\",\"MIXIT\",\"Anne Semonin\",\"Biothal\",\"CHOLLEY\",\"Giorgio Armani\",\"Givenchy\",\"Proraso\"],\"legendgroup\":\"\",\"name\":\"\",\"showlegend\":true,\"values\":[214510287.57277316,142214038.38108572,69815982.71006192,77231901.71597622,34119352.47511518,43033598.17023214,47560333.21347294,44176644.84055549,36864520.78202641,16796437.58306779,25223299.351843446,36851369.96813838,34514352.381429225,39752716.93218027,26035107.5246245,39822508.36140186,32085189.854346815,14155826.499772392,10696130.645154297,18234682.53982704,18617540.48247608,12324259.968138352,19395058.197542105,14629497.919890761,11156706.308602644,7770059.262175699,12924546.326809287,12748710.109657062,14174309.96358671,9220321.46669503,5996761.87983614,9294021.85138823,7679336.390532542,18412018.0336823,9050889.098771056,12583433.786982248,9418020.913063271,2067425.656804736,5087257.094253995,6148892.990441515,2879631.9963586708,6269777.874374149,6979303.181611287,5333922.580791988,4727878.730086481,4178190.705507508,3878819.203459262,2542770.5097860694,1933309.453800638,2302671.306326809,1734030.1081019572,3032658.6891215295],\"type\":\"pie\",\"textfont\":{\"size\":12},\"textposition\":\"inside\"}],                        {\"template\":{\"data\":{\"histogram2dcontour\":[{\"type\":\"histogram2dcontour\",\"colorbar\":{\"outlinewidth\":0,\"ticks\":\"\"},\"colorscale\":[[0.0,\"#0d0887\"],[0.1111111111111111,\"#46039f\"],[0.2222222222222222,\"#7201a8\"],[0.3333333333333333,\"#9c179e\"],[0.4444444444444444,\"#bd3786\"],[0.5555555555555556,\"#d8576b\"],[0.6666666666666666,\"#ed7953\"],[0.7777777777777778,\"#fb9f3a\"],[0.8888888888888888,\"#fdca26\"],[1.0,\"#f0f921\"]]}],\"choropleth\":[{\"type\":\"choropleth\",\"colorbar\":{\"outlinewidth\":0,\"ticks\":\"\"}}],\"histogram2d\":[{\"type\":\"histogram2d\",\"colorbar\":{\"outlinewidth\":0,\"ticks\":\"\"},\"colorscale\":[[0.0,\"#0d0887\"],[0.1111111111111111,\"#46039f\"],[0.2222222222222222,\"#7201a8\"],[0.3333333333333333,\"#9c179e\"],[0.4444444444444444,\"#bd3786\"],[0.5555555555555556,\"#d8576b\"],[0.6666666666666666,\"#ed7953\"],[0.7777777777777778,\"#fb9f3a\"],[0.8888888888888888,\"#fdca26\"],[1.0,\"#f0f921\"]]}],\"heatmap\":[{\"type\":\"heatmap\",\"colorbar\":{\"outlinewidth\":0,\"ticks\":\"\"},\"colorscale\":[[0.0,\"#0d0887\"],[0.1111111111111111,\"#46039f\"],[0.2222222222222222,\"#7201a8\"],[0.3333333333333333,\"#9c179e\"],[0.4444444444444444,\"#bd3786\"],[0.5555555555555556,\"#d8576b\"],[0.6666666666666666,\"#ed7953\"],[0.7777777777777778,\"#fb9f3a\"],[0.8888888888888888,\"#fdca26\"],[1.0,\"#f0f921\"]]}],\"heatmapgl\":[{\"type\":\"heatmapgl\",\"colorbar\":{\"outlinewidth\":0,\"ticks\":\"\"},\"colorscale\":[[0.0,\"#0d0887\"],[0.1111111111111111,\"#46039f\"],[0.2222222222222222,\"#7201a8\"],[0.3333333333333333,\"#9c179e\"],[0.4444444444444444,\"#bd3786\"],[0.5555555555555556,\"#d8576b\"],[0.6666666666666666,\"#ed7953\"],[0.7777777777777778,\"#fb9f3a\"],[0.8888888888888888,\"#fdca26\"],[1.0,\"#f0f921\"]]}],\"contourcarpet\":[{\"type\":\"contourcarpet\",\"colorbar\":{\"outlinewidth\":0,\"ticks\":\"\"}}],\"contour\":[{\"type\":\"contour\",\"colorbar\":{\"outlinewidth\":0,\"ticks\":\"\"},\"colorscale\":[[0.0,\"#0d0887\"],[0.1111111111111111,\"#46039f\"],[0.2222222222222222,\"#7201a8\"],[0.3333333333333333,\"#9c179e\"],[0.4444444444444444,\"#bd3786\"],[0.5555555555555556,\"#d8576b\"],[0.6666666666666666,\"#ed7953\"],[0.7777777777777778,\"#fb9f3a\"],[0.8888888888888888,\"#fdca26\"],[1.0,\"#f0f921\"]]}],\"surface\":[{\"type\":\"surface\",\"colorbar\":{\"outlinewidth\":0,\"ticks\":\"\"},\"colorscale\":[[0.0,\"#0d0887\"],[0.1111111111111111,\"#46039f\"],[0.2222222222222222,\"#7201a8\"],[0.3333333333333333,\"#9c179e\"],[0.4444444444444444,\"#bd3786\"],[0.5555555555555556,\"#d8576b\"],[0.6666666666666666,\"#ed7953\"],[0.7777777777777778,\"#fb9f3a\"],[0.8888888888888888,\"#fdca26\"],[1.0,\"#f0f921\"]]}],\"mesh3d\":[{\"type\":\"mesh3d\",\"colorbar\":{\"outlinewidth\":0,\"ticks\":\"\"}}],\"scatter\":[{\"fillpattern\":{\"fillmode\":\"overlay\",\"size\":10,\"solidity\":0.2},\"type\":\"scatter\"}],\"parcoords\":[{\"type\":\"parcoords\",\"line\":{\"colorbar\":{\"outlinewidth\":0,\"ticks\":\"\"}}}],\"scatterpolargl\":[{\"type\":\"scatterpolargl\",\"marker\":{\"colorbar\":{\"outlinewidth\":0,\"ticks\":\"\"}}}],\"bar\":[{\"error_x\":{\"color\":\"#2a3f5f\"},\"error_y\":{\"color\":\"#2a3f5f\"},\"marker\":{\"line\":{\"color\":\"#E5ECF6\",\"width\":0.5},\"pattern\":{\"fillmode\":\"overlay\",\"size\":10,\"solidity\":0.2}},\"type\":\"bar\"}],\"scattergeo\":[{\"type\":\"scattergeo\",\"marker\":{\"colorbar\":{\"outlinewidth\":0,\"ticks\":\"\"}}}],\"scatterpolar\":[{\"type\":\"scatterpolar\",\"marker\":{\"colorbar\":{\"outlinewidth\":0,\"ticks\":\"\"}}}],\"histogram\":[{\"marker\":{\"pattern\":{\"fillmode\":\"overlay\",\"size\":10,\"solidity\":0.2}},\"type\":\"histogram\"}],\"scattergl\":[{\"type\":\"scattergl\",\"marker\":{\"colorbar\":{\"outlinewidth\":0,\"ticks\":\"\"}}}],\"scatter3d\":[{\"type\":\"scatter3d\",\"line\":{\"colorbar\":{\"outlinewidth\":0,\"ticks\":\"\"}},\"marker\":{\"colorbar\":{\"outlinewidth\":0,\"ticks\":\"\"}}}],\"scattermapbox\":[{\"type\":\"scattermapbox\",\"marker\":{\"colorbar\":{\"outlinewidth\":0,\"ticks\":\"\"}}}],\"scatterternary\":[{\"type\":\"scatterternary\",\"marker\":{\"colorbar\":{\"outlinewidth\":0,\"ticks\":\"\"}}}],\"scattercarpet\":[{\"type\":\"scattercarpet\",\"marker\":{\"colorbar\":{\"outlinewidth\":0,\"ticks\":\"\"}}}],\"carpet\":[{\"aaxis\":{\"endlinecolor\":\"#2a3f5f\",\"gridcolor\":\"white\",\"linecolor\":\"white\",\"minorgridcolor\":\"white\",\"startlinecolor\":\"#2a3f5f\"},\"baxis\":{\"endlinecolor\":\"#2a3f5f\",\"gridcolor\":\"white\",\"linecolor\":\"white\",\"minorgridcolor\":\"white\",\"startlinecolor\":\"#2a3f5f\"},\"type\":\"carpet\"}],\"table\":[{\"cells\":{\"fill\":{\"color\":\"#EBF0F8\"},\"line\":{\"color\":\"white\"}},\"header\":{\"fill\":{\"color\":\"#C8D4E3\"},\"line\":{\"color\":\"white\"}},\"type\":\"table\"}],\"barpolar\":[{\"marker\":{\"line\":{\"color\":\"#E5ECF6\",\"width\":0.5},\"pattern\":{\"fillmode\":\"overlay\",\"size\":10,\"solidity\":0.2}},\"type\":\"barpolar\"}],\"pie\":[{\"automargin\":true,\"type\":\"pie\"}]},\"layout\":{\"autotypenumbers\":\"strict\",\"colorway\":[\"#636efa\",\"#EF553B\",\"#00cc96\",\"#ab63fa\",\"#FFA15A\",\"#19d3f3\",\"#FF6692\",\"#B6E880\",\"#FF97FF\",\"#FECB52\"],\"font\":{\"color\":\"#2a3f5f\"},\"hovermode\":\"closest\",\"hoverlabel\":{\"align\":\"left\"},\"paper_bgcolor\":\"white\",\"plot_bgcolor\":\"#E5ECF6\",\"polar\":{\"bgcolor\":\"#E5ECF6\",\"angularaxis\":{\"gridcolor\":\"white\",\"linecolor\":\"white\",\"ticks\":\"\"},\"radialaxis\":{\"gridcolor\":\"white\",\"linecolor\":\"white\",\"ticks\":\"\"}},\"ternary\":{\"bgcolor\":\"#E5ECF6\",\"aaxis\":{\"gridcolor\":\"white\",\"linecolor\":\"white\",\"ticks\":\"\"},\"baxis\":{\"gridcolor\":\"white\",\"linecolor\":\"white\",\"ticks\":\"\"},\"caxis\":{\"gridcolor\":\"white\",\"linecolor\":\"white\",\"ticks\":\"\"}},\"coloraxis\":{\"colorbar\":{\"outlinewidth\":0,\"ticks\":\"\"}},\"colorscale\":{\"sequential\":[[0.0,\"#0d0887\"],[0.1111111111111111,\"#46039f\"],[0.2222222222222222,\"#7201a8\"],[0.3333333333333333,\"#9c179e\"],[0.4444444444444444,\"#bd3786\"],[0.5555555555555556,\"#d8576b\"],[0.6666666666666666,\"#ed7953\"],[0.7777777777777778,\"#fb9f3a\"],[0.8888888888888888,\"#fdca26\"],[1.0,\"#f0f921\"]],\"sequentialminus\":[[0.0,\"#0d0887\"],[0.1111111111111111,\"#46039f\"],[0.2222222222222222,\"#7201a8\"],[0.3333333333333333,\"#9c179e\"],[0.4444444444444444,\"#bd3786\"],[0.5555555555555556,\"#d8576b\"],[0.6666666666666666,\"#ed7953\"],[0.7777777777777778,\"#fb9f3a\"],[0.8888888888888888,\"#fdca26\"],[1.0,\"#f0f921\"]],\"diverging\":[[0,\"#8e0152\"],[0.1,\"#c51b7d\"],[0.2,\"#de77ae\"],[0.3,\"#f1b6da\"],[0.4,\"#fde0ef\"],[0.5,\"#f7f7f7\"],[0.6,\"#e6f5d0\"],[0.7,\"#b8e186\"],[0.8,\"#7fbc41\"],[0.9,\"#4d9221\"],[1,\"#276419\"]]},\"xaxis\":{\"gridcolor\":\"white\",\"linecolor\":\"white\",\"ticks\":\"\",\"title\":{\"standoff\":15},\"zerolinecolor\":\"white\",\"automargin\":true,\"zerolinewidth\":2},\"yaxis\":{\"gridcolor\":\"white\",\"linecolor\":\"white\",\"ticks\":\"\",\"title\":{\"standoff\":15},\"zerolinecolor\":\"white\",\"automargin\":true,\"zerolinewidth\":2},\"scene\":{\"xaxis\":{\"backgroundcolor\":\"#E5ECF6\",\"gridcolor\":\"white\",\"linecolor\":\"white\",\"showbackground\":true,\"ticks\":\"\",\"zerolinecolor\":\"white\",\"gridwidth\":2},\"yaxis\":{\"backgroundcolor\":\"#E5ECF6\",\"gridcolor\":\"white\",\"linecolor\":\"white\",\"showbackground\":true,\"ticks\":\"\",\"zerolinecolor\":\"white\",\"gridwidth\":2},\"zaxis\":{\"backgroundcolor\":\"#E5ECF6\",\"gridcolor\":\"white\",\"linecolor\":\"white\",\"showbackground\":true,\"ticks\":\"\",\"zerolinecolor\":\"white\",\"gridwidth\":2}},\"shapedefaults\":{\"line\":{\"color\":\"#2a3f5f\"}},\"annotationdefaults\":{\"arrowcolor\":\"#2a3f5f\",\"arrowhead\":0,\"arrowwidth\":1},\"geo\":{\"bgcolor\":\"white\",\"landcolor\":\"#E5ECF6\",\"subunitcolor\":\"white\",\"showland\":true,\"showlakes\":true,\"lakecolor\":\"white\"},\"title\":{\"x\":0.05},\"mapbox\":{\"style\":\"light\"}}},\"legend\":{\"tracegroupgap\":0,\"orientation\":\"h\",\"y\":1.0,\"x\":1.4},\"title\":{\"text\":\"\\u041c\\u0430\\u0440\\u0436\\u0430 \\u043f\\u043e \\u0431\\u0440\\u0435\\u043d\\u0434\\u0430\\u043c \\u0437\\u0430 15 \\u043d\\u0435\\u0434\\u0435\\u043b\\u044e\"}},                        {\"responsive\": true}                    ).then(function(){\n",
       "                            \n",
       "var gd = document.getElementById('10a32d0f-c481-4c40-8e4c-eb77f7cdd47f');\n",
       "var x = new MutationObserver(function (mutations, observer) {{\n",
       "        var display = window.getComputedStyle(gd).display;\n",
       "        if (!display || display === 'none') {{\n",
       "            console.log([gd, 'removed!']);\n",
       "            Plotly.purge(gd);\n",
       "            observer.disconnect();\n",
       "        }}\n",
       "}});\n",
       "\n",
       "// Listen for the removal of the full notebook cells\n",
       "var notebookContainer = gd.closest('#notebook-container');\n",
       "if (notebookContainer) {{\n",
       "    x.observe(notebookContainer, {childList: true});\n",
       "}}\n",
       "\n",
       "// Listen for the clearing of the current output cell\n",
       "var outputEl = gd.closest('.output');\n",
       "if (outputEl) {{\n",
       "    x.observe(outputEl, {childList: true});\n",
       "}}\n",
       "\n",
       "                        })                };                });            </script>        </div>"
      ]
     },
     "metadata": {},
     "output_type": "display_data"
    }
   ],
   "source": [
    "#определим вклад каджого бренда в недельную прибыль за 15 неделю\n",
    "fig = px.pie(df_week_15, values='Маржа', names='Бренд AX 1', title='Маржа по брендам за 15 неделю')  \n",
    "fig.update_traces(textposition='inside', textfont_size=12) \n",
    "fig.update_layout(legend=dict(orientation=\"h\", y=1.0, x=1.4)) \n",
    "fig.show()"
   ]
  },
  {
   "cell_type": "markdown",
   "id": "ea6901d3",
   "metadata": {},
   "source": [
    "**МАРЖА**\n",
    "* `Неделя 14`\n",
    "\n",
    "`Shiseido`(18.4%), `Clarins`(9.81%), `Сlinique` (6.7%) формируют более 30% маржи \n",
    "\n",
    "далее по вкладу в выручку следуют `Payot` (5.6%), `Sisley` (3.8%), `BABOR` (3.7%)\n",
    "\n",
    "* `Неделя 15`\n",
    "\n",
    "Лидеры по объему маржи: `Shiseido`(16.9%), **`Clarins`(11.2%)**,`Payot` (6.1%).\n",
    "`Сlinique` (5,5%), `La Mer`(3,7%), `Valmount` (3,9%), `BABOR` (3,4%)\n",
    "\n",
    "\n",
    "\n",
    "\n",
    "Определим как изменилась маржинальность 15 недели относительно 14 недели:"
   ]
  },
  {
   "cell_type": "code",
   "execution_count": 48,
   "id": "e9314723",
   "metadata": {},
   "outputs": [
    {
     "data": {
      "application/vnd.plotly.v1+json": {
       "config": {
        "plotlyServerURL": "https://plot.ly"
       },
       "data": [
        {
         "alignmentgroup": "True",
         "hovertemplate": "Бренд AX 1=%{x}<br>Дельта_маржинальности=%{y}<extra></extra>",
         "legendgroup": "",
         "marker": {
          "color": "#636efa",
          "pattern": {
           "shape": ""
          }
         },
         "name": "",
         "offsetgroup": "",
         "orientation": "v",
         "showlegend": false,
         "textposition": "auto",
         "type": "bar",
         "x": [
          "Shiseido",
          "Clarins",
          "Clinique",
          "Estee Lauder",
          "BABOR",
          "Sisley",
          "Payot",
          "Lancome",
          "CHANEL",
          "La Mer",
          "Biotherm",
          "La Prairie",
          "Valmont",
          "Zielinski&Rozen",
          "Kiehls",
          "Caudalie",
          "SENSAI",
          "Cle De Peau",
          "Christian Dior",
          "ELEMIS",
          "Guam",
          "Loccitane",
          "Lumene",
          "Lancaster",
          "Rexaline",
          "Cellcosmet",
          "FOREO",
          "St.Barth",
          "Guerlain",
          "Thalgo",
          "Glam Glow",
          "Ecooking",
          "FILORGA",
          "Skyn Iceland",
          "OK Beauty",
          "Darphin",
          "Helena Rubinstein",
          "Ahava",
          "James Read",
          "Dr Barbara Sturm",
          "Anne Semonin",
          "Botany",
          "Kenzo",
          "MIXIT",
          "Omorovicza",
          "COOLA",
          "Swiss Line",
          "Givenchy",
          "Proraso"
         ],
         "xaxis": "x",
         "y": [
          0,
          0.05,
          -0.03,
          0,
          0,
          0.01,
          -0.01,
          0.03,
          -0.01,
          0,
          0,
          0.02,
          0.01,
          0,
          0,
          -0.02,
          0,
          0,
          0.02,
          0,
          0,
          0.01,
          -0.01,
          -0.04,
          0,
          -0.02,
          -0.03,
          0,
          0.01,
          0.02,
          0,
          0,
          0.01,
          -0.01,
          0,
          -0.01,
          -0.05,
          -0.04,
          0,
          -0.03,
          0,
          0,
          -0.04,
          0,
          -0.01,
          0,
          0.01,
          0.01,
          0
         ],
         "yaxis": "y"
        }
       ],
       "layout": {
        "barmode": "relative",
        "legend": {
         "tracegroupgap": 0
        },
        "template": {
         "data": {
          "bar": [
           {
            "error_x": {
             "color": "#2a3f5f"
            },
            "error_y": {
             "color": "#2a3f5f"
            },
            "marker": {
             "line": {
              "color": "#E5ECF6",
              "width": 0.5
             },
             "pattern": {
              "fillmode": "overlay",
              "size": 10,
              "solidity": 0.2
             }
            },
            "type": "bar"
           }
          ],
          "barpolar": [
           {
            "marker": {
             "line": {
              "color": "#E5ECF6",
              "width": 0.5
             },
             "pattern": {
              "fillmode": "overlay",
              "size": 10,
              "solidity": 0.2
             }
            },
            "type": "barpolar"
           }
          ],
          "carpet": [
           {
            "aaxis": {
             "endlinecolor": "#2a3f5f",
             "gridcolor": "white",
             "linecolor": "white",
             "minorgridcolor": "white",
             "startlinecolor": "#2a3f5f"
            },
            "baxis": {
             "endlinecolor": "#2a3f5f",
             "gridcolor": "white",
             "linecolor": "white",
             "minorgridcolor": "white",
             "startlinecolor": "#2a3f5f"
            },
            "type": "carpet"
           }
          ],
          "choropleth": [
           {
            "colorbar": {
             "outlinewidth": 0,
             "ticks": ""
            },
            "type": "choropleth"
           }
          ],
          "contour": [
           {
            "colorbar": {
             "outlinewidth": 0,
             "ticks": ""
            },
            "colorscale": [
             [
              0,
              "#0d0887"
             ],
             [
              0.1111111111111111,
              "#46039f"
             ],
             [
              0.2222222222222222,
              "#7201a8"
             ],
             [
              0.3333333333333333,
              "#9c179e"
             ],
             [
              0.4444444444444444,
              "#bd3786"
             ],
             [
              0.5555555555555556,
              "#d8576b"
             ],
             [
              0.6666666666666666,
              "#ed7953"
             ],
             [
              0.7777777777777778,
              "#fb9f3a"
             ],
             [
              0.8888888888888888,
              "#fdca26"
             ],
             [
              1,
              "#f0f921"
             ]
            ],
            "type": "contour"
           }
          ],
          "contourcarpet": [
           {
            "colorbar": {
             "outlinewidth": 0,
             "ticks": ""
            },
            "type": "contourcarpet"
           }
          ],
          "heatmap": [
           {
            "colorbar": {
             "outlinewidth": 0,
             "ticks": ""
            },
            "colorscale": [
             [
              0,
              "#0d0887"
             ],
             [
              0.1111111111111111,
              "#46039f"
             ],
             [
              0.2222222222222222,
              "#7201a8"
             ],
             [
              0.3333333333333333,
              "#9c179e"
             ],
             [
              0.4444444444444444,
              "#bd3786"
             ],
             [
              0.5555555555555556,
              "#d8576b"
             ],
             [
              0.6666666666666666,
              "#ed7953"
             ],
             [
              0.7777777777777778,
              "#fb9f3a"
             ],
             [
              0.8888888888888888,
              "#fdca26"
             ],
             [
              1,
              "#f0f921"
             ]
            ],
            "type": "heatmap"
           }
          ],
          "heatmapgl": [
           {
            "colorbar": {
             "outlinewidth": 0,
             "ticks": ""
            },
            "colorscale": [
             [
              0,
              "#0d0887"
             ],
             [
              0.1111111111111111,
              "#46039f"
             ],
             [
              0.2222222222222222,
              "#7201a8"
             ],
             [
              0.3333333333333333,
              "#9c179e"
             ],
             [
              0.4444444444444444,
              "#bd3786"
             ],
             [
              0.5555555555555556,
              "#d8576b"
             ],
             [
              0.6666666666666666,
              "#ed7953"
             ],
             [
              0.7777777777777778,
              "#fb9f3a"
             ],
             [
              0.8888888888888888,
              "#fdca26"
             ],
             [
              1,
              "#f0f921"
             ]
            ],
            "type": "heatmapgl"
           }
          ],
          "histogram": [
           {
            "marker": {
             "pattern": {
              "fillmode": "overlay",
              "size": 10,
              "solidity": 0.2
             }
            },
            "type": "histogram"
           }
          ],
          "histogram2d": [
           {
            "colorbar": {
             "outlinewidth": 0,
             "ticks": ""
            },
            "colorscale": [
             [
              0,
              "#0d0887"
             ],
             [
              0.1111111111111111,
              "#46039f"
             ],
             [
              0.2222222222222222,
              "#7201a8"
             ],
             [
              0.3333333333333333,
              "#9c179e"
             ],
             [
              0.4444444444444444,
              "#bd3786"
             ],
             [
              0.5555555555555556,
              "#d8576b"
             ],
             [
              0.6666666666666666,
              "#ed7953"
             ],
             [
              0.7777777777777778,
              "#fb9f3a"
             ],
             [
              0.8888888888888888,
              "#fdca26"
             ],
             [
              1,
              "#f0f921"
             ]
            ],
            "type": "histogram2d"
           }
          ],
          "histogram2dcontour": [
           {
            "colorbar": {
             "outlinewidth": 0,
             "ticks": ""
            },
            "colorscale": [
             [
              0,
              "#0d0887"
             ],
             [
              0.1111111111111111,
              "#46039f"
             ],
             [
              0.2222222222222222,
              "#7201a8"
             ],
             [
              0.3333333333333333,
              "#9c179e"
             ],
             [
              0.4444444444444444,
              "#bd3786"
             ],
             [
              0.5555555555555556,
              "#d8576b"
             ],
             [
              0.6666666666666666,
              "#ed7953"
             ],
             [
              0.7777777777777778,
              "#fb9f3a"
             ],
             [
              0.8888888888888888,
              "#fdca26"
             ],
             [
              1,
              "#f0f921"
             ]
            ],
            "type": "histogram2dcontour"
           }
          ],
          "mesh3d": [
           {
            "colorbar": {
             "outlinewidth": 0,
             "ticks": ""
            },
            "type": "mesh3d"
           }
          ],
          "parcoords": [
           {
            "line": {
             "colorbar": {
              "outlinewidth": 0,
              "ticks": ""
             }
            },
            "type": "parcoords"
           }
          ],
          "pie": [
           {
            "automargin": true,
            "type": "pie"
           }
          ],
          "scatter": [
           {
            "fillpattern": {
             "fillmode": "overlay",
             "size": 10,
             "solidity": 0.2
            },
            "type": "scatter"
           }
          ],
          "scatter3d": [
           {
            "line": {
             "colorbar": {
              "outlinewidth": 0,
              "ticks": ""
             }
            },
            "marker": {
             "colorbar": {
              "outlinewidth": 0,
              "ticks": ""
             }
            },
            "type": "scatter3d"
           }
          ],
          "scattercarpet": [
           {
            "marker": {
             "colorbar": {
              "outlinewidth": 0,
              "ticks": ""
             }
            },
            "type": "scattercarpet"
           }
          ],
          "scattergeo": [
           {
            "marker": {
             "colorbar": {
              "outlinewidth": 0,
              "ticks": ""
             }
            },
            "type": "scattergeo"
           }
          ],
          "scattergl": [
           {
            "marker": {
             "colorbar": {
              "outlinewidth": 0,
              "ticks": ""
             }
            },
            "type": "scattergl"
           }
          ],
          "scattermapbox": [
           {
            "marker": {
             "colorbar": {
              "outlinewidth": 0,
              "ticks": ""
             }
            },
            "type": "scattermapbox"
           }
          ],
          "scatterpolar": [
           {
            "marker": {
             "colorbar": {
              "outlinewidth": 0,
              "ticks": ""
             }
            },
            "type": "scatterpolar"
           }
          ],
          "scatterpolargl": [
           {
            "marker": {
             "colorbar": {
              "outlinewidth": 0,
              "ticks": ""
             }
            },
            "type": "scatterpolargl"
           }
          ],
          "scatterternary": [
           {
            "marker": {
             "colorbar": {
              "outlinewidth": 0,
              "ticks": ""
             }
            },
            "type": "scatterternary"
           }
          ],
          "surface": [
           {
            "colorbar": {
             "outlinewidth": 0,
             "ticks": ""
            },
            "colorscale": [
             [
              0,
              "#0d0887"
             ],
             [
              0.1111111111111111,
              "#46039f"
             ],
             [
              0.2222222222222222,
              "#7201a8"
             ],
             [
              0.3333333333333333,
              "#9c179e"
             ],
             [
              0.4444444444444444,
              "#bd3786"
             ],
             [
              0.5555555555555556,
              "#d8576b"
             ],
             [
              0.6666666666666666,
              "#ed7953"
             ],
             [
              0.7777777777777778,
              "#fb9f3a"
             ],
             [
              0.8888888888888888,
              "#fdca26"
             ],
             [
              1,
              "#f0f921"
             ]
            ],
            "type": "surface"
           }
          ],
          "table": [
           {
            "cells": {
             "fill": {
              "color": "#EBF0F8"
             },
             "line": {
              "color": "white"
             }
            },
            "header": {
             "fill": {
              "color": "#C8D4E3"
             },
             "line": {
              "color": "white"
             }
            },
            "type": "table"
           }
          ]
         },
         "layout": {
          "annotationdefaults": {
           "arrowcolor": "#2a3f5f",
           "arrowhead": 0,
           "arrowwidth": 1
          },
          "autotypenumbers": "strict",
          "coloraxis": {
           "colorbar": {
            "outlinewidth": 0,
            "ticks": ""
           }
          },
          "colorscale": {
           "diverging": [
            [
             0,
             "#8e0152"
            ],
            [
             0.1,
             "#c51b7d"
            ],
            [
             0.2,
             "#de77ae"
            ],
            [
             0.3,
             "#f1b6da"
            ],
            [
             0.4,
             "#fde0ef"
            ],
            [
             0.5,
             "#f7f7f7"
            ],
            [
             0.6,
             "#e6f5d0"
            ],
            [
             0.7,
             "#b8e186"
            ],
            [
             0.8,
             "#7fbc41"
            ],
            [
             0.9,
             "#4d9221"
            ],
            [
             1,
             "#276419"
            ]
           ],
           "sequential": [
            [
             0,
             "#0d0887"
            ],
            [
             0.1111111111111111,
             "#46039f"
            ],
            [
             0.2222222222222222,
             "#7201a8"
            ],
            [
             0.3333333333333333,
             "#9c179e"
            ],
            [
             0.4444444444444444,
             "#bd3786"
            ],
            [
             0.5555555555555556,
             "#d8576b"
            ],
            [
             0.6666666666666666,
             "#ed7953"
            ],
            [
             0.7777777777777778,
             "#fb9f3a"
            ],
            [
             0.8888888888888888,
             "#fdca26"
            ],
            [
             1,
             "#f0f921"
            ]
           ],
           "sequentialminus": [
            [
             0,
             "#0d0887"
            ],
            [
             0.1111111111111111,
             "#46039f"
            ],
            [
             0.2222222222222222,
             "#7201a8"
            ],
            [
             0.3333333333333333,
             "#9c179e"
            ],
            [
             0.4444444444444444,
             "#bd3786"
            ],
            [
             0.5555555555555556,
             "#d8576b"
            ],
            [
             0.6666666666666666,
             "#ed7953"
            ],
            [
             0.7777777777777778,
             "#fb9f3a"
            ],
            [
             0.8888888888888888,
             "#fdca26"
            ],
            [
             1,
             "#f0f921"
            ]
           ]
          },
          "colorway": [
           "#636efa",
           "#EF553B",
           "#00cc96",
           "#ab63fa",
           "#FFA15A",
           "#19d3f3",
           "#FF6692",
           "#B6E880",
           "#FF97FF",
           "#FECB52"
          ],
          "font": {
           "color": "#2a3f5f"
          },
          "geo": {
           "bgcolor": "white",
           "lakecolor": "white",
           "landcolor": "#E5ECF6",
           "showlakes": true,
           "showland": true,
           "subunitcolor": "white"
          },
          "hoverlabel": {
           "align": "left"
          },
          "hovermode": "closest",
          "mapbox": {
           "style": "light"
          },
          "paper_bgcolor": "white",
          "plot_bgcolor": "#E5ECF6",
          "polar": {
           "angularaxis": {
            "gridcolor": "white",
            "linecolor": "white",
            "ticks": ""
           },
           "bgcolor": "#E5ECF6",
           "radialaxis": {
            "gridcolor": "white",
            "linecolor": "white",
            "ticks": ""
           }
          },
          "scene": {
           "xaxis": {
            "backgroundcolor": "#E5ECF6",
            "gridcolor": "white",
            "gridwidth": 2,
            "linecolor": "white",
            "showbackground": true,
            "ticks": "",
            "zerolinecolor": "white"
           },
           "yaxis": {
            "backgroundcolor": "#E5ECF6",
            "gridcolor": "white",
            "gridwidth": 2,
            "linecolor": "white",
            "showbackground": true,
            "ticks": "",
            "zerolinecolor": "white"
           },
           "zaxis": {
            "backgroundcolor": "#E5ECF6",
            "gridcolor": "white",
            "gridwidth": 2,
            "linecolor": "white",
            "showbackground": true,
            "ticks": "",
            "zerolinecolor": "white"
           }
          },
          "shapedefaults": {
           "line": {
            "color": "#2a3f5f"
           }
          },
          "ternary": {
           "aaxis": {
            "gridcolor": "white",
            "linecolor": "white",
            "ticks": ""
           },
           "baxis": {
            "gridcolor": "white",
            "linecolor": "white",
            "ticks": ""
           },
           "bgcolor": "#E5ECF6",
           "caxis": {
            "gridcolor": "white",
            "linecolor": "white",
            "ticks": ""
           }
          },
          "title": {
           "x": 0.05
          },
          "xaxis": {
           "automargin": true,
           "gridcolor": "white",
           "linecolor": "white",
           "ticks": "",
           "title": {
            "standoff": 15
           },
           "zerolinecolor": "white",
           "zerolinewidth": 2
          },
          "yaxis": {
           "automargin": true,
           "gridcolor": "white",
           "linecolor": "white",
           "ticks": "",
           "title": {
            "standoff": 15
           },
           "zerolinecolor": "white",
           "zerolinewidth": 2
          }
         }
        },
        "title": {
         "text": "Изменение маржинальности с 14 к 15 неделе"
        },
        "xaxis": {
         "anchor": "y",
         "domain": [
          0,
          1
         ],
         "title": {
          "text": "Бренд AX 1"
         }
        },
        "yaxis": {
         "anchor": "x",
         "domain": [
          0,
          1
         ],
         "title": {
          "text": "Дельта_маржинальности"
         }
        }
       }
      },
      "text/html": [
       "<div>                            <div id=\"8700416e-7a82-4961-92d7-4a1c5c40dbd1\" class=\"plotly-graph-div\" style=\"height:525px; width:100%;\"></div>            <script type=\"text/javascript\">                require([\"plotly\"], function(Plotly) {                    window.PLOTLYENV=window.PLOTLYENV || {};                                    if (document.getElementById(\"8700416e-7a82-4961-92d7-4a1c5c40dbd1\")) {                    Plotly.newPlot(                        \"8700416e-7a82-4961-92d7-4a1c5c40dbd1\",                        [{\"alignmentgroup\":\"True\",\"hovertemplate\":\"\\u0411\\u0440\\u0435\\u043d\\u0434 AX 1=%{x}<br>\\u0414\\u0435\\u043b\\u044c\\u0442\\u0430_\\u043c\\u0430\\u0440\\u0436\\u0438\\u043d\\u0430\\u043b\\u044c\\u043d\\u043e\\u0441\\u0442\\u0438=%{y}<extra></extra>\",\"legendgroup\":\"\",\"marker\":{\"color\":\"#636efa\",\"pattern\":{\"shape\":\"\"}},\"name\":\"\",\"offsetgroup\":\"\",\"orientation\":\"v\",\"showlegend\":false,\"textposition\":\"auto\",\"x\":[\"Shiseido\",\"Clarins\",\"Clinique\",\"Estee Lauder\",\"BABOR\",\"Sisley\",\"Payot\",\"Lancome\",\"CHANEL\",\"La Mer\",\"Biotherm\",\"La Prairie\",\"Valmont\",\"Zielinski&Rozen\",\"Kiehls\",\"Caudalie\",\"SENSAI\",\"Cle De Peau\",\"Christian Dior\",\"ELEMIS\",\"Guam\",\"Loccitane\",\"Lumene\",\"Lancaster\",\"Rexaline\",\"Cellcosmet\",\"FOREO\",\"St.Barth\",\"Guerlain\",\"Thalgo\",\"Glam Glow\",\"Ecooking\",\"FILORGA\",\"Skyn Iceland\",\"OK Beauty\",\"Darphin\",\"Helena Rubinstein\",\"Ahava\",\"James Read\",\"Dr Barbara Sturm\",\"Anne Semonin\",\"Botany\",\"Kenzo\",\"MIXIT\",\"Omorovicza\",\"COOLA\",\"Swiss Line\",\"Givenchy\",\"Proraso\"],\"xaxis\":\"x\",\"y\":[0.0,0.05,-0.03,-0.0,0.0,0.01,-0.01,0.03,-0.01,0.0,-0.0,0.02,0.01,0.0,-0.0,-0.02,-0.0,0.0,0.02,-0.0,0.0,0.01,-0.01,-0.04,-0.0,-0.02,-0.03,-0.0,0.01,0.02,0.0,-0.0,0.01,-0.01,0.0,-0.01,-0.05,-0.04,0.0,-0.03,-0.0,0.0,-0.04,-0.0,-0.01,-0.0,0.01,0.01,-0.0],\"yaxis\":\"y\",\"type\":\"bar\"}],                        {\"template\":{\"data\":{\"histogram2dcontour\":[{\"type\":\"histogram2dcontour\",\"colorbar\":{\"outlinewidth\":0,\"ticks\":\"\"},\"colorscale\":[[0.0,\"#0d0887\"],[0.1111111111111111,\"#46039f\"],[0.2222222222222222,\"#7201a8\"],[0.3333333333333333,\"#9c179e\"],[0.4444444444444444,\"#bd3786\"],[0.5555555555555556,\"#d8576b\"],[0.6666666666666666,\"#ed7953\"],[0.7777777777777778,\"#fb9f3a\"],[0.8888888888888888,\"#fdca26\"],[1.0,\"#f0f921\"]]}],\"choropleth\":[{\"type\":\"choropleth\",\"colorbar\":{\"outlinewidth\":0,\"ticks\":\"\"}}],\"histogram2d\":[{\"type\":\"histogram2d\",\"colorbar\":{\"outlinewidth\":0,\"ticks\":\"\"},\"colorscale\":[[0.0,\"#0d0887\"],[0.1111111111111111,\"#46039f\"],[0.2222222222222222,\"#7201a8\"],[0.3333333333333333,\"#9c179e\"],[0.4444444444444444,\"#bd3786\"],[0.5555555555555556,\"#d8576b\"],[0.6666666666666666,\"#ed7953\"],[0.7777777777777778,\"#fb9f3a\"],[0.8888888888888888,\"#fdca26\"],[1.0,\"#f0f921\"]]}],\"heatmap\":[{\"type\":\"heatmap\",\"colorbar\":{\"outlinewidth\":0,\"ticks\":\"\"},\"colorscale\":[[0.0,\"#0d0887\"],[0.1111111111111111,\"#46039f\"],[0.2222222222222222,\"#7201a8\"],[0.3333333333333333,\"#9c179e\"],[0.4444444444444444,\"#bd3786\"],[0.5555555555555556,\"#d8576b\"],[0.6666666666666666,\"#ed7953\"],[0.7777777777777778,\"#fb9f3a\"],[0.8888888888888888,\"#fdca26\"],[1.0,\"#f0f921\"]]}],\"heatmapgl\":[{\"type\":\"heatmapgl\",\"colorbar\":{\"outlinewidth\":0,\"ticks\":\"\"},\"colorscale\":[[0.0,\"#0d0887\"],[0.1111111111111111,\"#46039f\"],[0.2222222222222222,\"#7201a8\"],[0.3333333333333333,\"#9c179e\"],[0.4444444444444444,\"#bd3786\"],[0.5555555555555556,\"#d8576b\"],[0.6666666666666666,\"#ed7953\"],[0.7777777777777778,\"#fb9f3a\"],[0.8888888888888888,\"#fdca26\"],[1.0,\"#f0f921\"]]}],\"contourcarpet\":[{\"type\":\"contourcarpet\",\"colorbar\":{\"outlinewidth\":0,\"ticks\":\"\"}}],\"contour\":[{\"type\":\"contour\",\"colorbar\":{\"outlinewidth\":0,\"ticks\":\"\"},\"colorscale\":[[0.0,\"#0d0887\"],[0.1111111111111111,\"#46039f\"],[0.2222222222222222,\"#7201a8\"],[0.3333333333333333,\"#9c179e\"],[0.4444444444444444,\"#bd3786\"],[0.5555555555555556,\"#d8576b\"],[0.6666666666666666,\"#ed7953\"],[0.7777777777777778,\"#fb9f3a\"],[0.8888888888888888,\"#fdca26\"],[1.0,\"#f0f921\"]]}],\"surface\":[{\"type\":\"surface\",\"colorbar\":{\"outlinewidth\":0,\"ticks\":\"\"},\"colorscale\":[[0.0,\"#0d0887\"],[0.1111111111111111,\"#46039f\"],[0.2222222222222222,\"#7201a8\"],[0.3333333333333333,\"#9c179e\"],[0.4444444444444444,\"#bd3786\"],[0.5555555555555556,\"#d8576b\"],[0.6666666666666666,\"#ed7953\"],[0.7777777777777778,\"#fb9f3a\"],[0.8888888888888888,\"#fdca26\"],[1.0,\"#f0f921\"]]}],\"mesh3d\":[{\"type\":\"mesh3d\",\"colorbar\":{\"outlinewidth\":0,\"ticks\":\"\"}}],\"scatter\":[{\"fillpattern\":{\"fillmode\":\"overlay\",\"size\":10,\"solidity\":0.2},\"type\":\"scatter\"}],\"parcoords\":[{\"type\":\"parcoords\",\"line\":{\"colorbar\":{\"outlinewidth\":0,\"ticks\":\"\"}}}],\"scatterpolargl\":[{\"type\":\"scatterpolargl\",\"marker\":{\"colorbar\":{\"outlinewidth\":0,\"ticks\":\"\"}}}],\"bar\":[{\"error_x\":{\"color\":\"#2a3f5f\"},\"error_y\":{\"color\":\"#2a3f5f\"},\"marker\":{\"line\":{\"color\":\"#E5ECF6\",\"width\":0.5},\"pattern\":{\"fillmode\":\"overlay\",\"size\":10,\"solidity\":0.2}},\"type\":\"bar\"}],\"scattergeo\":[{\"type\":\"scattergeo\",\"marker\":{\"colorbar\":{\"outlinewidth\":0,\"ticks\":\"\"}}}],\"scatterpolar\":[{\"type\":\"scatterpolar\",\"marker\":{\"colorbar\":{\"outlinewidth\":0,\"ticks\":\"\"}}}],\"histogram\":[{\"marker\":{\"pattern\":{\"fillmode\":\"overlay\",\"size\":10,\"solidity\":0.2}},\"type\":\"histogram\"}],\"scattergl\":[{\"type\":\"scattergl\",\"marker\":{\"colorbar\":{\"outlinewidth\":0,\"ticks\":\"\"}}}],\"scatter3d\":[{\"type\":\"scatter3d\",\"line\":{\"colorbar\":{\"outlinewidth\":0,\"ticks\":\"\"}},\"marker\":{\"colorbar\":{\"outlinewidth\":0,\"ticks\":\"\"}}}],\"scattermapbox\":[{\"type\":\"scattermapbox\",\"marker\":{\"colorbar\":{\"outlinewidth\":0,\"ticks\":\"\"}}}],\"scatterternary\":[{\"type\":\"scatterternary\",\"marker\":{\"colorbar\":{\"outlinewidth\":0,\"ticks\":\"\"}}}],\"scattercarpet\":[{\"type\":\"scattercarpet\",\"marker\":{\"colorbar\":{\"outlinewidth\":0,\"ticks\":\"\"}}}],\"carpet\":[{\"aaxis\":{\"endlinecolor\":\"#2a3f5f\",\"gridcolor\":\"white\",\"linecolor\":\"white\",\"minorgridcolor\":\"white\",\"startlinecolor\":\"#2a3f5f\"},\"baxis\":{\"endlinecolor\":\"#2a3f5f\",\"gridcolor\":\"white\",\"linecolor\":\"white\",\"minorgridcolor\":\"white\",\"startlinecolor\":\"#2a3f5f\"},\"type\":\"carpet\"}],\"table\":[{\"cells\":{\"fill\":{\"color\":\"#EBF0F8\"},\"line\":{\"color\":\"white\"}},\"header\":{\"fill\":{\"color\":\"#C8D4E3\"},\"line\":{\"color\":\"white\"}},\"type\":\"table\"}],\"barpolar\":[{\"marker\":{\"line\":{\"color\":\"#E5ECF6\",\"width\":0.5},\"pattern\":{\"fillmode\":\"overlay\",\"size\":10,\"solidity\":0.2}},\"type\":\"barpolar\"}],\"pie\":[{\"automargin\":true,\"type\":\"pie\"}]},\"layout\":{\"autotypenumbers\":\"strict\",\"colorway\":[\"#636efa\",\"#EF553B\",\"#00cc96\",\"#ab63fa\",\"#FFA15A\",\"#19d3f3\",\"#FF6692\",\"#B6E880\",\"#FF97FF\",\"#FECB52\"],\"font\":{\"color\":\"#2a3f5f\"},\"hovermode\":\"closest\",\"hoverlabel\":{\"align\":\"left\"},\"paper_bgcolor\":\"white\",\"plot_bgcolor\":\"#E5ECF6\",\"polar\":{\"bgcolor\":\"#E5ECF6\",\"angularaxis\":{\"gridcolor\":\"white\",\"linecolor\":\"white\",\"ticks\":\"\"},\"radialaxis\":{\"gridcolor\":\"white\",\"linecolor\":\"white\",\"ticks\":\"\"}},\"ternary\":{\"bgcolor\":\"#E5ECF6\",\"aaxis\":{\"gridcolor\":\"white\",\"linecolor\":\"white\",\"ticks\":\"\"},\"baxis\":{\"gridcolor\":\"white\",\"linecolor\":\"white\",\"ticks\":\"\"},\"caxis\":{\"gridcolor\":\"white\",\"linecolor\":\"white\",\"ticks\":\"\"}},\"coloraxis\":{\"colorbar\":{\"outlinewidth\":0,\"ticks\":\"\"}},\"colorscale\":{\"sequential\":[[0.0,\"#0d0887\"],[0.1111111111111111,\"#46039f\"],[0.2222222222222222,\"#7201a8\"],[0.3333333333333333,\"#9c179e\"],[0.4444444444444444,\"#bd3786\"],[0.5555555555555556,\"#d8576b\"],[0.6666666666666666,\"#ed7953\"],[0.7777777777777778,\"#fb9f3a\"],[0.8888888888888888,\"#fdca26\"],[1.0,\"#f0f921\"]],\"sequentialminus\":[[0.0,\"#0d0887\"],[0.1111111111111111,\"#46039f\"],[0.2222222222222222,\"#7201a8\"],[0.3333333333333333,\"#9c179e\"],[0.4444444444444444,\"#bd3786\"],[0.5555555555555556,\"#d8576b\"],[0.6666666666666666,\"#ed7953\"],[0.7777777777777778,\"#fb9f3a\"],[0.8888888888888888,\"#fdca26\"],[1.0,\"#f0f921\"]],\"diverging\":[[0,\"#8e0152\"],[0.1,\"#c51b7d\"],[0.2,\"#de77ae\"],[0.3,\"#f1b6da\"],[0.4,\"#fde0ef\"],[0.5,\"#f7f7f7\"],[0.6,\"#e6f5d0\"],[0.7,\"#b8e186\"],[0.8,\"#7fbc41\"],[0.9,\"#4d9221\"],[1,\"#276419\"]]},\"xaxis\":{\"gridcolor\":\"white\",\"linecolor\":\"white\",\"ticks\":\"\",\"title\":{\"standoff\":15},\"zerolinecolor\":\"white\",\"automargin\":true,\"zerolinewidth\":2},\"yaxis\":{\"gridcolor\":\"white\",\"linecolor\":\"white\",\"ticks\":\"\",\"title\":{\"standoff\":15},\"zerolinecolor\":\"white\",\"automargin\":true,\"zerolinewidth\":2},\"scene\":{\"xaxis\":{\"backgroundcolor\":\"#E5ECF6\",\"gridcolor\":\"white\",\"linecolor\":\"white\",\"showbackground\":true,\"ticks\":\"\",\"zerolinecolor\":\"white\",\"gridwidth\":2},\"yaxis\":{\"backgroundcolor\":\"#E5ECF6\",\"gridcolor\":\"white\",\"linecolor\":\"white\",\"showbackground\":true,\"ticks\":\"\",\"zerolinecolor\":\"white\",\"gridwidth\":2},\"zaxis\":{\"backgroundcolor\":\"#E5ECF6\",\"gridcolor\":\"white\",\"linecolor\":\"white\",\"showbackground\":true,\"ticks\":\"\",\"zerolinecolor\":\"white\",\"gridwidth\":2}},\"shapedefaults\":{\"line\":{\"color\":\"#2a3f5f\"}},\"annotationdefaults\":{\"arrowcolor\":\"#2a3f5f\",\"arrowhead\":0,\"arrowwidth\":1},\"geo\":{\"bgcolor\":\"white\",\"landcolor\":\"#E5ECF6\",\"subunitcolor\":\"white\",\"showland\":true,\"showlakes\":true,\"lakecolor\":\"white\"},\"title\":{\"x\":0.05},\"mapbox\":{\"style\":\"light\"}}},\"xaxis\":{\"anchor\":\"y\",\"domain\":[0.0,1.0],\"title\":{\"text\":\"\\u0411\\u0440\\u0435\\u043d\\u0434 AX 1\"}},\"yaxis\":{\"anchor\":\"x\",\"domain\":[0.0,1.0],\"title\":{\"text\":\"\\u0414\\u0435\\u043b\\u044c\\u0442\\u0430_\\u043c\\u0430\\u0440\\u0436\\u0438\\u043d\\u0430\\u043b\\u044c\\u043d\\u043e\\u0441\\u0442\\u0438\"}},\"legend\":{\"tracegroupgap\":0},\"title\":{\"text\":\"\\u0418\\u0437\\u043c\\u0435\\u043d\\u0435\\u043d\\u0438\\u0435 \\u043c\\u0430\\u0440\\u0436\\u0438\\u043d\\u0430\\u043b\\u044c\\u043d\\u043e\\u0441\\u0442\\u0438 \\u0441 14 \\u043a 15 \\u043d\\u0435\\u0434\\u0435\\u043b\\u0435\"},\"barmode\":\"relative\"},                        {\"responsive\": true}                    ).then(function(){\n",
       "                            \n",
       "var gd = document.getElementById('8700416e-7a82-4961-92d7-4a1c5c40dbd1');\n",
       "var x = new MutationObserver(function (mutations, observer) {{\n",
       "        var display = window.getComputedStyle(gd).display;\n",
       "        if (!display || display === 'none') {{\n",
       "            console.log([gd, 'removed!']);\n",
       "            Plotly.purge(gd);\n",
       "            observer.disconnect();\n",
       "        }}\n",
       "}});\n",
       "\n",
       "// Listen for the removal of the full notebook cells\n",
       "var notebookContainer = gd.closest('#notebook-container');\n",
       "if (notebookContainer) {{\n",
       "    x.observe(notebookContainer, {childList: true});\n",
       "}}\n",
       "\n",
       "// Listen for the clearing of the current output cell\n",
       "var outputEl = gd.closest('.output');\n",
       "if (outputEl) {{\n",
       "    x.observe(outputEl, {childList: true});\n",
       "}}\n",
       "\n",
       "                        })                };                });            </script>        </div>"
      ]
     },
     "metadata": {},
     "output_type": "display_data"
    }
   ],
   "source": [
    "df_merge = df_week_14.merge(df_week_15, on='Бренд AX 1', suffixes=('_14', '_15'))\n",
    "df_merge['Дельта_маржинальности'] = round(df_merge['Маржинальность_15'] - df_merge['Маржинальность_14'], 2)\n",
    "\n",
    "fig = px.bar(df_merge, x='Бренд AX 1', y='Дельта_маржинальности', title='Изменение маржинальности с 14 к 15 неделе')\n",
    "fig.show()"
   ]
  },
  {
   "cell_type": "markdown",
   "id": "3c6041a3",
   "metadata": {},
   "source": [
    "**МАРЖИНАЛЬНОСТЬ динамика**\n",
    "\n",
    "Максимальное изменение маржинальности наблюдается для брендов `Clatins`(выросла на 5%) и `Helena rubinstein` ( маржинальность снизилась на 5%). Для брендов`Payot`с 14 до 15 недели наблюдаем снижение маржинальности на 1%, `Clinique` -3%, `Sisley``Valmont` +1%."
   ]
  },
  {
   "cell_type": "code",
   "execution_count": 49,
   "id": "c3afb524",
   "metadata": {},
   "outputs": [
    {
     "data": {
      "application/vnd.plotly.v1+json": {
       "config": {
        "plotlyServerURL": "https://plot.ly"
       },
       "data": [
        {
         "alignmentgroup": "True",
         "hovertemplate": "Бренд AX 1=%{x}<br>Маржинальность_14=%{y}<extra></extra>",
         "legendgroup": "",
         "marker": {
          "color": "#636efa",
          "pattern": {
           "shape": ""
          }
         },
         "name": "",
         "offsetgroup": "",
         "orientation": "v",
         "showlegend": false,
         "textposition": "auto",
         "type": "bar",
         "x": [
          "Shiseido",
          "Clarins",
          "Clinique",
          "Estee Lauder",
          "BABOR",
          "Sisley",
          "Payot",
          "Lancome",
          "CHANEL",
          "La Mer",
          "Biotherm",
          "La Prairie",
          "Valmont",
          "Zielinski&Rozen",
          "Kiehls",
          "Caudalie",
          "SENSAI",
          "Cle De Peau",
          "Christian Dior",
          "ELEMIS",
          "Guam",
          "Loccitane",
          "Lumene",
          "Lancaster",
          "Rexaline",
          "Cellcosmet",
          "FOREO",
          "St.Barth",
          "Guerlain",
          "Thalgo",
          "Glam Glow",
          "Ecooking",
          "FILORGA",
          "Skyn Iceland",
          "OK Beauty",
          "Darphin",
          "Helena Rubinstein",
          "Ahava",
          "James Read",
          "Dr Barbara Sturm",
          "Anne Semonin",
          "Botany",
          "Kenzo",
          "MIXIT",
          "Omorovicza",
          "COOLA",
          "Swiss Line",
          "Givenchy",
          "Proraso"
         ],
         "xaxis": "x",
         "y": [
          0.16782359638485134,
          0.09134757234809712,
          0.1697435981076951,
          0.10833968359288214,
          0.14772078645304226,
          0.15544683238799645,
          0.21653978349309685,
          0.10232165743455499,
          0.08777192614412078,
          0.1729678698976196,
          0.1165749167697427,
          0.15452093006371176,
          0.15289095676728937,
          0.20510714432421115,
          0.19331212118615027,
          0.190500145065734,
          0.14735302417944104,
          0.08422036289768639,
          0.0890287534747436,
          0.22608826128852225,
          0.14739668471197076,
          0.13252130956159466,
          0.1376526007334661,
          0.14410227452505134,
          0.1297597106361185,
          0.12761639514850245,
          0.21126179450533056,
          0.19396254215650802,
          0.08681462245351347,
          0.14342048873707414,
          0.12399023591675781,
          0.30500890441073597,
          0.2092694939174027,
          0.16458451334913407,
          0.1594575748348504,
          0.14491771524086383,
          0.12999958104213716,
          0.1243773266713581,
          0.22959584873303282,
          0.22332450129037246,
          0.20213933786371913,
          0.2396573377870851,
          0.08935167183630491,
          0.17668268133930506,
          0.17683880786687536,
          0.2069711598324941,
          0.18388812466794086,
          0.10521177588254864,
          0.22051400322856202
         ],
         "yaxis": "y"
        },
        {
         "alignmentgroup": "True",
         "hovertemplate": "Бренд AX 1=%{x}<br>Маржинальность_15=%{y}<extra></extra>",
         "legendgroup": "",
         "marker": {
          "color": "#636efa",
          "opacity": 0.3,
          "pattern": {
           "shape": ""
          }
         },
         "name": "",
         "offsetgroup": "",
         "orientation": "v",
         "showlegend": false,
         "textposition": "auto",
         "type": "bar",
         "x": [
          "Shiseido",
          "Clarins",
          "Clinique",
          "Estee Lauder",
          "BABOR",
          "Sisley",
          "Payot",
          "Lancome",
          "CHANEL",
          "La Mer",
          "Biotherm",
          "La Prairie",
          "Valmont",
          "Zielinski&Rozen",
          "Kiehls",
          "Caudalie",
          "SENSAI",
          "Cle De Peau",
          "Christian Dior",
          "ELEMIS",
          "Guam",
          "Loccitane",
          "Lumene",
          "Lancaster",
          "Rexaline",
          "Cellcosmet",
          "FOREO",
          "St.Barth",
          "Guerlain",
          "Thalgo",
          "Glam Glow",
          "Ecooking",
          "FILORGA",
          "Skyn Iceland",
          "OK Beauty",
          "Darphin",
          "Helena Rubinstein",
          "Ahava",
          "James Read",
          "Dr Barbara Sturm",
          "Anne Semonin",
          "Botany",
          "Kenzo",
          "MIXIT",
          "Omorovicza",
          "COOLA",
          "Swiss Line",
          "Givenchy",
          "Proraso"
         ],
         "xaxis": "x",
         "y": [
          0.16921185747636544,
          0.1459036577004816,
          0.14013612680977536,
          0.10468286750024905,
          0.147962129082897,
          0.16701491348048259,
          0.209797379810378,
          0.1274427533511798,
          0.07728920544169111,
          0.1735622977155302,
          0.11616265530023553,
          0.17585394708353003,
          0.16317271706022696,
          0.20793430392715584,
          0.19244387421414197,
          0.1674588896481143,
          0.14495204146956858,
          0.08454720407474929,
          0.10971383157185358,
          0.22509328946771676,
          0.14943564144371027,
          0.14425699854988405,
          0.1312074541261875,
          0.09922883138556157,
          0.12960450065150483,
          0.11146931774331582,
          0.18529961260265682,
          0.19123310197778298,
          0.0948414518317889,
          0.16537450421461372,
          0.1257652511094624,
          0.30020641009155247,
          0.21430729692731285,
          0.15848024680558634,
          0.1622370972035881,
          0.13562842677476736,
          0.08060421394945079,
          0.0819753476159953,
          0.23004673062050332,
          0.19473488797985472,
          0.2015604179404343,
          0.24242441861701866,
          0.052216585707663715,
          0.1742935794119884,
          0.1672486350100343,
          0.20468669026577188,
          0.19436465052111418,
          0.11294867660811957,
          0.2176437227515727
         ],
         "yaxis": "y"
        }
       ],
       "layout": {
        "barmode": "relative",
        "legend": {
         "tracegroupgap": 0
        },
        "template": {
         "data": {
          "bar": [
           {
            "error_x": {
             "color": "#2a3f5f"
            },
            "error_y": {
             "color": "#2a3f5f"
            },
            "marker": {
             "line": {
              "color": "#E5ECF6",
              "width": 0.5
             },
             "pattern": {
              "fillmode": "overlay",
              "size": 10,
              "solidity": 0.2
             }
            },
            "type": "bar"
           }
          ],
          "barpolar": [
           {
            "marker": {
             "line": {
              "color": "#E5ECF6",
              "width": 0.5
             },
             "pattern": {
              "fillmode": "overlay",
              "size": 10,
              "solidity": 0.2
             }
            },
            "type": "barpolar"
           }
          ],
          "carpet": [
           {
            "aaxis": {
             "endlinecolor": "#2a3f5f",
             "gridcolor": "white",
             "linecolor": "white",
             "minorgridcolor": "white",
             "startlinecolor": "#2a3f5f"
            },
            "baxis": {
             "endlinecolor": "#2a3f5f",
             "gridcolor": "white",
             "linecolor": "white",
             "minorgridcolor": "white",
             "startlinecolor": "#2a3f5f"
            },
            "type": "carpet"
           }
          ],
          "choropleth": [
           {
            "colorbar": {
             "outlinewidth": 0,
             "ticks": ""
            },
            "type": "choropleth"
           }
          ],
          "contour": [
           {
            "colorbar": {
             "outlinewidth": 0,
             "ticks": ""
            },
            "colorscale": [
             [
              0,
              "#0d0887"
             ],
             [
              0.1111111111111111,
              "#46039f"
             ],
             [
              0.2222222222222222,
              "#7201a8"
             ],
             [
              0.3333333333333333,
              "#9c179e"
             ],
             [
              0.4444444444444444,
              "#bd3786"
             ],
             [
              0.5555555555555556,
              "#d8576b"
             ],
             [
              0.6666666666666666,
              "#ed7953"
             ],
             [
              0.7777777777777778,
              "#fb9f3a"
             ],
             [
              0.8888888888888888,
              "#fdca26"
             ],
             [
              1,
              "#f0f921"
             ]
            ],
            "type": "contour"
           }
          ],
          "contourcarpet": [
           {
            "colorbar": {
             "outlinewidth": 0,
             "ticks": ""
            },
            "type": "contourcarpet"
           }
          ],
          "heatmap": [
           {
            "colorbar": {
             "outlinewidth": 0,
             "ticks": ""
            },
            "colorscale": [
             [
              0,
              "#0d0887"
             ],
             [
              0.1111111111111111,
              "#46039f"
             ],
             [
              0.2222222222222222,
              "#7201a8"
             ],
             [
              0.3333333333333333,
              "#9c179e"
             ],
             [
              0.4444444444444444,
              "#bd3786"
             ],
             [
              0.5555555555555556,
              "#d8576b"
             ],
             [
              0.6666666666666666,
              "#ed7953"
             ],
             [
              0.7777777777777778,
              "#fb9f3a"
             ],
             [
              0.8888888888888888,
              "#fdca26"
             ],
             [
              1,
              "#f0f921"
             ]
            ],
            "type": "heatmap"
           }
          ],
          "heatmapgl": [
           {
            "colorbar": {
             "outlinewidth": 0,
             "ticks": ""
            },
            "colorscale": [
             [
              0,
              "#0d0887"
             ],
             [
              0.1111111111111111,
              "#46039f"
             ],
             [
              0.2222222222222222,
              "#7201a8"
             ],
             [
              0.3333333333333333,
              "#9c179e"
             ],
             [
              0.4444444444444444,
              "#bd3786"
             ],
             [
              0.5555555555555556,
              "#d8576b"
             ],
             [
              0.6666666666666666,
              "#ed7953"
             ],
             [
              0.7777777777777778,
              "#fb9f3a"
             ],
             [
              0.8888888888888888,
              "#fdca26"
             ],
             [
              1,
              "#f0f921"
             ]
            ],
            "type": "heatmapgl"
           }
          ],
          "histogram": [
           {
            "marker": {
             "pattern": {
              "fillmode": "overlay",
              "size": 10,
              "solidity": 0.2
             }
            },
            "type": "histogram"
           }
          ],
          "histogram2d": [
           {
            "colorbar": {
             "outlinewidth": 0,
             "ticks": ""
            },
            "colorscale": [
             [
              0,
              "#0d0887"
             ],
             [
              0.1111111111111111,
              "#46039f"
             ],
             [
              0.2222222222222222,
              "#7201a8"
             ],
             [
              0.3333333333333333,
              "#9c179e"
             ],
             [
              0.4444444444444444,
              "#bd3786"
             ],
             [
              0.5555555555555556,
              "#d8576b"
             ],
             [
              0.6666666666666666,
              "#ed7953"
             ],
             [
              0.7777777777777778,
              "#fb9f3a"
             ],
             [
              0.8888888888888888,
              "#fdca26"
             ],
             [
              1,
              "#f0f921"
             ]
            ],
            "type": "histogram2d"
           }
          ],
          "histogram2dcontour": [
           {
            "colorbar": {
             "outlinewidth": 0,
             "ticks": ""
            },
            "colorscale": [
             [
              0,
              "#0d0887"
             ],
             [
              0.1111111111111111,
              "#46039f"
             ],
             [
              0.2222222222222222,
              "#7201a8"
             ],
             [
              0.3333333333333333,
              "#9c179e"
             ],
             [
              0.4444444444444444,
              "#bd3786"
             ],
             [
              0.5555555555555556,
              "#d8576b"
             ],
             [
              0.6666666666666666,
              "#ed7953"
             ],
             [
              0.7777777777777778,
              "#fb9f3a"
             ],
             [
              0.8888888888888888,
              "#fdca26"
             ],
             [
              1,
              "#f0f921"
             ]
            ],
            "type": "histogram2dcontour"
           }
          ],
          "mesh3d": [
           {
            "colorbar": {
             "outlinewidth": 0,
             "ticks": ""
            },
            "type": "mesh3d"
           }
          ],
          "parcoords": [
           {
            "line": {
             "colorbar": {
              "outlinewidth": 0,
              "ticks": ""
             }
            },
            "type": "parcoords"
           }
          ],
          "pie": [
           {
            "automargin": true,
            "type": "pie"
           }
          ],
          "scatter": [
           {
            "fillpattern": {
             "fillmode": "overlay",
             "size": 10,
             "solidity": 0.2
            },
            "type": "scatter"
           }
          ],
          "scatter3d": [
           {
            "line": {
             "colorbar": {
              "outlinewidth": 0,
              "ticks": ""
             }
            },
            "marker": {
             "colorbar": {
              "outlinewidth": 0,
              "ticks": ""
             }
            },
            "type": "scatter3d"
           }
          ],
          "scattercarpet": [
           {
            "marker": {
             "colorbar": {
              "outlinewidth": 0,
              "ticks": ""
             }
            },
            "type": "scattercarpet"
           }
          ],
          "scattergeo": [
           {
            "marker": {
             "colorbar": {
              "outlinewidth": 0,
              "ticks": ""
             }
            },
            "type": "scattergeo"
           }
          ],
          "scattergl": [
           {
            "marker": {
             "colorbar": {
              "outlinewidth": 0,
              "ticks": ""
             }
            },
            "type": "scattergl"
           }
          ],
          "scattermapbox": [
           {
            "marker": {
             "colorbar": {
              "outlinewidth": 0,
              "ticks": ""
             }
            },
            "type": "scattermapbox"
           }
          ],
          "scatterpolar": [
           {
            "marker": {
             "colorbar": {
              "outlinewidth": 0,
              "ticks": ""
             }
            },
            "type": "scatterpolar"
           }
          ],
          "scatterpolargl": [
           {
            "marker": {
             "colorbar": {
              "outlinewidth": 0,
              "ticks": ""
             }
            },
            "type": "scatterpolargl"
           }
          ],
          "scatterternary": [
           {
            "marker": {
             "colorbar": {
              "outlinewidth": 0,
              "ticks": ""
             }
            },
            "type": "scatterternary"
           }
          ],
          "surface": [
           {
            "colorbar": {
             "outlinewidth": 0,
             "ticks": ""
            },
            "colorscale": [
             [
              0,
              "#0d0887"
             ],
             [
              0.1111111111111111,
              "#46039f"
             ],
             [
              0.2222222222222222,
              "#7201a8"
             ],
             [
              0.3333333333333333,
              "#9c179e"
             ],
             [
              0.4444444444444444,
              "#bd3786"
             ],
             [
              0.5555555555555556,
              "#d8576b"
             ],
             [
              0.6666666666666666,
              "#ed7953"
             ],
             [
              0.7777777777777778,
              "#fb9f3a"
             ],
             [
              0.8888888888888888,
              "#fdca26"
             ],
             [
              1,
              "#f0f921"
             ]
            ],
            "type": "surface"
           }
          ],
          "table": [
           {
            "cells": {
             "fill": {
              "color": "#EBF0F8"
             },
             "line": {
              "color": "white"
             }
            },
            "header": {
             "fill": {
              "color": "#C8D4E3"
             },
             "line": {
              "color": "white"
             }
            },
            "type": "table"
           }
          ]
         },
         "layout": {
          "annotationdefaults": {
           "arrowcolor": "#2a3f5f",
           "arrowhead": 0,
           "arrowwidth": 1
          },
          "autotypenumbers": "strict",
          "coloraxis": {
           "colorbar": {
            "outlinewidth": 0,
            "ticks": ""
           }
          },
          "colorscale": {
           "diverging": [
            [
             0,
             "#8e0152"
            ],
            [
             0.1,
             "#c51b7d"
            ],
            [
             0.2,
             "#de77ae"
            ],
            [
             0.3,
             "#f1b6da"
            ],
            [
             0.4,
             "#fde0ef"
            ],
            [
             0.5,
             "#f7f7f7"
            ],
            [
             0.6,
             "#e6f5d0"
            ],
            [
             0.7,
             "#b8e186"
            ],
            [
             0.8,
             "#7fbc41"
            ],
            [
             0.9,
             "#4d9221"
            ],
            [
             1,
             "#276419"
            ]
           ],
           "sequential": [
            [
             0,
             "#0d0887"
            ],
            [
             0.1111111111111111,
             "#46039f"
            ],
            [
             0.2222222222222222,
             "#7201a8"
            ],
            [
             0.3333333333333333,
             "#9c179e"
            ],
            [
             0.4444444444444444,
             "#bd3786"
            ],
            [
             0.5555555555555556,
             "#d8576b"
            ],
            [
             0.6666666666666666,
             "#ed7953"
            ],
            [
             0.7777777777777778,
             "#fb9f3a"
            ],
            [
             0.8888888888888888,
             "#fdca26"
            ],
            [
             1,
             "#f0f921"
            ]
           ],
           "sequentialminus": [
            [
             0,
             "#0d0887"
            ],
            [
             0.1111111111111111,
             "#46039f"
            ],
            [
             0.2222222222222222,
             "#7201a8"
            ],
            [
             0.3333333333333333,
             "#9c179e"
            ],
            [
             0.4444444444444444,
             "#bd3786"
            ],
            [
             0.5555555555555556,
             "#d8576b"
            ],
            [
             0.6666666666666666,
             "#ed7953"
            ],
            [
             0.7777777777777778,
             "#fb9f3a"
            ],
            [
             0.8888888888888888,
             "#fdca26"
            ],
            [
             1,
             "#f0f921"
            ]
           ]
          },
          "colorway": [
           "#636efa",
           "#EF553B",
           "#00cc96",
           "#ab63fa",
           "#FFA15A",
           "#19d3f3",
           "#FF6692",
           "#B6E880",
           "#FF97FF",
           "#FECB52"
          ],
          "font": {
           "color": "#2a3f5f"
          },
          "geo": {
           "bgcolor": "white",
           "lakecolor": "white",
           "landcolor": "#E5ECF6",
           "showlakes": true,
           "showland": true,
           "subunitcolor": "white"
          },
          "hoverlabel": {
           "align": "left"
          },
          "hovermode": "closest",
          "mapbox": {
           "style": "light"
          },
          "paper_bgcolor": "white",
          "plot_bgcolor": "#E5ECF6",
          "polar": {
           "angularaxis": {
            "gridcolor": "white",
            "linecolor": "white",
            "ticks": ""
           },
           "bgcolor": "#E5ECF6",
           "radialaxis": {
            "gridcolor": "white",
            "linecolor": "white",
            "ticks": ""
           }
          },
          "scene": {
           "xaxis": {
            "backgroundcolor": "#E5ECF6",
            "gridcolor": "white",
            "gridwidth": 2,
            "linecolor": "white",
            "showbackground": true,
            "ticks": "",
            "zerolinecolor": "white"
           },
           "yaxis": {
            "backgroundcolor": "#E5ECF6",
            "gridcolor": "white",
            "gridwidth": 2,
            "linecolor": "white",
            "showbackground": true,
            "ticks": "",
            "zerolinecolor": "white"
           },
           "zaxis": {
            "backgroundcolor": "#E5ECF6",
            "gridcolor": "white",
            "gridwidth": 2,
            "linecolor": "white",
            "showbackground": true,
            "ticks": "",
            "zerolinecolor": "white"
           }
          },
          "shapedefaults": {
           "line": {
            "color": "#2a3f5f"
           }
          },
          "ternary": {
           "aaxis": {
            "gridcolor": "white",
            "linecolor": "white",
            "ticks": ""
           },
           "baxis": {
            "gridcolor": "white",
            "linecolor": "white",
            "ticks": ""
           },
           "bgcolor": "#E5ECF6",
           "caxis": {
            "gridcolor": "white",
            "linecolor": "white",
            "ticks": ""
           }
          },
          "title": {
           "x": 0.05
          },
          "xaxis": {
           "automargin": true,
           "gridcolor": "white",
           "linecolor": "white",
           "ticks": "",
           "title": {
            "standoff": 15
           },
           "zerolinecolor": "white",
           "zerolinewidth": 2
          },
          "yaxis": {
           "automargin": true,
           "gridcolor": "white",
           "linecolor": "white",
           "ticks": "",
           "title": {
            "standoff": 15
           },
           "zerolinecolor": "white",
           "zerolinewidth": 2
          }
         }
        },
        "title": {
         "text": "Маржинальность по брендам за недели 14 и 15"
        },
        "xaxis": {
         "anchor": "y",
         "domain": [
          0,
          1
         ],
         "title": {
          "text": "Бренд AX 1"
         }
        },
        "yaxis": {
         "anchor": "x",
         "domain": [
          0,
          1
         ],
         "title": {
          "text": "Маржинальность_14"
         }
        }
       }
      },
      "text/html": [
       "<div>                            <div id=\"6f68cde2-c792-49b4-a298-e4e0d63ec8ec\" class=\"plotly-graph-div\" style=\"height:525px; width:100%;\"></div>            <script type=\"text/javascript\">                require([\"plotly\"], function(Plotly) {                    window.PLOTLYENV=window.PLOTLYENV || {};                                    if (document.getElementById(\"6f68cde2-c792-49b4-a298-e4e0d63ec8ec\")) {                    Plotly.newPlot(                        \"6f68cde2-c792-49b4-a298-e4e0d63ec8ec\",                        [{\"alignmentgroup\":\"True\",\"hovertemplate\":\"\\u0411\\u0440\\u0435\\u043d\\u0434 AX 1=%{x}<br>\\u041c\\u0430\\u0440\\u0436\\u0438\\u043d\\u0430\\u043b\\u044c\\u043d\\u043e\\u0441\\u0442\\u044c_14=%{y}<extra></extra>\",\"legendgroup\":\"\",\"marker\":{\"color\":\"#636efa\",\"pattern\":{\"shape\":\"\"}},\"name\":\"\",\"offsetgroup\":\"\",\"orientation\":\"v\",\"showlegend\":false,\"textposition\":\"auto\",\"x\":[\"Shiseido\",\"Clarins\",\"Clinique\",\"Estee Lauder\",\"BABOR\",\"Sisley\",\"Payot\",\"Lancome\",\"CHANEL\",\"La Mer\",\"Biotherm\",\"La Prairie\",\"Valmont\",\"Zielinski&Rozen\",\"Kiehls\",\"Caudalie\",\"SENSAI\",\"Cle De Peau\",\"Christian Dior\",\"ELEMIS\",\"Guam\",\"Loccitane\",\"Lumene\",\"Lancaster\",\"Rexaline\",\"Cellcosmet\",\"FOREO\",\"St.Barth\",\"Guerlain\",\"Thalgo\",\"Glam Glow\",\"Ecooking\",\"FILORGA\",\"Skyn Iceland\",\"OK Beauty\",\"Darphin\",\"Helena Rubinstein\",\"Ahava\",\"James Read\",\"Dr Barbara Sturm\",\"Anne Semonin\",\"Botany\",\"Kenzo\",\"MIXIT\",\"Omorovicza\",\"COOLA\",\"Swiss Line\",\"Givenchy\",\"Proraso\"],\"xaxis\":\"x\",\"y\":[0.16782359638485134,0.09134757234809712,0.1697435981076951,0.10833968359288214,0.14772078645304226,0.15544683238799645,0.21653978349309685,0.10232165743455499,0.08777192614412078,0.1729678698976196,0.1165749167697427,0.15452093006371176,0.15289095676728937,0.20510714432421115,0.19331212118615027,0.190500145065734,0.14735302417944104,0.08422036289768639,0.0890287534747436,0.22608826128852225,0.14739668471197076,0.13252130956159466,0.1376526007334661,0.14410227452505134,0.1297597106361185,0.12761639514850245,0.21126179450533056,0.19396254215650802,0.08681462245351347,0.14342048873707414,0.12399023591675781,0.30500890441073597,0.2092694939174027,0.16458451334913407,0.1594575748348504,0.14491771524086383,0.12999958104213716,0.1243773266713581,0.22959584873303282,0.22332450129037246,0.20213933786371913,0.2396573377870851,0.08935167183630491,0.17668268133930506,0.17683880786687536,0.2069711598324941,0.18388812466794086,0.10521177588254864,0.22051400322856202],\"yaxis\":\"y\",\"type\":\"bar\"},{\"alignmentgroup\":\"True\",\"hovertemplate\":\"\\u0411\\u0440\\u0435\\u043d\\u0434 AX 1=%{x}<br>\\u041c\\u0430\\u0440\\u0436\\u0438\\u043d\\u0430\\u043b\\u044c\\u043d\\u043e\\u0441\\u0442\\u044c_15=%{y}<extra></extra>\",\"legendgroup\":\"\",\"marker\":{\"color\":\"#636efa\",\"opacity\":0.3,\"pattern\":{\"shape\":\"\"}},\"name\":\"\",\"offsetgroup\":\"\",\"orientation\":\"v\",\"showlegend\":false,\"textposition\":\"auto\",\"x\":[\"Shiseido\",\"Clarins\",\"Clinique\",\"Estee Lauder\",\"BABOR\",\"Sisley\",\"Payot\",\"Lancome\",\"CHANEL\",\"La Mer\",\"Biotherm\",\"La Prairie\",\"Valmont\",\"Zielinski&Rozen\",\"Kiehls\",\"Caudalie\",\"SENSAI\",\"Cle De Peau\",\"Christian Dior\",\"ELEMIS\",\"Guam\",\"Loccitane\",\"Lumene\",\"Lancaster\",\"Rexaline\",\"Cellcosmet\",\"FOREO\",\"St.Barth\",\"Guerlain\",\"Thalgo\",\"Glam Glow\",\"Ecooking\",\"FILORGA\",\"Skyn Iceland\",\"OK Beauty\",\"Darphin\",\"Helena Rubinstein\",\"Ahava\",\"James Read\",\"Dr Barbara Sturm\",\"Anne Semonin\",\"Botany\",\"Kenzo\",\"MIXIT\",\"Omorovicza\",\"COOLA\",\"Swiss Line\",\"Givenchy\",\"Proraso\"],\"xaxis\":\"x\",\"y\":[0.16921185747636544,0.1459036577004816,0.14013612680977536,0.10468286750024905,0.147962129082897,0.16701491348048259,0.209797379810378,0.1274427533511798,0.07728920544169111,0.1735622977155302,0.11616265530023553,0.17585394708353003,0.16317271706022696,0.20793430392715584,0.19244387421414197,0.1674588896481143,0.14495204146956858,0.08454720407474929,0.10971383157185358,0.22509328946771676,0.14943564144371027,0.14425699854988405,0.1312074541261875,0.09922883138556157,0.12960450065150483,0.11146931774331582,0.18529961260265682,0.19123310197778298,0.0948414518317889,0.16537450421461372,0.1257652511094624,0.30020641009155247,0.21430729692731285,0.15848024680558634,0.1622370972035881,0.13562842677476736,0.08060421394945079,0.0819753476159953,0.23004673062050332,0.19473488797985472,0.2015604179404343,0.24242441861701866,0.052216585707663715,0.1742935794119884,0.1672486350100343,0.20468669026577188,0.19436465052111418,0.11294867660811957,0.2176437227515727],\"yaxis\":\"y\",\"type\":\"bar\"}],                        {\"template\":{\"data\":{\"histogram2dcontour\":[{\"type\":\"histogram2dcontour\",\"colorbar\":{\"outlinewidth\":0,\"ticks\":\"\"},\"colorscale\":[[0.0,\"#0d0887\"],[0.1111111111111111,\"#46039f\"],[0.2222222222222222,\"#7201a8\"],[0.3333333333333333,\"#9c179e\"],[0.4444444444444444,\"#bd3786\"],[0.5555555555555556,\"#d8576b\"],[0.6666666666666666,\"#ed7953\"],[0.7777777777777778,\"#fb9f3a\"],[0.8888888888888888,\"#fdca26\"],[1.0,\"#f0f921\"]]}],\"choropleth\":[{\"type\":\"choropleth\",\"colorbar\":{\"outlinewidth\":0,\"ticks\":\"\"}}],\"histogram2d\":[{\"type\":\"histogram2d\",\"colorbar\":{\"outlinewidth\":0,\"ticks\":\"\"},\"colorscale\":[[0.0,\"#0d0887\"],[0.1111111111111111,\"#46039f\"],[0.2222222222222222,\"#7201a8\"],[0.3333333333333333,\"#9c179e\"],[0.4444444444444444,\"#bd3786\"],[0.5555555555555556,\"#d8576b\"],[0.6666666666666666,\"#ed7953\"],[0.7777777777777778,\"#fb9f3a\"],[0.8888888888888888,\"#fdca26\"],[1.0,\"#f0f921\"]]}],\"heatmap\":[{\"type\":\"heatmap\",\"colorbar\":{\"outlinewidth\":0,\"ticks\":\"\"},\"colorscale\":[[0.0,\"#0d0887\"],[0.1111111111111111,\"#46039f\"],[0.2222222222222222,\"#7201a8\"],[0.3333333333333333,\"#9c179e\"],[0.4444444444444444,\"#bd3786\"],[0.5555555555555556,\"#d8576b\"],[0.6666666666666666,\"#ed7953\"],[0.7777777777777778,\"#fb9f3a\"],[0.8888888888888888,\"#fdca26\"],[1.0,\"#f0f921\"]]}],\"heatmapgl\":[{\"type\":\"heatmapgl\",\"colorbar\":{\"outlinewidth\":0,\"ticks\":\"\"},\"colorscale\":[[0.0,\"#0d0887\"],[0.1111111111111111,\"#46039f\"],[0.2222222222222222,\"#7201a8\"],[0.3333333333333333,\"#9c179e\"],[0.4444444444444444,\"#bd3786\"],[0.5555555555555556,\"#d8576b\"],[0.6666666666666666,\"#ed7953\"],[0.7777777777777778,\"#fb9f3a\"],[0.8888888888888888,\"#fdca26\"],[1.0,\"#f0f921\"]]}],\"contourcarpet\":[{\"type\":\"contourcarpet\",\"colorbar\":{\"outlinewidth\":0,\"ticks\":\"\"}}],\"contour\":[{\"type\":\"contour\",\"colorbar\":{\"outlinewidth\":0,\"ticks\":\"\"},\"colorscale\":[[0.0,\"#0d0887\"],[0.1111111111111111,\"#46039f\"],[0.2222222222222222,\"#7201a8\"],[0.3333333333333333,\"#9c179e\"],[0.4444444444444444,\"#bd3786\"],[0.5555555555555556,\"#d8576b\"],[0.6666666666666666,\"#ed7953\"],[0.7777777777777778,\"#fb9f3a\"],[0.8888888888888888,\"#fdca26\"],[1.0,\"#f0f921\"]]}],\"surface\":[{\"type\":\"surface\",\"colorbar\":{\"outlinewidth\":0,\"ticks\":\"\"},\"colorscale\":[[0.0,\"#0d0887\"],[0.1111111111111111,\"#46039f\"],[0.2222222222222222,\"#7201a8\"],[0.3333333333333333,\"#9c179e\"],[0.4444444444444444,\"#bd3786\"],[0.5555555555555556,\"#d8576b\"],[0.6666666666666666,\"#ed7953\"],[0.7777777777777778,\"#fb9f3a\"],[0.8888888888888888,\"#fdca26\"],[1.0,\"#f0f921\"]]}],\"mesh3d\":[{\"type\":\"mesh3d\",\"colorbar\":{\"outlinewidth\":0,\"ticks\":\"\"}}],\"scatter\":[{\"fillpattern\":{\"fillmode\":\"overlay\",\"size\":10,\"solidity\":0.2},\"type\":\"scatter\"}],\"parcoords\":[{\"type\":\"parcoords\",\"line\":{\"colorbar\":{\"outlinewidth\":0,\"ticks\":\"\"}}}],\"scatterpolargl\":[{\"type\":\"scatterpolargl\",\"marker\":{\"colorbar\":{\"outlinewidth\":0,\"ticks\":\"\"}}}],\"bar\":[{\"error_x\":{\"color\":\"#2a3f5f\"},\"error_y\":{\"color\":\"#2a3f5f\"},\"marker\":{\"line\":{\"color\":\"#E5ECF6\",\"width\":0.5},\"pattern\":{\"fillmode\":\"overlay\",\"size\":10,\"solidity\":0.2}},\"type\":\"bar\"}],\"scattergeo\":[{\"type\":\"scattergeo\",\"marker\":{\"colorbar\":{\"outlinewidth\":0,\"ticks\":\"\"}}}],\"scatterpolar\":[{\"type\":\"scatterpolar\",\"marker\":{\"colorbar\":{\"outlinewidth\":0,\"ticks\":\"\"}}}],\"histogram\":[{\"marker\":{\"pattern\":{\"fillmode\":\"overlay\",\"size\":10,\"solidity\":0.2}},\"type\":\"histogram\"}],\"scattergl\":[{\"type\":\"scattergl\",\"marker\":{\"colorbar\":{\"outlinewidth\":0,\"ticks\":\"\"}}}],\"scatter3d\":[{\"type\":\"scatter3d\",\"line\":{\"colorbar\":{\"outlinewidth\":0,\"ticks\":\"\"}},\"marker\":{\"colorbar\":{\"outlinewidth\":0,\"ticks\":\"\"}}}],\"scattermapbox\":[{\"type\":\"scattermapbox\",\"marker\":{\"colorbar\":{\"outlinewidth\":0,\"ticks\":\"\"}}}],\"scatterternary\":[{\"type\":\"scatterternary\",\"marker\":{\"colorbar\":{\"outlinewidth\":0,\"ticks\":\"\"}}}],\"scattercarpet\":[{\"type\":\"scattercarpet\",\"marker\":{\"colorbar\":{\"outlinewidth\":0,\"ticks\":\"\"}}}],\"carpet\":[{\"aaxis\":{\"endlinecolor\":\"#2a3f5f\",\"gridcolor\":\"white\",\"linecolor\":\"white\",\"minorgridcolor\":\"white\",\"startlinecolor\":\"#2a3f5f\"},\"baxis\":{\"endlinecolor\":\"#2a3f5f\",\"gridcolor\":\"white\",\"linecolor\":\"white\",\"minorgridcolor\":\"white\",\"startlinecolor\":\"#2a3f5f\"},\"type\":\"carpet\"}],\"table\":[{\"cells\":{\"fill\":{\"color\":\"#EBF0F8\"},\"line\":{\"color\":\"white\"}},\"header\":{\"fill\":{\"color\":\"#C8D4E3\"},\"line\":{\"color\":\"white\"}},\"type\":\"table\"}],\"barpolar\":[{\"marker\":{\"line\":{\"color\":\"#E5ECF6\",\"width\":0.5},\"pattern\":{\"fillmode\":\"overlay\",\"size\":10,\"solidity\":0.2}},\"type\":\"barpolar\"}],\"pie\":[{\"automargin\":true,\"type\":\"pie\"}]},\"layout\":{\"autotypenumbers\":\"strict\",\"colorway\":[\"#636efa\",\"#EF553B\",\"#00cc96\",\"#ab63fa\",\"#FFA15A\",\"#19d3f3\",\"#FF6692\",\"#B6E880\",\"#FF97FF\",\"#FECB52\"],\"font\":{\"color\":\"#2a3f5f\"},\"hovermode\":\"closest\",\"hoverlabel\":{\"align\":\"left\"},\"paper_bgcolor\":\"white\",\"plot_bgcolor\":\"#E5ECF6\",\"polar\":{\"bgcolor\":\"#E5ECF6\",\"angularaxis\":{\"gridcolor\":\"white\",\"linecolor\":\"white\",\"ticks\":\"\"},\"radialaxis\":{\"gridcolor\":\"white\",\"linecolor\":\"white\",\"ticks\":\"\"}},\"ternary\":{\"bgcolor\":\"#E5ECF6\",\"aaxis\":{\"gridcolor\":\"white\",\"linecolor\":\"white\",\"ticks\":\"\"},\"baxis\":{\"gridcolor\":\"white\",\"linecolor\":\"white\",\"ticks\":\"\"},\"caxis\":{\"gridcolor\":\"white\",\"linecolor\":\"white\",\"ticks\":\"\"}},\"coloraxis\":{\"colorbar\":{\"outlinewidth\":0,\"ticks\":\"\"}},\"colorscale\":{\"sequential\":[[0.0,\"#0d0887\"],[0.1111111111111111,\"#46039f\"],[0.2222222222222222,\"#7201a8\"],[0.3333333333333333,\"#9c179e\"],[0.4444444444444444,\"#bd3786\"],[0.5555555555555556,\"#d8576b\"],[0.6666666666666666,\"#ed7953\"],[0.7777777777777778,\"#fb9f3a\"],[0.8888888888888888,\"#fdca26\"],[1.0,\"#f0f921\"]],\"sequentialminus\":[[0.0,\"#0d0887\"],[0.1111111111111111,\"#46039f\"],[0.2222222222222222,\"#7201a8\"],[0.3333333333333333,\"#9c179e\"],[0.4444444444444444,\"#bd3786\"],[0.5555555555555556,\"#d8576b\"],[0.6666666666666666,\"#ed7953\"],[0.7777777777777778,\"#fb9f3a\"],[0.8888888888888888,\"#fdca26\"],[1.0,\"#f0f921\"]],\"diverging\":[[0,\"#8e0152\"],[0.1,\"#c51b7d\"],[0.2,\"#de77ae\"],[0.3,\"#f1b6da\"],[0.4,\"#fde0ef\"],[0.5,\"#f7f7f7\"],[0.6,\"#e6f5d0\"],[0.7,\"#b8e186\"],[0.8,\"#7fbc41\"],[0.9,\"#4d9221\"],[1,\"#276419\"]]},\"xaxis\":{\"gridcolor\":\"white\",\"linecolor\":\"white\",\"ticks\":\"\",\"title\":{\"standoff\":15},\"zerolinecolor\":\"white\",\"automargin\":true,\"zerolinewidth\":2},\"yaxis\":{\"gridcolor\":\"white\",\"linecolor\":\"white\",\"ticks\":\"\",\"title\":{\"standoff\":15},\"zerolinecolor\":\"white\",\"automargin\":true,\"zerolinewidth\":2},\"scene\":{\"xaxis\":{\"backgroundcolor\":\"#E5ECF6\",\"gridcolor\":\"white\",\"linecolor\":\"white\",\"showbackground\":true,\"ticks\":\"\",\"zerolinecolor\":\"white\",\"gridwidth\":2},\"yaxis\":{\"backgroundcolor\":\"#E5ECF6\",\"gridcolor\":\"white\",\"linecolor\":\"white\",\"showbackground\":true,\"ticks\":\"\",\"zerolinecolor\":\"white\",\"gridwidth\":2},\"zaxis\":{\"backgroundcolor\":\"#E5ECF6\",\"gridcolor\":\"white\",\"linecolor\":\"white\",\"showbackground\":true,\"ticks\":\"\",\"zerolinecolor\":\"white\",\"gridwidth\":2}},\"shapedefaults\":{\"line\":{\"color\":\"#2a3f5f\"}},\"annotationdefaults\":{\"arrowcolor\":\"#2a3f5f\",\"arrowhead\":0,\"arrowwidth\":1},\"geo\":{\"bgcolor\":\"white\",\"landcolor\":\"#E5ECF6\",\"subunitcolor\":\"white\",\"showland\":true,\"showlakes\":true,\"lakecolor\":\"white\"},\"title\":{\"x\":0.05},\"mapbox\":{\"style\":\"light\"}}},\"xaxis\":{\"anchor\":\"y\",\"domain\":[0.0,1.0],\"title\":{\"text\":\"\\u0411\\u0440\\u0435\\u043d\\u0434 AX 1\"}},\"yaxis\":{\"anchor\":\"x\",\"domain\":[0.0,1.0],\"title\":{\"text\":\"\\u041c\\u0430\\u0440\\u0436\\u0438\\u043d\\u0430\\u043b\\u044c\\u043d\\u043e\\u0441\\u0442\\u044c_14\"}},\"legend\":{\"tracegroupgap\":0},\"title\":{\"text\":\"\\u041c\\u0430\\u0440\\u0436\\u0438\\u043d\\u0430\\u043b\\u044c\\u043d\\u043e\\u0441\\u0442\\u044c \\u043f\\u043e \\u0431\\u0440\\u0435\\u043d\\u0434\\u0430\\u043c \\u0437\\u0430 \\u043d\\u0435\\u0434\\u0435\\u043b\\u0438 14 \\u0438 15\"},\"barmode\":\"relative\"},                        {\"responsive\": true}                    ).then(function(){\n",
       "                            \n",
       "var gd = document.getElementById('6f68cde2-c792-49b4-a298-e4e0d63ec8ec');\n",
       "var x = new MutationObserver(function (mutations, observer) {{\n",
       "        var display = window.getComputedStyle(gd).display;\n",
       "        if (!display || display === 'none') {{\n",
       "            console.log([gd, 'removed!']);\n",
       "            Plotly.purge(gd);\n",
       "            observer.disconnect();\n",
       "        }}\n",
       "}});\n",
       "\n",
       "// Listen for the removal of the full notebook cells\n",
       "var notebookContainer = gd.closest('#notebook-container');\n",
       "if (notebookContainer) {{\n",
       "    x.observe(notebookContainer, {childList: true});\n",
       "}}\n",
       "\n",
       "// Listen for the clearing of the current output cell\n",
       "var outputEl = gd.closest('.output');\n",
       "if (outputEl) {{\n",
       "    x.observe(outputEl, {childList: true});\n",
       "}}\n",
       "\n",
       "                        })                };                });            </script>        </div>"
      ]
     },
     "metadata": {},
     "output_type": "display_data"
    }
   ],
   "source": [
    "fig = px.bar(df_merge, x='Бренд AX 1', y='Маржинальность_14', title='Маржинальность по брендам за недели 14 и 15')\n",
    "fig.add_trace(px.bar(df_merge, x='Бренд AX 1', y='Маржинальность_15', opacity=0.3).data[0])"
   ]
  },
  {
   "cell_type": "markdown",
   "id": "30028745",
   "metadata": {},
   "source": [
    "**МАРЖИНАЛЬНОСТЬ**\n",
    "\n",
    "Маржинальность представленых брендов в пределах от 8 до 30%. \n",
    "У брендов, лидирующих по выручке и марже, маржинальность порядка: \n",
    "`Shiseido` 17%,  `Clarins` 9-15%, `Сlinique` 17-14%, `Estee Lauder` 10%, `BABOR` 15%, `Payot` 22-21% "
   ]
  },
  {
   "cell_type": "code",
   "execution_count": 50,
   "id": "1b7a8244",
   "metadata": {},
   "outputs": [
    {
     "name": "stdout",
     "output_type": "stream",
     "text": [
      "Общая маржинальность за 14 неделю составляет 14.63 %\n",
      "Общая маржинальность за 15 неделю составляет 15.45 %\n",
      "Выручка за 14 неделю больше на  256281073.49 р. что соответсвует 3.03 %\n",
      "Маржа за 15 неделю больше на  30198600.7 р. что соответсвует 2.38 %\n"
     ]
    }
   ],
   "source": [
    "revenue_14 = df_week_14['Выручка'].sum()\n",
    "margin_14 = df_week_14['Маржа'].sum()\n",
    "marginality_14 = (margin_14/revenue_14)*100\n",
    "\n",
    "revenue_15 = df_week_15['Выручка'].sum()\n",
    "margin_15 = df_week_15['Маржа'].sum()\n",
    "marginality_15 = (margin_15/revenue_15)*100\n",
    "\n",
    "print('Общая маржинальность за 14 неделю составляет', round(marginality_14, 2), '%')\n",
    "print('Общая маржинальность за 15 неделю составляет', round(marginality_15, 2), '%')\n",
    "\n",
    "print('Выручка за 14 неделю больше на ', round(revenue_14-revenue_15, 2), \\\n",
    "      'р. что соответсвует', round(100*(revenue_14-revenue_15)/revenue_14, 2) ,'%')\n",
    "print('Маржа за 15 неделю больше на ', round(margin_15-margin_14, 2), \\\n",
    "      'р. что соответсвует', round(100*(margin_15-margin_14)/margin_15, 2) ,'%')"
   ]
  },
  {
   "cell_type": "markdown",
   "id": "a787c4ee",
   "metadata": {},
   "source": [
    "### **ВЫВОД:**\n",
    "\n",
    "***Проанализировать продажи в разрезе брендов за прошлую и позапрошлую недели, написать короткую аналитическую записику об изменениях и их причинах по выручке и маржинальности.***\n",
    "\n",
    "* Бренды `Shiseido, Clarins и Clinique` играют ключевую роль в формировании выручки и маржи. Их доля в общем объеме превышает `30% как по выручке, так и по марже`, что свидетельствует об их важном вкладе в финансовые результаты. Также бренды `Estee Lauder, BABOR и Payot` вносят существенный вклад в выручку и маржу компании. \n",
    "\n",
    "Рассмотрим детальнее:\n",
    "\n",
    "* Для бренда `Shiseido` выручка и маржа к 15 неделе снизились, маржинальность на прежнем уровне.\n",
    "* `Сlinique` снизились и выручка, и маржа, и маржинальность.\n",
    "\n",
    "* `Clarins` снижение выручки на 3,8%,при этом увеличение маржи на 1,4%, что связано с 5% ростом маржинальности для бренда. \n",
    "* Для `Payot` наблюдаем повышение маржи при снижении маржинальности, что свидетельствует о возросших издержках, возможно произошло изменение закупочной цены, возможно снижение маржинальности произошло в связи с изменением стратегии ценообразования или изменением уровня конкуренции. Отметим, что для `Payot` маржинальность выше среднего среди брендов-лидеров.\n",
    "\n",
    "\n",
    "\n",
    "* Изменения в доле выручки и маржинальности брендов свидетельствуют о динамике их конкурентной позиции на рынке. Эти данные могут быть полезны для стратегического планирования и управления портфелем брендов компании.\n",
    "\n",
    "\n",
    "\n",
    "***Как изменилась маржинальность продаж в целом и какие основные факторы на это повлияли, какое действие может дать \"быстрый\" результат?***\n",
    "\n",
    "* Повышение общей маржинальности (~1%) говорит о том, что издержки уменьшаются относительно выручки, что является положительным сигналом для бизнеса. Повышение маржинальности произошло в ответ на увеличение маржи.\n",
    "\n",
    "* Первично размер маржинальности зависит от себестоимости производства. Также влияние оказывают следующие факторы: `спрос`, `конкуренция`, платежеспособность аудитории, внешние факторы.\n",
    "\n",
    "* В свою очередь, мы можем повлиять на маржинальность через спрос и конкуренцию: изучить цены на те же продукты у конкурентов и `оценить необходимость корректировки цен, их увеличения или введения дополнительных скидок`.\n",
    "\n",
    "\n",
    "\n",
    "* Для достижения \"быстрого\" результата в прибыли в первую очередь стоит обратить внимание на высокодоходные бренды с высокой маржинальностью (В нашем случае лидерами являются: Shiseido, Clarins, Clinique, Estee Lauder, BABOR, Payot). Изучить цены на аналогичные продукты у конкурентов и скорректировать собственные цены: повысить цены на низкомаржинальные товары и снизить на высокомаржинальные товары. Т.е. для увеличения прибыли в кратчайшие сроки эффективно увеличение общей маржинальности за счет оптимизации ценовой стратегии.\n",
    "\n",
    "\n",
    "* Для более отсроченного результата - детальнее изучить бренды, приносящие меньшую выручку и маржу. Определить, в чем могут быть наши преимущества, пересмотреть стратегию ценообразования, выяснить, представлены ли бренды у конкурентов, есть ли в наличии, доступна ли доставка или продукт можно купить только офлайн, если товар недоступен, оценить - на протяжении какого времени и т.д. \n"
   ]
  },
  {
   "cell_type": "markdown",
   "id": "9dda7598",
   "metadata": {},
   "source": [
    "<a id='3'></a>\n",
    "## Задача 3"
   ]
  },
  {
   "cell_type": "code",
   "execution_count": 51,
   "id": "35b2be0d",
   "metadata": {},
   "outputs": [],
   "source": [
    "import pandas as pd\n",
    "import sqlite3"
   ]
  },
  {
   "cell_type": "code",
   "execution_count": 52,
   "id": "0dd6f7bd",
   "metadata": {},
   "outputs": [
    {
     "data": {
      "text/html": [
       "<div>\n",
       "<style scoped>\n",
       "    .dataframe tbody tr th:only-of-type {\n",
       "        vertical-align: middle;\n",
       "    }\n",
       "\n",
       "    .dataframe tbody tr th {\n",
       "        vertical-align: top;\n",
       "    }\n",
       "\n",
       "    .dataframe thead th {\n",
       "        text-align: right;\n",
       "    }\n",
       "</style>\n",
       "<table border=\"1\" class=\"dataframe\">\n",
       "  <thead>\n",
       "    <tr style=\"text-align: right;\">\n",
       "      <th></th>\n",
       "      <th>cid</th>\n",
       "      <th>name</th>\n",
       "      <th>type</th>\n",
       "      <th>notnull</th>\n",
       "      <th>dflt_value</th>\n",
       "      <th>pk</th>\n",
       "    </tr>\n",
       "  </thead>\n",
       "  <tbody>\n",
       "    <tr>\n",
       "      <th>0</th>\n",
       "      <td>0</td>\n",
       "      <td>itemid</td>\n",
       "      <td>TEXT</td>\n",
       "      <td>0</td>\n",
       "      <td>None</td>\n",
       "      <td>0</td>\n",
       "    </tr>\n",
       "    <tr>\n",
       "      <th>1</th>\n",
       "      <td>1</td>\n",
       "      <td>name_ax</td>\n",
       "      <td>TEXT</td>\n",
       "      <td>0</td>\n",
       "      <td>None</td>\n",
       "      <td>0</td>\n",
       "    </tr>\n",
       "    <tr>\n",
       "      <th>2</th>\n",
       "      <td>2</td>\n",
       "      <td>brand_name_ax</td>\n",
       "      <td>TEXT</td>\n",
       "      <td>0</td>\n",
       "      <td>None</td>\n",
       "      <td>0</td>\n",
       "    </tr>\n",
       "    <tr>\n",
       "      <th>3</th>\n",
       "      <td>3</td>\n",
       "      <td>category</td>\n",
       "      <td>TEXT</td>\n",
       "      <td>0</td>\n",
       "      <td>None</td>\n",
       "      <td>0</td>\n",
       "    </tr>\n",
       "  </tbody>\n",
       "</table>\n",
       "</div>"
      ],
      "text/plain": [
       "   cid           name  type  notnull dflt_value  pk\n",
       "0    0         itemid  TEXT        0       None   0\n",
       "1    1        name_ax  TEXT        0       None   0\n",
       "2    2  brand_name_ax  TEXT        0       None   0\n",
       "3    3       category  TEXT        0       None   0"
      ]
     },
     "execution_count": 52,
     "metadata": {},
     "output_type": "execute_result"
    }
   ],
   "source": [
    "con = sqlite3.connect(\"/Users/andrey/Desktop/Kate/jup/notebook_project/GA_Zelenina_test/ga.sqlite\")\n",
    "df = pd.read_sql_query(\"PRAGMA table_info('flatproducts')\", con)\n",
    "df"
   ]
  },
  {
   "cell_type": "markdown",
   "id": "f74dad80",
   "metadata": {},
   "source": [
    "Для проверки корректности запросов была создана БД с примерами таблиц"
   ]
  },
  {
   "cell_type": "markdown",
   "id": "49d01b5e",
   "metadata": {},
   "source": [
    "### 3.1. Рассчитать `сумму остатков в разрезе категорий товара на 12.12.2021` только для закупаемых товаров (`MTS`).\n"
   ]
  },
  {
   "cell_type": "code",
   "execution_count": 53,
   "id": "1d5590ba",
   "metadata": {},
   "outputs": [
    {
     "data": {
      "text/html": [
       "<div>\n",
       "<style scoped>\n",
       "    .dataframe tbody tr th:only-of-type {\n",
       "        vertical-align: middle;\n",
       "    }\n",
       "\n",
       "    .dataframe tbody tr th {\n",
       "        vertical-align: top;\n",
       "    }\n",
       "\n",
       "    .dataframe thead th {\n",
       "        text-align: right;\n",
       "    }\n",
       "</style>\n",
       "<table border=\"1\" class=\"dataframe\">\n",
       "  <thead>\n",
       "    <tr style=\"text-align: right;\">\n",
       "      <th></th>\n",
       "      <th>категория товара</th>\n",
       "      <th>сумма остатков на 12.12.2021 для MTS</th>\n",
       "    </tr>\n",
       "  </thead>\n",
       "  <tbody>\n",
       "    <tr>\n",
       "      <th>0</th>\n",
       "      <td>Декоративная косметика</td>\n",
       "      <td>19</td>\n",
       "    </tr>\n",
       "    <tr>\n",
       "      <th>1</th>\n",
       "      <td>Уходовая косметика</td>\n",
       "      <td>19</td>\n",
       "    </tr>\n",
       "  </tbody>\n",
       "</table>\n",
       "</div>"
      ],
      "text/plain": [
       "         категория товара  сумма остатков на 12.12.2021 для MTS\n",
       "0  Декоративная косметика                                    19\n",
       "1      Уходовая косметика                                    19"
      ]
     },
     "execution_count": 53,
     "metadata": {},
     "output_type": "execute_result"
    }
   ],
   "source": [
    "query = ''' \n",
    "SELECT p.category AS \"категория товара\",\n",
    "    SUM(f.balance) AS \"сумма остатков на 12.12.2021 для MTS\"\n",
    "FROM cloud_facts AS f\n",
    "JOIN cloud_skulist AS s ON s.itemid=f.itemid\n",
    "JOIN flatproducts AS p ON p.itemid=f.itemid\n",
    "WHERE f.date = '2021-12-12' AND s.state = 'MTS'\n",
    "GROUP BY p.category\n",
    "'''\n",
    "\n",
    "df = pd.read_sql_query(query, con)\n",
    "df"
   ]
  },
  {
   "cell_type": "markdown",
   "id": "894927d9",
   "metadata": {},
   "source": [
    "### 3.2. Рассчитать `по дням` сколько товаров доступно к заказу (`MTS`) и какой `средний остаток` по ним на каждый день.\n"
   ]
  },
  {
   "cell_type": "code",
   "execution_count": 54,
   "id": "cc83361d",
   "metadata": {},
   "outputs": [
    {
     "data": {
      "text/html": [
       "<div>\n",
       "<style scoped>\n",
       "    .dataframe tbody tr th:only-of-type {\n",
       "        vertical-align: middle;\n",
       "    }\n",
       "\n",
       "    .dataframe tbody tr th {\n",
       "        vertical-align: top;\n",
       "    }\n",
       "\n",
       "    .dataframe thead th {\n",
       "        text-align: right;\n",
       "    }\n",
       "</style>\n",
       "<table border=\"1\" class=\"dataframe\">\n",
       "  <thead>\n",
       "    <tr style=\"text-align: right;\">\n",
       "      <th></th>\n",
       "      <th>дата</th>\n",
       "      <th>товаров доступно к заказу</th>\n",
       "      <th>средний остаток в день</th>\n",
       "    </tr>\n",
       "  </thead>\n",
       "  <tbody>\n",
       "    <tr>\n",
       "      <th>0</th>\n",
       "      <td>2021-12-12</td>\n",
       "      <td>5</td>\n",
       "      <td>6.80</td>\n",
       "    </tr>\n",
       "    <tr>\n",
       "      <th>1</th>\n",
       "      <td>2021-12-13</td>\n",
       "      <td>12</td>\n",
       "      <td>4.50</td>\n",
       "    </tr>\n",
       "    <tr>\n",
       "      <th>2</th>\n",
       "      <td>2021-12-14</td>\n",
       "      <td>8</td>\n",
       "      <td>10.25</td>\n",
       "    </tr>\n",
       "  </tbody>\n",
       "</table>\n",
       "</div>"
      ],
      "text/plain": [
       "         дата  товаров доступно к заказу  средний остаток в день\n",
       "0  2021-12-12                          5                    6.80\n",
       "1  2021-12-13                         12                    4.50\n",
       "2  2021-12-14                          8                   10.25"
      ]
     },
     "execution_count": 54,
     "metadata": {},
     "output_type": "execute_result"
    }
   ],
   "source": [
    "query = ''' \n",
    "\n",
    "SELECT  s.date AS \"дата\", \n",
    "    COUNT(s.itemid) AS \"товаров доступно к заказу\", \n",
    "    ROUND(AVG(f.balance), 2) AS \"средний остаток в день\"\n",
    "FROM cloud_skulist AS s\n",
    "JOIN cloud_facts AS f ON s.itemid=f.itemid\n",
    "WHERE  s.state = 'MTS'\n",
    "GROUP BY s.date \n",
    "\n",
    "'''\n",
    "df = pd.read_sql_query(query, con)\n",
    "df"
   ]
  },
  {
   "cell_type": "markdown",
   "id": "1edcc835",
   "metadata": {},
   "source": [
    "### 3.3. Рассчитать таблицу:  `код товара`, `наименование товара`, `категорию товара`, `первая дата появления остатка`, `количество остатков на 31.12.2021`, `средний остаток для sku по категории товара`.\n"
   ]
  },
  {
   "cell_type": "code",
   "execution_count": 55,
   "id": "1117c84b",
   "metadata": {},
   "outputs": [
    {
     "data": {
      "text/html": [
       "<div>\n",
       "<style scoped>\n",
       "    .dataframe tbody tr th:only-of-type {\n",
       "        vertical-align: middle;\n",
       "    }\n",
       "\n",
       "    .dataframe tbody tr th {\n",
       "        vertical-align: top;\n",
       "    }\n",
       "\n",
       "    .dataframe thead th {\n",
       "        text-align: right;\n",
       "    }\n",
       "</style>\n",
       "<table border=\"1\" class=\"dataframe\">\n",
       "  <thead>\n",
       "    <tr style=\"text-align: right;\">\n",
       "      <th></th>\n",
       "      <th>код товара</th>\n",
       "      <th>наименование товара</th>\n",
       "      <th>категорию товара</th>\n",
       "      <th>первая дата появления остатка</th>\n",
       "      <th>количество остатков на 31.12.2021</th>\n",
       "      <th>средний остаток для sku</th>\n",
       "    </tr>\n",
       "  </thead>\n",
       "  <tbody>\n",
       "    <tr>\n",
       "      <th>0</th>\n",
       "      <td>14011400047</td>\n",
       "      <td>Clarins Помада</td>\n",
       "      <td>Декоративная косметика</td>\n",
       "      <td>2021-12-14</td>\n",
       "      <td>0</td>\n",
       "      <td>8.00</td>\n",
       "    </tr>\n",
       "    <tr>\n",
       "      <th>1</th>\n",
       "      <td>14012900005</td>\n",
       "      <td>Clarins Карандаш для глаз</td>\n",
       "      <td>Декоративная косметика</td>\n",
       "      <td>2021-12-12</td>\n",
       "      <td>0</td>\n",
       "      <td>19.00</td>\n",
       "    </tr>\n",
       "    <tr>\n",
       "      <th>2</th>\n",
       "      <td>15110900016</td>\n",
       "      <td>SHISEIDO Крем д/упругости</td>\n",
       "      <td>Уходовая косметика</td>\n",
       "      <td>2021-12-13</td>\n",
       "      <td>0</td>\n",
       "      <td>5.00</td>\n",
       "    </tr>\n",
       "    <tr>\n",
       "      <th>3</th>\n",
       "      <td>15111300006</td>\n",
       "      <td>SHISEIDO Крем</td>\n",
       "      <td>Уходовая косметика</td>\n",
       "      <td>2021-12-12</td>\n",
       "      <td>0</td>\n",
       "      <td>5.00</td>\n",
       "    </tr>\n",
       "    <tr>\n",
       "      <th>4</th>\n",
       "      <td>15111300017</td>\n",
       "      <td>SHISEIDO Future Solution LX</td>\n",
       "      <td>Уходовая косметика</td>\n",
       "      <td>2021-12-12</td>\n",
       "      <td>0</td>\n",
       "      <td>3.00</td>\n",
       "    </tr>\n",
       "    <tr>\n",
       "      <th>5</th>\n",
       "      <td>19000013047</td>\n",
       "      <td>CLARINS Крем тональный</td>\n",
       "      <td>Декоративная косметика</td>\n",
       "      <td>2021-12-13</td>\n",
       "      <td>0</td>\n",
       "      <td>12.00</td>\n",
       "    </tr>\n",
       "    <tr>\n",
       "      <th>6</th>\n",
       "      <td>19760336592</td>\n",
       "      <td>SHISEIDO флюид</td>\n",
       "      <td>Уходовая косметика</td>\n",
       "      <td>0</td>\n",
       "      <td>0</td>\n",
       "      <td>2.00</td>\n",
       "    </tr>\n",
       "    <tr>\n",
       "      <th>7</th>\n",
       "      <td>3226300004</td>\n",
       "      <td>Vivienne Sabo Карандаш</td>\n",
       "      <td>Декоративная косметика</td>\n",
       "      <td>0</td>\n",
       "      <td>0</td>\n",
       "      <td>6.00</td>\n",
       "    </tr>\n",
       "    <tr>\n",
       "      <th>8</th>\n",
       "      <td>3234800007</td>\n",
       "      <td>Vivienne Sabo Крем тональный</td>\n",
       "      <td>Уходовая косметика</td>\n",
       "      <td>2021-12-14</td>\n",
       "      <td>15</td>\n",
       "      <td>24.00</td>\n",
       "    </tr>\n",
       "  </tbody>\n",
       "</table>\n",
       "</div>"
      ],
      "text/plain": [
       "    код товара           наименование товара        категорию товара  \\\n",
       "0  14011400047               Clarins Помада   Декоративная косметика   \n",
       "1  14012900005    Clarins Карандаш для глаз   Декоративная косметика   \n",
       "2  15110900016     SHISEIDO Крем д/упругости      Уходовая косметика   \n",
       "3  15111300006                SHISEIDO Крем       Уходовая косметика   \n",
       "4  15111300017  SHISEIDO Future Solution LX       Уходовая косметика   \n",
       "5  19000013047       CLARINS Крем тональный   Декоративная косметика   \n",
       "6  19760336592               SHISEIDO флюид       Уходовая косметика   \n",
       "7   3226300004        Vivienne Sabo Карандаш  Декоративная косметика   \n",
       "8   3234800007  Vivienne Sabo Крем тональный      Уходовая косметика   \n",
       "\n",
       "  первая дата появления остатка  количество остатков на 31.12.2021  \\\n",
       "0                    2021-12-14                                  0   \n",
       "1                    2021-12-12                                  0   \n",
       "2                    2021-12-13                                  0   \n",
       "3                    2021-12-12                                  0   \n",
       "4                    2021-12-12                                  0   \n",
       "5                    2021-12-13                                  0   \n",
       "6                             0                                  0   \n",
       "7                             0                                  0   \n",
       "8                    2021-12-14                                 15   \n",
       "\n",
       "   средний остаток для sku  \n",
       "0                     8.00  \n",
       "1                    19.00  \n",
       "2                     5.00  \n",
       "3                     5.00  \n",
       "4                     3.00  \n",
       "5                    12.00  \n",
       "6                     2.00  \n",
       "7                     6.00  \n",
       "8                    24.00  "
      ]
     },
     "execution_count": 55,
     "metadata": {},
     "output_type": "execute_result"
    }
   ],
   "source": [
    "query = '''\n",
    "WITH balance_to_date AS (\n",
    "        SELECT balance, itemid FROM cloud_facts where date = DATE('2021-12-31')\n",
    "                        )\n",
    "\n",
    "SELECT \n",
    "    f_p.itemid AS \"код товара\",\n",
    "    f_p.name_ax AS \"наименование товара\", \n",
    "    f_p.category AS \"категорию товара\", \n",
    "    IIF(c_f.balance > 0, MIN(c_f.date), 0) AS \"первая дата появления остатка\", \n",
    "    IIF(b_f.balance >= 0, b_f.balance, 0) AS \"количество остатков на 31.12.2021\",\n",
    "ROUND(AVG(c_f.balance)) \"средний остаток для sku\"\n",
    "FROM flatproducts as f_p\n",
    "JOIN cloud_facts as c_f ON c_f.itemid = f_p.itemid\n",
    "LEFT JOIN balance_to_date as b_f ON b_f.itemid = f_p.itemid\n",
    "GROUP BY c_f.itemid, f_p.name_ax, f_p.category\n",
    "'''\n",
    "df = pd.read_sql_query(query, con)\n",
    "df"
   ]
  },
  {
   "cell_type": "markdown",
   "id": "7d7cf09d",
   "metadata": {},
   "source": [
    "<a id='4'></a>\n",
    "## Задача 4\n",
    "### Рассчитать `WAU` скользящим окном в неделю с шагом в 1 день, при этом текущая дата должна включаться в расчет.\n",
    "`WAU` - кол-во активных пользователей сайта.\n",
    "\n",
    "*Например, для даты 19.12.2023 нужно рассчитать WAU за период 13.12.2023-19.12.2023,\n",
    "для  20.12.2023  - 14.12.2023-20.12.2023\n",
    "для  21.12.2023  - 15.12.2023-21.12.2023\n",
    "и т.д."
   ]
  },
  {
   "cell_type": "raw",
   "id": "8113d0b7",
   "metadata": {},
   "source": [
    "WITH total_daily_users AS (\n",
    "        SELECT DATE(timestamp) AS date, count(DISTINCT user_id) AS count\n",
    "        FROM site_activity\n",
    "        GROUP BY DATE(timestamp)\n",
    "        ORDER BY DATE(timestamp)\n",
    ")\n",
    "\n",
    "SELECT\n",
    "date,\n",
    "SUM(count) OVER (ORDER BY date ROWS BETWEEN 6 PRECEDING AND CURRENT ROW) as WAU\n",
    "FROM total_daily_users\n",
    "ORDER BY date;"
   ]
  },
  {
   "cell_type": "markdown",
   "id": "b86adcd9",
   "metadata": {},
   "source": [
    "*В связи с ограниченным функционалом оконных функций в Sqllite (невозможность работы с диапазонами дат), решение представлено на диалекте PostgeSQL."
   ]
  }
 ],
 "metadata": {
  "kernelspec": {
   "display_name": "Python 3 (ipykernel)",
   "language": "python",
   "name": "python3"
  },
  "language_info": {
   "codemirror_mode": {
    "name": "ipython",
    "version": 3
   },
   "file_extension": ".py",
   "mimetype": "text/x-python",
   "name": "python",
   "nbconvert_exporter": "python",
   "pygments_lexer": "ipython3",
   "version": "3.9.8"
  }
 },
 "nbformat": 4,
 "nbformat_minor": 5
}
